{
 "cells": [
  {
   "cell_type": "code",
   "execution_count": 434,
   "id": "7223a39b-266d-4c05-bad1-286e6fdc9baf",
   "metadata": {},
   "outputs": [
    {
     "name": "stdout",
     "output_type": "stream",
     "text": [
      "Requirement already satisfied: plotly in c:\\users\\rflip\\anaconda3\\lib\\site-packages (5.22.0)\n",
      "Requirement already satisfied: tenacity>=6.2.0 in c:\\users\\rflip\\anaconda3\\lib\\site-packages (from plotly) (8.2.2)\n",
      "Requirement already satisfied: packaging in c:\\users\\rflip\\anaconda3\\lib\\site-packages (from plotly) (23.2)\n"
     ]
    }
   ],
   "source": [
    "!pip install plotly"
   ]
  },
  {
   "cell_type": "code",
   "execution_count": 435,
   "id": "84104e56-f0ad-4026-82f5-1bdae613d295",
   "metadata": {},
   "outputs": [],
   "source": [
    "import pandas as pd\n",
    "import matplotlib.pyplot as plt\n",
    "import plotly.express as px\n",
    "import plotly.graph_objects as go\n",
    "import seaborn as sns\n",
    "from statsmodels.tsa.seasonal import seasonal_decompose\n",
    "from statsmodels.tsa.arima.model import ARIMA\n",
    "import plotly.graph_objs as go"
   ]
  },
  {
   "cell_type": "code",
   "execution_count": 436,
   "id": "cdd8127e-c57a-4fb6-8542-7e233e7133c0",
   "metadata": {},
   "outputs": [
    {
     "data": {
      "text/html": [
       "<div>\n",
       "<style scoped>\n",
       "    .dataframe tbody tr th:only-of-type {\n",
       "        vertical-align: middle;\n",
       "    }\n",
       "\n",
       "    .dataframe tbody tr th {\n",
       "        vertical-align: top;\n",
       "    }\n",
       "\n",
       "    .dataframe thead th {\n",
       "        text-align: right;\n",
       "    }\n",
       "</style>\n",
       "<table border=\"1\" class=\"dataframe\">\n",
       "  <thead>\n",
       "    <tr style=\"text-align: right;\">\n",
       "      <th></th>\n",
       "      <th>product_id</th>\n",
       "      <th>product_position</th>\n",
       "      <th>promotion</th>\n",
       "      <th>seasonal</th>\n",
       "      <th>sales_volume</th>\n",
       "      <th>sku</th>\n",
       "      <th>name</th>\n",
       "      <th>price</th>\n",
       "      <th>product_category</th>\n",
       "      <th>section</th>\n",
       "      <th>gross_margin</th>\n",
       "      <th>scraped_at</th>\n",
       "    </tr>\n",
       "  </thead>\n",
       "  <tbody>\n",
       "    <tr>\n",
       "      <th>0</th>\n",
       "      <td>143231</td>\n",
       "      <td>Aisle</td>\n",
       "      <td>No</td>\n",
       "      <td>No</td>\n",
       "      <td>2578</td>\n",
       "      <td>311297745-800-2</td>\n",
       "      <td>Technical padded jacket</td>\n",
       "      <td>899</td>\n",
       "      <td>Jackets</td>\n",
       "      <td>MAN</td>\n",
       "      <td>34872</td>\n",
       "      <td>2023-01-03 00:00:00</td>\n",
       "    </tr>\n",
       "    <tr>\n",
       "      <th>1</th>\n",
       "      <td>165786</td>\n",
       "      <td>End-cap</td>\n",
       "      <td>No</td>\n",
       "      <td>Yes</td>\n",
       "      <td>1278</td>\n",
       "      <td>315075917-803-2</td>\n",
       "      <td>Contrast interior sweater</td>\n",
       "      <td>599</td>\n",
       "      <td>Sweaters</td>\n",
       "      <td>MAN</td>\n",
       "      <td>468701</td>\n",
       "      <td>2023-01-03 00:00:00</td>\n",
       "    </tr>\n",
       "    <tr>\n",
       "      <th>2</th>\n",
       "      <td>125938</td>\n",
       "      <td>Aisle</td>\n",
       "      <td>Yes</td>\n",
       "      <td>Yes</td>\n",
       "      <td>1204</td>\n",
       "      <td>313890680-450-2</td>\n",
       "      <td>Oversized knit sweater</td>\n",
       "      <td>499</td>\n",
       "      <td>Sweaters</td>\n",
       "      <td>WOMAN</td>\n",
       "      <td>414452</td>\n",
       "      <td>2023-01-04 00:00:00</td>\n",
       "    </tr>\n",
       "    <tr>\n",
       "      <th>3</th>\n",
       "      <td>168837</td>\n",
       "      <td>Aisle</td>\n",
       "      <td>No</td>\n",
       "      <td>No</td>\n",
       "      <td>665</td>\n",
       "      <td>311292194-731-2</td>\n",
       "      <td>Faux suede jacket</td>\n",
       "      <td>899</td>\n",
       "      <td>Jackets</td>\n",
       "      <td>MAN</td>\n",
       "      <td>135188</td>\n",
       "      <td>2023-01-05 00:00:00</td>\n",
       "    </tr>\n",
       "    <tr>\n",
       "      <th>4</th>\n",
       "      <td>158781</td>\n",
       "      <td>End-cap</td>\n",
       "      <td>Yes</td>\n",
       "      <td>Yes</td>\n",
       "      <td>2443</td>\n",
       "      <td>318209963-800-2</td>\n",
       "      <td>Faux suede overshirt</td>\n",
       "      <td>699</td>\n",
       "      <td>Jackets</td>\n",
       "      <td>MAN</td>\n",
       "      <td>286124</td>\n",
       "      <td>2023-01-05 00:00:00</td>\n",
       "    </tr>\n",
       "  </tbody>\n",
       "</table>\n",
       "</div>"
      ],
      "text/plain": [
       "   product_id product_position promotion seasonal  sales_volume  \\\n",
       "0      143231            Aisle        No       No          2578   \n",
       "1      165786          End-cap        No      Yes          1278   \n",
       "2      125938            Aisle       Yes      Yes          1204   \n",
       "3      168837            Aisle        No       No           665   \n",
       "4      158781          End-cap       Yes      Yes          2443   \n",
       "\n",
       "               sku                       name  price product_category section  \\\n",
       "0  311297745-800-2    Technical padded jacket    899          Jackets     MAN   \n",
       "1  315075917-803-2  Contrast interior sweater    599         Sweaters     MAN   \n",
       "2  313890680-450-2     Oversized knit sweater    499         Sweaters   WOMAN   \n",
       "3  311292194-731-2          Faux suede jacket    899          Jackets     MAN   \n",
       "4  318209963-800-2       Faux suede overshirt    699          Jackets     MAN   \n",
       "\n",
       "   gross_margin           scraped_at  \n",
       "0         34872  2023-01-03 00:00:00  \n",
       "1        468701  2023-01-03 00:00:00  \n",
       "2        414452  2023-01-04 00:00:00  \n",
       "3        135188  2023-01-05 00:00:00  \n",
       "4        286124  2023-01-05 00:00:00  "
      ]
     },
     "execution_count": 436,
     "metadata": {},
     "output_type": "execute_result"
    }
   ],
   "source": [
    "data = pd.read_csv('zara.csv')\n",
    "data.head()"
   ]
  },
  {
   "cell_type": "markdown",
   "id": "73a76b52-fca9-4e57-a0de-2cdf80917f6a",
   "metadata": {},
   "source": [
    "<p style=\"font-family: 'Arial', sans-serif; font-size: 20px; font-weight: 500;\">Business problems that can be solved using this dataset:</p>\n",
    "\n",
    "\n"
   ]
  },
  {
   "cell_type": "markdown",
   "id": "7ecd0b64-eeca-4b7c-bc0b-d2b7ec674d73",
   "metadata": {},
   "source": [
    "    1. Sales Performance Analysis: Which products are excelling in sales, and which are underperforming\n",
    "    2. Profit Margin Analysis: Does the profit margin significantly impact sales?\n",
    "    3. Efficiency of Sales Methods: Which sales product position is more effective Front of Store, Aisle or End - Cap?\n",
    "    4. Price Optimization: Is there a specific price range that achieves better sales than others?\n",
    "    5. Product Portfolio Optimization I: Determine which products are most profitable, segmented by Product Position.\n",
    "    6. Predictive Sales Analysis: Develop a forecast for monthly sales."
   ]
  },
  {
   "cell_type": "markdown",
   "id": "faac9201-b2cf-4542-8507-0dc2bdc04a3a",
   "metadata": {},
   "source": [
    "<p style=\"font-family: 'Arial', sans-serif; font-size: 20px; font-weight: 500;\">Performing Exploratory Data Analysis (EDA)</p>"
   ]
  },
  {
   "cell_type": "code",
   "execution_count": 440,
   "id": "e0c61d69-0a3e-4546-a519-ba2dc1bd8ca2",
   "metadata": {},
   "outputs": [
    {
     "data": {
      "text/plain": [
       "(252, 12)"
      ]
     },
     "execution_count": 440,
     "metadata": {},
     "output_type": "execute_result"
    }
   ],
   "source": [
    "# Show dataframe shape\n",
    "data.shape"
   ]
  },
  {
   "cell_type": "markdown",
   "id": "2dda5fa3-7862-4508-8c1c-ace9bfec4327",
   "metadata": {},
   "source": [
    "#Duplicate Rows\n",
    "data.duplicated().sum()"
   ]
  },
  {
   "cell_type": "markdown",
   "id": "6ea958ad-249f-482d-9b4b-18e65f873862",
   "metadata": {},
   "source": [
    "#Info of the dataset\n",
    "data.info()"
   ]
  },
  {
   "cell_type": "code",
   "execution_count": 443,
   "id": "6871bc72-3f91-4962-ae6c-28e0e969947c",
   "metadata": {},
   "outputs": [
    {
     "data": {
      "text/plain": [
       "product_id          0\n",
       "product_position    0\n",
       "promotion           0\n",
       "seasonal            0\n",
       "sales_volume        0\n",
       "sku                 0\n",
       "name                1\n",
       "price               0\n",
       "product_category    0\n",
       "section             0\n",
       "gross_margin        0\n",
       "scraped_at          0\n",
       "dtype: int64"
      ]
     },
     "execution_count": 443,
     "metadata": {},
     "output_type": "execute_result"
    }
   ],
   "source": [
    "# Show the null values\n",
    "data.isnull().sum()"
   ]
  },
  {
   "cell_type": "code",
   "execution_count": 444,
   "id": "dc8cf2b0-c20d-46f8-8073-1058bd5d7237",
   "metadata": {},
   "outputs": [
    {
     "data": {
      "text/html": [
       "<div>\n",
       "<style scoped>\n",
       "    .dataframe tbody tr th:only-of-type {\n",
       "        vertical-align: middle;\n",
       "    }\n",
       "\n",
       "    .dataframe tbody tr th {\n",
       "        vertical-align: top;\n",
       "    }\n",
       "\n",
       "    .dataframe thead th {\n",
       "        text-align: right;\n",
       "    }\n",
       "</style>\n",
       "<table border=\"1\" class=\"dataframe\">\n",
       "  <thead>\n",
       "    <tr style=\"text-align: right;\">\n",
       "      <th></th>\n",
       "      <th>product_id</th>\n",
       "      <th>product_position</th>\n",
       "      <th>promotion</th>\n",
       "      <th>seasonal</th>\n",
       "      <th>sales_volume</th>\n",
       "      <th>sku</th>\n",
       "      <th>name</th>\n",
       "      <th>price</th>\n",
       "      <th>product_category</th>\n",
       "      <th>section</th>\n",
       "      <th>gross_margin</th>\n",
       "      <th>scraped_at</th>\n",
       "    </tr>\n",
       "  </thead>\n",
       "  <tbody>\n",
       "    <tr>\n",
       "      <th>0</th>\n",
       "      <td>143231</td>\n",
       "      <td>Aisle</td>\n",
       "      <td>No</td>\n",
       "      <td>No</td>\n",
       "      <td>2578</td>\n",
       "      <td>311297745-800-2</td>\n",
       "      <td>Technical padded jacket</td>\n",
       "      <td>899</td>\n",
       "      <td>Jackets</td>\n",
       "      <td>MAN</td>\n",
       "      <td>34872</td>\n",
       "      <td>2023-01-03 00:00:00</td>\n",
       "    </tr>\n",
       "    <tr>\n",
       "      <th>1</th>\n",
       "      <td>165786</td>\n",
       "      <td>End-cap</td>\n",
       "      <td>No</td>\n",
       "      <td>Yes</td>\n",
       "      <td>1278</td>\n",
       "      <td>315075917-803-2</td>\n",
       "      <td>Contrast interior sweater</td>\n",
       "      <td>599</td>\n",
       "      <td>Sweaters</td>\n",
       "      <td>MAN</td>\n",
       "      <td>468701</td>\n",
       "      <td>2023-01-03 00:00:00</td>\n",
       "    </tr>\n",
       "    <tr>\n",
       "      <th>2</th>\n",
       "      <td>125938</td>\n",
       "      <td>Aisle</td>\n",
       "      <td>Yes</td>\n",
       "      <td>Yes</td>\n",
       "      <td>1204</td>\n",
       "      <td>313890680-450-2</td>\n",
       "      <td>Oversized knit sweater</td>\n",
       "      <td>499</td>\n",
       "      <td>Sweaters</td>\n",
       "      <td>WOMAN</td>\n",
       "      <td>414452</td>\n",
       "      <td>2023-01-04 00:00:00</td>\n",
       "    </tr>\n",
       "    <tr>\n",
       "      <th>3</th>\n",
       "      <td>168837</td>\n",
       "      <td>Aisle</td>\n",
       "      <td>No</td>\n",
       "      <td>No</td>\n",
       "      <td>665</td>\n",
       "      <td>311292194-731-2</td>\n",
       "      <td>Faux suede jacket</td>\n",
       "      <td>899</td>\n",
       "      <td>Jackets</td>\n",
       "      <td>MAN</td>\n",
       "      <td>135188</td>\n",
       "      <td>2023-01-05 00:00:00</td>\n",
       "    </tr>\n",
       "    <tr>\n",
       "      <th>4</th>\n",
       "      <td>158781</td>\n",
       "      <td>End-cap</td>\n",
       "      <td>Yes</td>\n",
       "      <td>Yes</td>\n",
       "      <td>2443</td>\n",
       "      <td>318209963-800-2</td>\n",
       "      <td>Faux suede overshirt</td>\n",
       "      <td>699</td>\n",
       "      <td>Jackets</td>\n",
       "      <td>MAN</td>\n",
       "      <td>286124</td>\n",
       "      <td>2023-01-05 00:00:00</td>\n",
       "    </tr>\n",
       "  </tbody>\n",
       "</table>\n",
       "</div>"
      ],
      "text/plain": [
       "   product_id product_position promotion seasonal  sales_volume  \\\n",
       "0      143231            Aisle        No       No          2578   \n",
       "1      165786          End-cap        No      Yes          1278   \n",
       "2      125938            Aisle       Yes      Yes          1204   \n",
       "3      168837            Aisle        No       No           665   \n",
       "4      158781          End-cap       Yes      Yes          2443   \n",
       "\n",
       "               sku                       name  price product_category section  \\\n",
       "0  311297745-800-2    Technical padded jacket    899          Jackets     MAN   \n",
       "1  315075917-803-2  Contrast interior sweater    599         Sweaters     MAN   \n",
       "2  313890680-450-2     Oversized knit sweater    499         Sweaters   WOMAN   \n",
       "3  311292194-731-2          Faux suede jacket    899          Jackets     MAN   \n",
       "4  318209963-800-2       Faux suede overshirt    699          Jackets     MAN   \n",
       "\n",
       "   gross_margin           scraped_at  \n",
       "0         34872  2023-01-03 00:00:00  \n",
       "1        468701  2023-01-03 00:00:00  \n",
       "2        414452  2023-01-04 00:00:00  \n",
       "3        135188  2023-01-05 00:00:00  \n",
       "4        286124  2023-01-05 00:00:00  "
      ]
     },
     "execution_count": 444,
     "metadata": {},
     "output_type": "execute_result"
    }
   ],
   "source": [
    "# Overview of the data head\n",
    "data.head()"
   ]
  },
  {
   "cell_type": "code",
   "execution_count": 445,
   "id": "171c3124-99a9-4c28-ae2c-0ba3a1b5d3be",
   "metadata": {},
   "outputs": [
    {
     "data": {
      "text/html": [
       "<div>\n",
       "<style scoped>\n",
       "    .dataframe tbody tr th:only-of-type {\n",
       "        vertical-align: middle;\n",
       "    }\n",
       "\n",
       "    .dataframe tbody tr th {\n",
       "        vertical-align: top;\n",
       "    }\n",
       "\n",
       "    .dataframe thead th {\n",
       "        text-align: right;\n",
       "    }\n",
       "</style>\n",
       "<table border=\"1\" class=\"dataframe\">\n",
       "  <thead>\n",
       "    <tr style=\"text-align: right;\">\n",
       "      <th></th>\n",
       "      <th>product_id</th>\n",
       "      <th>product_position</th>\n",
       "      <th>promotion</th>\n",
       "      <th>seasonal</th>\n",
       "      <th>sales_volume</th>\n",
       "      <th>sku</th>\n",
       "      <th>name</th>\n",
       "      <th>price</th>\n",
       "      <th>product_category</th>\n",
       "      <th>section</th>\n",
       "      <th>gross_margin</th>\n",
       "      <th>scraped_at</th>\n",
       "    </tr>\n",
       "  </thead>\n",
       "  <tbody>\n",
       "    <tr>\n",
       "      <th>247</th>\n",
       "      <td>115873</td>\n",
       "      <td>End-cap</td>\n",
       "      <td>Yes</td>\n",
       "      <td>Yes</td>\n",
       "      <td>2606</td>\n",
       "      <td>311297400-803-1</td>\n",
       "      <td>Contrast topstitching crop knit sweater</td>\n",
       "      <td>599</td>\n",
       "      <td>Sweaters</td>\n",
       "      <td>WOMAN</td>\n",
       "      <td>229854</td>\n",
       "      <td>2024-02-21 00:00:00</td>\n",
       "    </tr>\n",
       "    <tr>\n",
       "      <th>248</th>\n",
       "      <td>140142</td>\n",
       "      <td>Front of Store</td>\n",
       "      <td>Yes</td>\n",
       "      <td>No</td>\n",
       "      <td>606</td>\n",
       "      <td>328207551-500-2</td>\n",
       "      <td>Knit open back pearly sweater</td>\n",
       "      <td>499</td>\n",
       "      <td>Sweaters</td>\n",
       "      <td>WOMAN</td>\n",
       "      <td>823432</td>\n",
       "      <td>2024-02-22 00:00:00</td>\n",
       "    </tr>\n",
       "    <tr>\n",
       "      <th>249</th>\n",
       "      <td>137044</td>\n",
       "      <td>Aisle</td>\n",
       "      <td>No</td>\n",
       "      <td>Yes</td>\n",
       "      <td>2534</td>\n",
       "      <td>320680326-107-39</td>\n",
       "      <td>Patch bomber jacket</td>\n",
       "      <td>1299</td>\n",
       "      <td>Jackets</td>\n",
       "      <td>MAN</td>\n",
       "      <td>512628</td>\n",
       "      <td>2024-02-22 00:00:00</td>\n",
       "    </tr>\n",
       "    <tr>\n",
       "      <th>250</th>\n",
       "      <td>133183</td>\n",
       "      <td>Front of Store</td>\n",
       "      <td>Yes</td>\n",
       "      <td>Yes</td>\n",
       "      <td>2859</td>\n",
       "      <td>318265017-401-2</td>\n",
       "      <td>Cotton blend bomber jacket</td>\n",
       "      <td>899</td>\n",
       "      <td>Jackets</td>\n",
       "      <td>MAN</td>\n",
       "      <td>314446</td>\n",
       "      <td>2024-02-23 00:00:00</td>\n",
       "    </tr>\n",
       "    <tr>\n",
       "      <th>251</th>\n",
       "      <td>158958</td>\n",
       "      <td>End-cap</td>\n",
       "      <td>No</td>\n",
       "      <td>No</td>\n",
       "      <td>903</td>\n",
       "      <td>320111404-428-2</td>\n",
       "      <td>Ribbed knit t-shirt</td>\n",
       "      <td>459</td>\n",
       "      <td>T-shirts</td>\n",
       "      <td>MAN</td>\n",
       "      <td>508306</td>\n",
       "      <td>2024-02-28 00:00:00</td>\n",
       "    </tr>\n",
       "  </tbody>\n",
       "</table>\n",
       "</div>"
      ],
      "text/plain": [
       "     product_id product_position promotion seasonal  sales_volume  \\\n",
       "247      115873          End-cap       Yes      Yes          2606   \n",
       "248      140142   Front of Store       Yes       No           606   \n",
       "249      137044            Aisle        No      Yes          2534   \n",
       "250      133183   Front of Store       Yes      Yes          2859   \n",
       "251      158958          End-cap        No       No           903   \n",
       "\n",
       "                  sku                                     name  price  \\\n",
       "247   311297400-803-1  Contrast topstitching crop knit sweater    599   \n",
       "248   328207551-500-2            Knit open back pearly sweater    499   \n",
       "249  320680326-107-39                      Patch bomber jacket   1299   \n",
       "250   318265017-401-2               Cotton blend bomber jacket    899   \n",
       "251   320111404-428-2                      Ribbed knit t-shirt    459   \n",
       "\n",
       "    product_category section  gross_margin           scraped_at  \n",
       "247         Sweaters   WOMAN        229854  2024-02-21 00:00:00  \n",
       "248         Sweaters   WOMAN        823432  2024-02-22 00:00:00  \n",
       "249          Jackets     MAN        512628  2024-02-22 00:00:00  \n",
       "250          Jackets     MAN        314446  2024-02-23 00:00:00  \n",
       "251         T-shirts     MAN        508306  2024-02-28 00:00:00  "
      ]
     },
     "execution_count": 445,
     "metadata": {},
     "output_type": "execute_result"
    }
   ],
   "source": [
    "# Overview of the data tail\n",
    "data.tail()"
   ]
  },
  {
   "cell_type": "code",
   "execution_count": 446,
   "id": "9ed7f437-9adb-433c-9b39-342683dadd58",
   "metadata": {},
   "outputs": [],
   "source": [
    "# # Remove non-numeric characters from the columns\n",
    "data['sales_volume'] = data['sales_volume'].astype(str).str.replace(r'[$, ]', '', regex=True).astype(float)\n",
    "data['price'] = data['price'].astype(str).str.replace(r'[$, ]', '', regex=True).astype(float)"
   ]
  },
  {
   "cell_type": "markdown",
   "id": "d1768d14-6892-4bfc-9c5b-bc336858eef2",
   "metadata": {},
   "source": [
    "<p style=\"font-family: 'Arial', sans-serif; font-size: 20px; font-weight: 500;\">Sales Performance Analysis: Which products are excelling in sales, and which are underperforming?</p>"
   ]
  },
  {
   "cell_type": "code",
   "execution_count": 448,
   "id": "4bf6ae1a-57c9-4a5f-b4c8-90662d29d294",
   "metadata": {},
   "outputs": [
    {
     "data": {
      "text/plain": [
       "459573.0"
      ]
     },
     "execution_count": 448,
     "metadata": {},
     "output_type": "execute_result"
    }
   ],
   "source": [
    "# First lets find out the total revenue\n",
    "total_revenue = data['sales_volume'].sum()\n",
    "total_revenue"
   ]
  },
  {
   "cell_type": "code",
   "execution_count": 449,
   "id": "e3613bca-7f1b-4e7f-aa14-4c5f72de04d9",
   "metadata": {},
   "outputs": [
    {
     "name": "stdout",
     "output_type": "stream",
     "text": [
      "Top-Performing Products:\n"
     ]
    },
    {
     "data": {
      "text/html": [
       "<div>\n",
       "<style scoped>\n",
       "    .dataframe tbody tr th:only-of-type {\n",
       "        vertical-align: middle;\n",
       "    }\n",
       "\n",
       "    .dataframe tbody tr th {\n",
       "        vertical-align: top;\n",
       "    }\n",
       "\n",
       "    .dataframe thead th {\n",
       "        text-align: right;\n",
       "    }\n",
       "</style>\n",
       "<table border=\"1\" class=\"dataframe\">\n",
       "  <thead>\n",
       "    <tr style=\"text-align: right;\">\n",
       "      <th></th>\n",
       "      <th>product_category</th>\n",
       "      <th>sales_volume</th>\n",
       "    </tr>\n",
       "  </thead>\n",
       "  <tbody>\n",
       "    <tr>\n",
       "      <th>0</th>\n",
       "      <td>Jackets</td>\n",
       "      <td>259468.0</td>\n",
       "    </tr>\n",
       "    <tr>\n",
       "      <th>3</th>\n",
       "      <td>Sweaters</td>\n",
       "      <td>75242.0</td>\n",
       "    </tr>\n",
       "    <tr>\n",
       "      <th>2</th>\n",
       "      <td>Shoes</td>\n",
       "      <td>57906.0</td>\n",
       "    </tr>\n",
       "    <tr>\n",
       "      <th>4</th>\n",
       "      <td>T-shirts</td>\n",
       "      <td>53637.0</td>\n",
       "    </tr>\n",
       "    <tr>\n",
       "      <th>1</th>\n",
       "      <td>Jeans</td>\n",
       "      <td>13320.0</td>\n",
       "    </tr>\n",
       "  </tbody>\n",
       "</table>\n",
       "</div>"
      ],
      "text/plain": [
       "  product_category  sales_volume\n",
       "0          Jackets      259468.0\n",
       "3         Sweaters       75242.0\n",
       "2            Shoes       57906.0\n",
       "4         T-shirts       53637.0\n",
       "1            Jeans       13320.0"
      ]
     },
     "execution_count": 449,
     "metadata": {},
     "output_type": "execute_result"
    }
   ],
   "source": [
    "# Aggregating total sales and units sold for each product\n",
    "product_sales = data.groupby('product_category').agg({'sales_volume': 'sum'}).reset_index()\n",
    "\n",
    "# Sorting products by total sales in descending order to identify top-performing products\n",
    "top_performing_products = product_sales.sort_values(by='sales_volume', ascending=False).head()\n",
    "\n",
    "# Displaying the results\n",
    "print(\"Top-Performing Products:\")\n",
    "top_performing_products"
   ]
  },
  {
   "cell_type": "code",
   "execution_count": 450,
   "id": "a30f0f19-eee7-44b3-937b-3e83dd793934",
   "metadata": {},
   "outputs": [
    {
     "name": "stdout",
     "output_type": "stream",
     "text": [
      "\n",
      "Underperforming Products:\n"
     ]
    },
    {
     "data": {
      "text/html": [
       "<div>\n",
       "<style scoped>\n",
       "    .dataframe tbody tr th:only-of-type {\n",
       "        vertical-align: middle;\n",
       "    }\n",
       "\n",
       "    .dataframe tbody tr th {\n",
       "        vertical-align: top;\n",
       "    }\n",
       "\n",
       "    .dataframe thead th {\n",
       "        text-align: right;\n",
       "    }\n",
       "</style>\n",
       "<table border=\"1\" class=\"dataframe\">\n",
       "  <thead>\n",
       "    <tr style=\"text-align: right;\">\n",
       "      <th></th>\n",
       "      <th>product_category</th>\n",
       "      <th>sales_volume</th>\n",
       "    </tr>\n",
       "  </thead>\n",
       "  <tbody>\n",
       "    <tr>\n",
       "      <th>1</th>\n",
       "      <td>Jeans</td>\n",
       "      <td>13320.0</td>\n",
       "    </tr>\n",
       "    <tr>\n",
       "      <th>4</th>\n",
       "      <td>T-shirts</td>\n",
       "      <td>53637.0</td>\n",
       "    </tr>\n",
       "    <tr>\n",
       "      <th>2</th>\n",
       "      <td>Shoes</td>\n",
       "      <td>57906.0</td>\n",
       "    </tr>\n",
       "    <tr>\n",
       "      <th>3</th>\n",
       "      <td>Sweaters</td>\n",
       "      <td>75242.0</td>\n",
       "    </tr>\n",
       "    <tr>\n",
       "      <th>0</th>\n",
       "      <td>Jackets</td>\n",
       "      <td>259468.0</td>\n",
       "    </tr>\n",
       "  </tbody>\n",
       "</table>\n",
       "</div>"
      ],
      "text/plain": [
       "  product_category  sales_volume\n",
       "1            Jeans       13320.0\n",
       "4         T-shirts       53637.0\n",
       "2            Shoes       57906.0\n",
       "3         Sweaters       75242.0\n",
       "0          Jackets      259468.0"
      ]
     },
     "execution_count": 450,
     "metadata": {},
     "output_type": "execute_result"
    }
   ],
   "source": [
    "# Sorting products by total sales in ascending order to identify underperforming products\n",
    "underperforming_products = product_sales.sort_values(by='sales_volume', ascending=True).head()\n",
    "\n",
    "print(\"\\nUnderperforming Products:\")\n",
    "underperforming_products"
   ]
  },
  {
   "cell_type": "markdown",
   "id": "b1ccc975-71c5-47c9-bade-88731b1c7f82",
   "metadata": {},
   "source": [
    "<p style=\"font-family: 'Arial', sans-serif; font-size: 13px; font-weight: 10;\">Insights: Jackets are the highest sold products with sales of 259,468 and the most underperforming products is Jeans with sales of 13,320</p>"
   ]
  },
  {
   "cell_type": "markdown",
   "id": "c062a23d-96be-4bee-9c7c-00af05b488f5",
   "metadata": {},
   "source": [
    "<p style=\"font-family: 'Arial', sans-serif; font-size: 20px; font-weight: 500;\">Profit Margin Analysis: Does the Opearing profit significantly impact sales?</p>"
   ]
  },
  {
   "cell_type": "code",
   "execution_count": 453,
   "id": "73b02d88-4550-4db4-b7b6-3fe841a96bf7",
   "metadata": {},
   "outputs": [
    {
     "data": {
      "text/plain": [
       "0.08257565136395016"
      ]
     },
     "execution_count": 453,
     "metadata": {},
     "output_type": "execute_result"
    }
   ],
   "source": [
    "# We can answer the above question in the traditional long way using tables and graphs or we can also find the correlation between the Operating profit and Total Sales, if it is positive, the answer to the question is yes, and vice versa.\n",
    "\n",
    "# Correlation bewtween Operating Profit and Total Sales\n",
    "correlation = data['gross_margin'].corr(data['price'])\n",
    "correlation"
   ]
  },
  {
   "cell_type": "markdown",
   "id": "b6b5efec-52f7-408f-b8bc-925f33914de2",
   "metadata": {},
   "source": [
    "<p style=\"font-family: 'Arial', sans-serif; font-size: 20px; font-weight: 500;\">Efficiency of Sales Methods: Which sales product position is more effective Front of Store, Aisle or End - Cap?</p>"
   ]
  },
  {
   "cell_type": "code",
   "execution_count": 455,
   "id": "4e50b25a-489a-40ed-a60c-0f671e44438d",
   "metadata": {},
   "outputs": [
    {
     "data": {
      "text/plain": [
       "array(['Aisle', 'End-cap', 'Front of Store'], dtype=object)"
      ]
     },
     "execution_count": 455,
     "metadata": {},
     "output_type": "execute_result"
    }
   ],
   "source": [
    "# Finding the unique column in the df\n",
    "\n",
    "sales_method_col = data['product_position']\n",
    "unique_sales_method_col = sales_method_col.unique()\n",
    "unique_sales_method_col"
   ]
  },
  {
   "cell_type": "code",
   "execution_count": 456,
   "id": "df1d6b09-063d-4338-87eb-15ef6bb2a9fc",
   "metadata": {},
   "outputs": [
    {
     "data": {
      "image/png": "[encoded data removed]",
      "text/plain": [
       "<Figure size 1000x600 with 1 Axes>"
      ]
     },
     "metadata": {},
     "output_type": "display_data"
    }
   ],
   "source": [
    "sales_by_position = data.groupby('product_position')['sales_volume'].sum().reset_index()\n",
    "\n",
    "# Plot the results\n",
    "plt.figure(figsize=(10, 6))\n",
    "sns.barplot(x='product_position', y='sales_volume', data=sales_by_position, color='teal')  # Use 'color' instead of 'palette'\n",
    "plt.title('Sales Volume by Product Position')\n",
    "plt.xlabel('Product Position')\n",
    "plt.ylabel('Total Sales Volume')\n",
    "plt.show()"
   ]
  },
  {
   "cell_type": "code",
   "execution_count": 457,
   "id": "00caf55e-7ad5-404a-b2c4-2b8031c31565",
   "metadata": {
    "scrolled": true
   },
   "outputs": [
    {
     "data": {
      "application/vnd.plotly.v1+json": {
       "config": {
        "plotlyServerURL": "https://plot.ly"
       },
       "data": [
        {
         "marker": {
          "color": "rgba(255, 144, 14, 0.6)"
         },
         "name": "Jackets - Aisle",
         "type": "bar",
         "visible": true,
         "x": [
          "Aisle"
         ],
         "y": [
          102577
         ]
        },
        {
         "marker": {
          "color": "rgba(44, 160, 44, 0.6)"
         },
         "name": "Jackets - End-cap",
         "type": "bar",
         "visible": false,
         "x": [
          "End-cap"
         ],
         "y": [
          77705
         ]
        },
        {
         "marker": {
          "color": "rgba(93, 164, 214, 0.6)"
         },
         "name": "Jackets - Front of Store",
         "type": "bar",
         "visible": false,
         "x": [
          "Front of Store"
         ],
         "y": [
          79186
         ]
        },
        {
         "marker": {
          "color": "rgba(255, 144, 14, 0.6)"
         },
         "name": "Sweaters - Aisle",
         "type": "bar",
         "visible": false,
         "x": [
          "Aisle"
         ],
         "y": [
          20022
         ]
        },
        {
         "marker": {
          "color": "rgba(44, 160, 44, 0.6)"
         },
         "name": "Sweaters - End-cap",
         "type": "bar",
         "visible": false,
         "x": [
          "End-cap"
         ],
         "y": [
          32714
         ]
        },
        {
         "marker": {
          "color": "rgba(93, 164, 214, 0.6)"
         },
         "name": "Sweaters - Front of Store",
         "type": "bar",
         "visible": false,
         "x": [
          "Front of Store"
         ],
         "y": [
          22506
         ]
        },
        {
         "marker": {
          "color": "rgba(255, 144, 14, 0.6)"
         },
         "name": "Shoes - Aisle",
         "type": "bar",
         "visible": false,
         "x": [
          "Aisle"
         ],
         "y": [
          24412
         ]
        },
        {
         "marker": {
          "color": "rgba(44, 160, 44, 0.6)"
         },
         "name": "Shoes - End-cap",
         "type": "bar",
         "visible": false,
         "x": [
          "End-cap"
         ],
         "y": [
          17906
         ]
        },
        {
         "marker": {
          "color": "rgba(93, 164, 214, 0.6)"
         },
         "name": "Shoes - Front of Store",
         "type": "bar",
         "visible": false,
         "x": [
          "Front of Store"
         ],
         "y": [
          15588
         ]
        },
        {
         "marker": {
          "color": "rgba(255, 144, 14, 0.6)"
         },
         "name": "T-shirts - Aisle",
         "type": "bar",
         "visible": false,
         "x": [
          "Aisle"
         ],
         "y": [
          25786
         ]
        },
        {
         "marker": {
          "color": "rgba(44, 160, 44, 0.6)"
         },
         "name": "T-shirts - End-cap",
         "type": "bar",
         "visible": false,
         "x": [
          "End-cap"
         ],
         "y": [
          19434
         ]
        },
        {
         "marker": {
          "color": "rgba(93, 164, 214, 0.6)"
         },
         "name": "T-shirts - Front of Store",
         "type": "bar",
         "visible": false,
         "x": [
          "Front of Store"
         ],
         "y": [
          8417
         ]
        },
        {
         "marker": {
          "color": "rgba(255, 144, 14, 0.6)"
         },
         "name": "Jeans - Aisle",
         "type": "bar",
         "visible": false,
         "x": [
          "Aisle"
         ],
         "y": [
          4599
         ]
        },
        {
         "marker": {
          "color": "rgba(44, 160, 44, 0.6)"
         },
         "name": "Jeans - End-cap",
         "type": "bar",
         "visible": false,
         "x": [
          "End-cap"
         ],
         "y": [
          5171
         ]
        },
        {
         "marker": {
          "color": "rgba(93, 164, 214, 0.6)"
         },
         "name": "Jeans - Front of Store",
         "type": "bar",
         "visible": false,
         "x": [
          "Front of Store"
         ],
         "y": [
          3550
         ]
        }
       ],
       "layout": {
        "autosize": true,
        "barmode": "group",
        "template": {
         "data": {
          "bar": [
           {
            "error_x": {
             "color": "#2a3f5f"
            },
            "error_y": {
             "color": "#2a3f5f"
            },
            "marker": {
             "line": {
              "color": "#E5ECF6",
              "width": 0.5
             },
             "pattern": {
              "fillmode": "overlay",
              "size": 10,
              "solidity": 0.2
             }
            },
            "type": "bar"
           }
          ],
          "barpolar": [
           {
            "marker": {
             "line": {
              "color": "#E5ECF6",
              "width": 0.5
             },
             "pattern": {
              "fillmode": "overlay",
              "size": 10,
              "solidity": 0.2
             }
            },
            "type": "barpolar"
           }
          ],
          "carpet": [
           {
            "aaxis": {
             "endlinecolor": "#2a3f5f",
             "gridcolor": "white",
             "linecolor": "white",
             "minorgridcolor": "white",
             "startlinecolor": "#2a3f5f"
            },
            "baxis": {
             "endlinecolor": "#2a3f5f",
             "gridcolor": "white",
             "linecolor": "white",
             "minorgridcolor": "white",
             "startlinecolor": "#2a3f5f"
            },
            "type": "carpet"
           }
          ],
          "choropleth": [
           {
            "colorbar": {
             "outlinewidth": 0,
             "ticks": ""
            },
            "type": "choropleth"
           }
          ],
          "contour": [
           {
            "colorbar": {
             "outlinewidth": 0,
             "ticks": ""
            },
            "colorscale": [
             [
              0,
              "#0d0887"
             ],
             [
              0.1111111111111111,
              "#46039f"
             ],
             [
              0.2222222222222222,
              "#7201a8"
             ],
             [
              0.3333333333333333,
              "#9c179e"
             ],
             [
              0.4444444444444444,
              "#bd3786"
             ],
             [
              0.5555555555555556,
              "#d8576b"
             ],
             [
              0.6666666666666666,
              "#ed7953"
             ],
             [
              0.7777777777777778,
              "#fb9f3a"
             ],
             [
              0.8888888888888888,
              "#fdca26"
             ],
             [
              1,
              "#f0f921"
             ]
            ],
            "type": "contour"
           }
          ],
          "contourcarpet": [
           {
            "colorbar": {
             "outlinewidth": 0,
             "ticks": ""
            },
            "type": "contourcarpet"
           }
          ],
          "heatmap": [
           {
            "colorbar": {
             "outlinewidth": 0,
             "ticks": ""
            },
            "colorscale": [
             [
              0,
              "#0d0887"
             ],
             [
              0.1111111111111111,
              "#46039f"
             ],
             [
              0.2222222222222222,
              "#7201a8"
             ],
             [
              0.3333333333333333,
              "#9c179e"
             ],
             [
              0.4444444444444444,
              "#bd3786"
             ],
             [
              0.5555555555555556,
              "#d8576b"
             ],
             [
              0.6666666666666666,
              "#ed7953"
             ],
             [
              0.7777777777777778,
              "#fb9f3a"
             ],
             [
              0.8888888888888888,
              "#fdca26"
             ],
             [
              1,
              "#f0f921"
             ]
            ],
            "type": "heatmap"
           }
          ],
          "heatmapgl": [
           {
            "colorbar": {
             "outlinewidth": 0,
             "ticks": ""
            },
            "colorscale": [
             [
              0,
              "#0d0887"
             ],
             [
              0.1111111111111111,
              "#46039f"
             ],
             [
              0.2222222222222222,
              "#7201a8"
             ],
             [
              0.3333333333333333,
              "#9c179e"
             ],
             [
              0.4444444444444444,
              "#bd3786"
             ],
             [
              0.5555555555555556,
              "#d8576b"
             ],
             [
              0.6666666666666666,
              "#ed7953"
             ],
             [
              0.7777777777777778,
              "#fb9f3a"
             ],
             [
              0.8888888888888888,
              "#fdca26"
             ],
             [
              1,
              "#f0f921"
             ]
            ],
            "type": "heatmapgl"
           }
          ],
          "histogram": [
           {
            "marker": {
             "pattern": {
              "fillmode": "overlay",
              "size": 10,
              "solidity": 0.2
             }
            },
            "type": "histogram"
           }
          ],
          "histogram2d": [
           {
            "colorbar": {
             "outlinewidth": 0,
             "ticks": ""
            },
            "colorscale": [
             [
              0,
              "#0d0887"
             ],
             [
              0.1111111111111111,
              "#46039f"
             ],
             [
              0.2222222222222222,
              "#7201a8"
             ],
             [
              0.3333333333333333,
              "#9c179e"
             ],
             [
              0.4444444444444444,
              "#bd3786"
             ],
             [
              0.5555555555555556,
              "#d8576b"
             ],
             [
              0.6666666666666666,
              "#ed7953"
             ],
             [
              0.7777777777777778,
              "#fb9f3a"
             ],
             [
              0.8888888888888888,
              "#fdca26"
             ],
             [
              1,
              "#f0f921"
             ]
            ],
            "type": "histogram2d"
           }
          ],
          "histogram2dcontour": [
           {
            "colorbar": {
             "outlinewidth": 0,
             "ticks": ""
            },
            "colorscale": [
             [
              0,
              "#0d0887"
             ],
             [
              0.1111111111111111,
              "#46039f"
             ],
             [
              0.2222222222222222,
              "#7201a8"
             ],
             [
              0.3333333333333333,
              "#9c179e"
             ],
             [
              0.4444444444444444,
              "#bd3786"
             ],
             [
              0.5555555555555556,
              "#d8576b"
             ],
             [
              0.6666666666666666,
              "#ed7953"
             ],
             [
              0.7777777777777778,
              "#fb9f3a"
             ],
             [
              0.8888888888888888,
              "#fdca26"
             ],
             [
              1,
              "#f0f921"
             ]
            ],
            "type": "histogram2dcontour"
           }
          ],
          "mesh3d": [
           {
            "colorbar": {
             "outlinewidth": 0,
             "ticks": ""
            },
            "type": "mesh3d"
           }
          ],
          "parcoords": [
           {
            "line": {
             "colorbar": {
              "outlinewidth": 0,
              "ticks": ""
             }
            },
            "type": "parcoords"
           }
          ],
          "pie": [
           {
            "automargin": true,
            "type": "pie"
           }
          ],
          "scatter": [
           {
            "fillpattern": {
             "fillmode": "overlay",
             "size": 10,
             "solidity": 0.2
            },
            "type": "scatter"
           }
          ],
          "scatter3d": [
           {
            "line": {
             "colorbar": {
              "outlinewidth": 0,
              "ticks": ""
             }
            },
            "marker": {
             "colorbar": {
              "outlinewidth": 0,
              "ticks": ""
             }
            },
            "type": "scatter3d"
           }
          ],
          "scattercarpet": [
           {
            "marker": {
             "colorbar": {
              "outlinewidth": 0,
              "ticks": ""
             }
            },
            "type": "scattercarpet"
           }
          ],
          "scattergeo": [
           {
            "marker": {
             "colorbar": {
              "outlinewidth": 0,
              "ticks": ""
             }
            },
            "type": "scattergeo"
           }
          ],
          "scattergl": [
           {
            "marker": {
             "colorbar": {
              "outlinewidth": 0,
              "ticks": ""
             }
            },
            "type": "scattergl"
           }
          ],
          "scattermapbox": [
           {
            "marker": {
             "colorbar": {
              "outlinewidth": 0,
              "ticks": ""
             }
            },
            "type": "scattermapbox"
           }
          ],
          "scatterpolar": [
           {
            "marker": {
             "colorbar": {
              "outlinewidth": 0,
              "ticks": ""
             }
            },
            "type": "scatterpolar"
           }
          ],
          "scatterpolargl": [
           {
            "marker": {
             "colorbar": {
              "outlinewidth": 0,
              "ticks": ""
             }
            },
            "type": "scatterpolargl"
           }
          ],
          "scatterternary": [
           {
            "marker": {
             "colorbar": {
              "outlinewidth": 0,
              "ticks": ""
             }
            },
            "type": "scatterternary"
           }
          ],
          "surface": [
           {
            "colorbar": {
             "outlinewidth": 0,
             "ticks": ""
            },
            "colorscale": [
             [
              0,
              "#0d0887"
             ],
             [
              0.1111111111111111,
              "#46039f"
             ],
             [
              0.2222222222222222,
              "#7201a8"
             ],
             [
              0.3333333333333333,
              "#9c179e"
             ],
             [
              0.4444444444444444,
              "#bd3786"
             ],
             [
              0.5555555555555556,
              "#d8576b"
             ],
             [
              0.6666666666666666,
              "#ed7953"
             ],
             [
              0.7777777777777778,
              "#fb9f3a"
             ],
             [
              0.8888888888888888,
              "#fdca26"
             ],
             [
              1,
              "#f0f921"
             ]
            ],
            "type": "surface"
           }
          ],
          "table": [
           {
            "cells": {
             "fill": {
              "color": "#EBF0F8"
             },
             "line": {
              "color": "white"
             }
            },
            "header": {
             "fill": {
              "color": "#C8D4E3"
             },
             "line": {
              "color": "white"
             }
            },
            "type": "table"
           }
          ]
         },
         "layout": {
          "annotationdefaults": {
           "arrowcolor": "#2a3f5f",
           "arrowhead": 0,
           "arrowwidth": 1
          },
          "autotypenumbers": "strict",
          "coloraxis": {
           "colorbar": {
            "outlinewidth": 0,
            "ticks": ""
           }
          },
          "colorscale": {
           "diverging": [
            [
             0,
             "#8e0152"
            ],
            [
             0.1,
             "#c51b7d"
            ],
            [
             0.2,
             "#de77ae"
            ],
            [
             0.3,
             "#f1b6da"
            ],
            [
             0.4,
             "#fde0ef"
            ],
            [
             0.5,
             "#f7f7f7"
            ],
            [
             0.6,
             "#e6f5d0"
            ],
            [
             0.7,
             "#b8e186"
            ],
            [
             0.8,
             "#7fbc41"
            ],
            [
             0.9,
             "#4d9221"
            ],
            [
             1,
             "#276419"
            ]
           ],
           "sequential": [
            [
             0,
             "#0d0887"
            ],
            [
             0.1111111111111111,
             "#46039f"
            ],
            [
             0.2222222222222222,
             "#7201a8"
            ],
            [
             0.3333333333333333,
             "#9c179e"
            ],
            [
             0.4444444444444444,
             "#bd3786"
            ],
            [
             0.5555555555555556,
             "#d8576b"
            ],
            [
             0.6666666666666666,
             "#ed7953"
            ],
            [
             0.7777777777777778,
             "#fb9f3a"
            ],
            [
             0.8888888888888888,
             "#fdca26"
            ],
            [
             1,
             "#f0f921"
            ]
           ],
           "sequentialminus": [
            [
             0,
             "#0d0887"
            ],
            [
             0.1111111111111111,
             "#46039f"
            ],
            [
             0.2222222222222222,
             "#7201a8"
            ],
            [
             0.3333333333333333,
             "#9c179e"
            ],
            [
             0.4444444444444444,
             "#bd3786"
            ],
            [
             0.5555555555555556,
             "#d8576b"
            ],
            [
             0.6666666666666666,
             "#ed7953"
            ],
            [
             0.7777777777777778,
             "#fb9f3a"
            ],
            [
             0.8888888888888888,
             "#fdca26"
            ],
            [
             1,
             "#f0f921"
            ]
           ]
          },
          "colorway": [
           "#636efa",
           "#EF553B",
           "#00cc96",
           "#ab63fa",
           "#FFA15A",
           "#19d3f3",
           "#FF6692",
           "#B6E880",
           "#FF97FF",
           "#FECB52"
          ],
          "font": {
           "color": "#2a3f5f"
          },
          "geo": {
           "bgcolor": "white",
           "lakecolor": "white",
           "landcolor": "#E5ECF6",
           "showlakes": true,
           "showland": true,
           "subunitcolor": "white"
          },
          "hoverlabel": {
           "align": "left"
          },
          "hovermode": "closest",
          "mapbox": {
           "style": "light"
          },
          "paper_bgcolor": "white",
          "plot_bgcolor": "#E5ECF6",
          "polar": {
           "angularaxis": {
            "gridcolor": "white",
            "linecolor": "white",
            "ticks": ""
           },
           "bgcolor": "#E5ECF6",
           "radialaxis": {
            "gridcolor": "white",
            "linecolor": "white",
            "ticks": ""
           }
          },
          "scene": {
           "xaxis": {
            "backgroundcolor": "#E5ECF6",
            "gridcolor": "white",
            "gridwidth": 2,
            "linecolor": "white",
            "showbackground": true,
            "ticks": "",
            "zerolinecolor": "white"
           },
           "yaxis": {
            "backgroundcolor": "#E5ECF6",
            "gridcolor": "white",
            "gridwidth": 2,
            "linecolor": "white",
            "showbackground": true,
            "ticks": "",
            "zerolinecolor": "white"
           },
           "zaxis": {
            "backgroundcolor": "#E5ECF6",
            "gridcolor": "white",
            "gridwidth": 2,
            "linecolor": "white",
            "showbackground": true,
            "ticks": "",
            "zerolinecolor": "white"
           }
          },
          "shapedefaults": {
           "line": {
            "color": "#2a3f5f"
           }
          },
          "ternary": {
           "aaxis": {
            "gridcolor": "white",
            "linecolor": "white",
            "ticks": ""
           },
           "baxis": {
            "gridcolor": "white",
            "linecolor": "white",
            "ticks": ""
           },
           "bgcolor": "#E5ECF6",
           "caxis": {
            "gridcolor": "white",
            "linecolor": "white",
            "ticks": ""
           }
          },
          "title": {
           "x": 0.05
          },
          "xaxis": {
           "automargin": true,
           "gridcolor": "white",
           "linecolor": "white",
           "ticks": "",
           "title": {
            "standoff": 15
           },
           "zerolinecolor": "white",
           "zerolinewidth": 2
          },
          "yaxis": {
           "automargin": true,
           "gridcolor": "white",
           "linecolor": "white",
           "ticks": "",
           "title": {
            "standoff": 15
           },
           "zerolinecolor": "white",
           "zerolinewidth": 2
          }
         }
        },
        "title": {
         "text": "Total Sales by Product Location"
        },
        "updatemenus": [
         {
          "buttons": [
           {
            "args": [
             {
              "visible": [
               true,
               true,
               true,
               false,
               false,
               false,
               false,
               false,
               false,
               false,
               false,
               false,
               false,
               false,
               false
              ]
             }
            ],
            "label": "Jackets",
            "method": "update"
           },
           {
            "args": [
             {
              "visible": [
               false,
               false,
               false,
               true,
               true,
               true,
               false,
               false,
               false,
               false,
               false,
               false,
               false,
               false,
               false
              ]
             }
            ],
            "label": "Sweaters",
            "method": "update"
           },
           {
            "args": [
             {
              "visible": [
               false,
               false,
               false,
               false,
               false,
               false,
               true,
               true,
               true,
               false,
               false,
               false,
               false,
               false,
               false
              ]
             }
            ],
            "label": "Shoes",
            "method": "update"
           },
           {
            "args": [
             {
              "visible": [
               false,
               false,
               false,
               false,
               false,
               false,
               false,
               false,
               false,
               true,
               true,
               true,
               false,
               false,
               false
              ]
             }
            ],
            "label": "T-shirts",
            "method": "update"
           },
           {
            "args": [
             {
              "visible": [
               false,
               false,
               false,
               false,
               false,
               false,
               false,
               false,
               false,
               false,
               false,
               false,
               true,
               true,
               true
              ]
             }
            ],
            "label": "Jeans",
            "method": "update"
           }
          ],
          "direction": "down",
          "showactive": true,
          "x": 0.5,
          "xanchor": "center",
          "y": 1.15,
          "yanchor": "top"
         }
        ],
        "xaxis": {
         "autorange": true,
         "range": [
          -0.5,
          0.5
         ],
         "type": "category"
        },
        "yaxis": {
         "autorange": true,
         "range": [
          0,
          107975.78947368421
         ],
         "type": "linear"
        }
       }
      },
      "image/png": "[encoded data removed]",
      "text/html": [
       "<div>                            <div id=\"584e608a-5297-4363-864f-5369e41f64c4\" class=\"plotly-graph-div\" style=\"height:525px; width:100%;\"></div>            <script type=\"text/javascript\">                require([\"plotly\"], function(Plotly) {                    window.PLOTLYENV=window.PLOTLYENV || {};                                    if (document.getElementById(\"584e608a-5297-4363-864f-5369e41f64c4\")) {                    Plotly.newPlot(                        \"584e608a-5297-4363-864f-5369e41f64c4\",                        [{\"marker\":{\"color\":\"rgba(255, 144, 14, 0.6)\"},\"name\":\"Jackets - Aisle\",\"visible\":true,\"x\":[\"Aisle\"],\"y\":[102577.0],\"type\":\"bar\"},{\"marker\":{\"color\":\"rgba(44, 160, 44, 0.6)\"},\"name\":\"Jackets - End-cap\",\"visible\":false,\"x\":[\"End-cap\"],\"y\":[77705.0],\"type\":\"bar\"},{\"marker\":{\"color\":\"rgba(93, 164, 214, 0.6)\"},\"name\":\"Jackets - Front of Store\",\"visible\":false,\"x\":[\"Front of Store\"],\"y\":[79186.0],\"type\":\"bar\"},{\"marker\":{\"color\":\"rgba(255, 144, 14, 0.6)\"},\"name\":\"Sweaters - Aisle\",\"visible\":false,\"x\":[\"Aisle\"],\"y\":[20022.0],\"type\":\"bar\"},{\"marker\":{\"color\":\"rgba(44, 160, 44, 0.6)\"},\"name\":\"Sweaters - End-cap\",\"visible\":false,\"x\":[\"End-cap\"],\"y\":[32714.0],\"type\":\"bar\"},{\"marker\":{\"color\":\"rgba(93, 164, 214, 0.6)\"},\"name\":\"Sweaters - Front of Store\",\"visible\":false,\"x\":[\"Front of Store\"],\"y\":[22506.0],\"type\":\"bar\"},{\"marker\":{\"color\":\"rgba(255, 144, 14, 0.6)\"},\"name\":\"Shoes - Aisle\",\"visible\":false,\"x\":[\"Aisle\"],\"y\":[24412.0],\"type\":\"bar\"},{\"marker\":{\"color\":\"rgba(44, 160, 44, 0.6)\"},\"name\":\"Shoes - End-cap\",\"visible\":false,\"x\":[\"End-cap\"],\"y\":[17906.0],\"type\":\"bar\"},{\"marker\":{\"color\":\"rgba(93, 164, 214, 0.6)\"},\"name\":\"Shoes - Front of Store\",\"visible\":false,\"x\":[\"Front of Store\"],\"y\":[15588.0],\"type\":\"bar\"},{\"marker\":{\"color\":\"rgba(255, 144, 14, 0.6)\"},\"name\":\"T-shirts - Aisle\",\"visible\":false,\"x\":[\"Aisle\"],\"y\":[25786.0],\"type\":\"bar\"},{\"marker\":{\"color\":\"rgba(44, 160, 44, 0.6)\"},\"name\":\"T-shirts - End-cap\",\"visible\":false,\"x\":[\"End-cap\"],\"y\":[19434.0],\"type\":\"bar\"},{\"marker\":{\"color\":\"rgba(93, 164, 214, 0.6)\"},\"name\":\"T-shirts - Front of Store\",\"visible\":false,\"x\":[\"Front of Store\"],\"y\":[8417.0],\"type\":\"bar\"},{\"marker\":{\"color\":\"rgba(255, 144, 14, 0.6)\"},\"name\":\"Jeans - Aisle\",\"visible\":false,\"x\":[\"Aisle\"],\"y\":[4599.0],\"type\":\"bar\"},{\"marker\":{\"color\":\"rgba(44, 160, 44, 0.6)\"},\"name\":\"Jeans - End-cap\",\"visible\":false,\"x\":[\"End-cap\"],\"y\":[5171.0],\"type\":\"bar\"},{\"marker\":{\"color\":\"rgba(93, 164, 214, 0.6)\"},\"name\":\"Jeans - Front of Store\",\"visible\":false,\"x\":[\"Front of Store\"],\"y\":[3550.0],\"type\":\"bar\"}],                        {\"template\":{\"data\":{\"histogram2dcontour\":[{\"type\":\"histogram2dcontour\",\"colorbar\":{\"outlinewidth\":0,\"ticks\":\"\"},\"colorscale\":[[0.0,\"#0d0887\"],[0.1111111111111111,\"#46039f\"],[0.2222222222222222,\"#7201a8\"],[0.3333333333333333,\"#9c179e\"],[0.4444444444444444,\"#bd3786\"],[0.5555555555555556,\"#d8576b\"],[0.6666666666666666,\"#ed7953\"],[0.7777777777777778,\"#fb9f3a\"],[0.8888888888888888,\"#fdca26\"],[1.0,\"#f0f921\"]]}],\"choropleth\":[{\"type\":\"choropleth\",\"colorbar\":{\"outlinewidth\":0,\"ticks\":\"\"}}],\"histogram2d\":[{\"type\":\"histogram2d\",\"colorbar\":{\"outlinewidth\":0,\"ticks\":\"\"},\"colorscale\":[[0.0,\"#0d0887\"],[0.1111111111111111,\"#46039f\"],[0.2222222222222222,\"#7201a8\"],[0.3333333333333333,\"#9c179e\"],[0.4444444444444444,\"#bd3786\"],[0.5555555555555556,\"#d8576b\"],[0.6666666666666666,\"#ed7953\"],[0.7777777777777778,\"#fb9f3a\"],[0.8888888888888888,\"#fdca26\"],[1.0,\"#f0f921\"]]}],\"heatmap\":[{\"type\":\"heatmap\",\"colorbar\":{\"outlinewidth\":0,\"ticks\":\"\"},\"colorscale\":[[0.0,\"#0d0887\"],[0.1111111111111111,\"#46039f\"],[0.2222222222222222,\"#7201a8\"],[0.3333333333333333,\"#9c179e\"],[0.4444444444444444,\"#bd3786\"],[0.5555555555555556,\"#d8576b\"],[0.6666666666666666,\"#ed7953\"],[0.7777777777777778,\"#fb9f3a\"],[0.8888888888888888,\"#fdca26\"],[1.0,\"#f0f921\"]]}],\"heatmapgl\":[{\"type\":\"heatmapgl\",\"colorbar\":{\"outlinewidth\":0,\"ticks\":\"\"},\"colorscale\":[[0.0,\"#0d0887\"],[0.1111111111111111,\"#46039f\"],[0.2222222222222222,\"#7201a8\"],[0.3333333333333333,\"#9c179e\"],[0.4444444444444444,\"#bd3786\"],[0.5555555555555556,\"#d8576b\"],[0.6666666666666666,\"#ed7953\"],[0.7777777777777778,\"#fb9f3a\"],[0.8888888888888888,\"#fdca26\"],[1.0,\"#f0f921\"]]}],\"contourcarpet\":[{\"type\":\"contourcarpet\",\"colorbar\":{\"outlinewidth\":0,\"ticks\":\"\"}}],\"contour\":[{\"type\":\"contour\",\"colorbar\":{\"outlinewidth\":0,\"ticks\":\"\"},\"colorscale\":[[0.0,\"#0d0887\"],[0.1111111111111111,\"#46039f\"],[0.2222222222222222,\"#7201a8\"],[0.3333333333333333,\"#9c179e\"],[0.4444444444444444,\"#bd3786\"],[0.5555555555555556,\"#d8576b\"],[0.6666666666666666,\"#ed7953\"],[0.7777777777777778,\"#fb9f3a\"],[0.8888888888888888,\"#fdca26\"],[1.0,\"#f0f921\"]]}],\"surface\":[{\"type\":\"surface\",\"colorbar\":{\"outlinewidth\":0,\"ticks\":\"\"},\"colorscale\":[[0.0,\"#0d0887\"],[0.1111111111111111,\"#46039f\"],[0.2222222222222222,\"#7201a8\"],[0.3333333333333333,\"#9c179e\"],[0.4444444444444444,\"#bd3786\"],[0.5555555555555556,\"#d8576b\"],[0.6666666666666666,\"#ed7953\"],[0.7777777777777778,\"#fb9f3a\"],[0.8888888888888888,\"#fdca26\"],[1.0,\"#f0f921\"]]}],\"mesh3d\":[{\"type\":\"mesh3d\",\"colorbar\":{\"outlinewidth\":0,\"ticks\":\"\"}}],\"scatter\":[{\"fillpattern\":{\"fillmode\":\"overlay\",\"size\":10,\"solidity\":0.2},\"type\":\"scatter\"}],\"parcoords\":[{\"type\":\"parcoords\",\"line\":{\"colorbar\":{\"outlinewidth\":0,\"ticks\":\"\"}}}],\"scatterpolargl\":[{\"type\":\"scatterpolargl\",\"marker\":{\"colorbar\":{\"outlinewidth\":0,\"ticks\":\"\"}}}],\"bar\":[{\"error_x\":{\"color\":\"#2a3f5f\"},\"error_y\":{\"color\":\"#2a3f5f\"},\"marker\":{\"line\":{\"color\":\"#E5ECF6\",\"width\":0.5},\"pattern\":{\"fillmode\":\"overlay\",\"size\":10,\"solidity\":0.2}},\"type\":\"bar\"}],\"scattergeo\":[{\"type\":\"scattergeo\",\"marker\":{\"colorbar\":{\"outlinewidth\":0,\"ticks\":\"\"}}}],\"scatterpolar\":[{\"type\":\"scatterpolar\",\"marker\":{\"colorbar\":{\"outlinewidth\":0,\"ticks\":\"\"}}}],\"histogram\":[{\"marker\":{\"pattern\":{\"fillmode\":\"overlay\",\"size\":10,\"solidity\":0.2}},\"type\":\"histogram\"}],\"scattergl\":[{\"type\":\"scattergl\",\"marker\":{\"colorbar\":{\"outlinewidth\":0,\"ticks\":\"\"}}}],\"scatter3d\":[{\"type\":\"scatter3d\",\"line\":{\"colorbar\":{\"outlinewidth\":0,\"ticks\":\"\"}},\"marker\":{\"colorbar\":{\"outlinewidth\":0,\"ticks\":\"\"}}}],\"scattermapbox\":[{\"type\":\"scattermapbox\",\"marker\":{\"colorbar\":{\"outlinewidth\":0,\"ticks\":\"\"}}}],\"scatterternary\":[{\"type\":\"scatterternary\",\"marker\":{\"colorbar\":{\"outlinewidth\":0,\"ticks\":\"\"}}}],\"scattercarpet\":[{\"type\":\"scattercarpet\",\"marker\":{\"colorbar\":{\"outlinewidth\":0,\"ticks\":\"\"}}}],\"carpet\":[{\"aaxis\":{\"endlinecolor\":\"#2a3f5f\",\"gridcolor\":\"white\",\"linecolor\":\"white\",\"minorgridcolor\":\"white\",\"startlinecolor\":\"#2a3f5f\"},\"baxis\":{\"endlinecolor\":\"#2a3f5f\",\"gridcolor\":\"white\",\"linecolor\":\"white\",\"minorgridcolor\":\"white\",\"startlinecolor\":\"#2a3f5f\"},\"type\":\"carpet\"}],\"table\":[{\"cells\":{\"fill\":{\"color\":\"#EBF0F8\"},\"line\":{\"color\":\"white\"}},\"header\":{\"fill\":{\"color\":\"#C8D4E3\"},\"line\":{\"color\":\"white\"}},\"type\":\"table\"}],\"barpolar\":[{\"marker\":{\"line\":{\"color\":\"#E5ECF6\",\"width\":0.5},\"pattern\":{\"fillmode\":\"overlay\",\"size\":10,\"solidity\":0.2}},\"type\":\"barpolar\"}],\"pie\":[{\"automargin\":true,\"type\":\"pie\"}]},\"layout\":{\"autotypenumbers\":\"strict\",\"colorway\":[\"#636efa\",\"#EF553B\",\"#00cc96\",\"#ab63fa\",\"#FFA15A\",\"#19d3f3\",\"#FF6692\",\"#B6E880\",\"#FF97FF\",\"#FECB52\"],\"font\":{\"color\":\"#2a3f5f\"},\"hovermode\":\"closest\",\"hoverlabel\":{\"align\":\"left\"},\"paper_bgcolor\":\"white\",\"plot_bgcolor\":\"#E5ECF6\",\"polar\":{\"bgcolor\":\"#E5ECF6\",\"angularaxis\":{\"gridcolor\":\"white\",\"linecolor\":\"white\",\"ticks\":\"\"},\"radialaxis\":{\"gridcolor\":\"white\",\"linecolor\":\"white\",\"ticks\":\"\"}},\"ternary\":{\"bgcolor\":\"#E5ECF6\",\"aaxis\":{\"gridcolor\":\"white\",\"linecolor\":\"white\",\"ticks\":\"\"},\"baxis\":{\"gridcolor\":\"white\",\"linecolor\":\"white\",\"ticks\":\"\"},\"caxis\":{\"gridcolor\":\"white\",\"linecolor\":\"white\",\"ticks\":\"\"}},\"coloraxis\":{\"colorbar\":{\"outlinewidth\":0,\"ticks\":\"\"}},\"colorscale\":{\"sequential\":[[0.0,\"#0d0887\"],[0.1111111111111111,\"#46039f\"],[0.2222222222222222,\"#7201a8\"],[0.3333333333333333,\"#9c179e\"],[0.4444444444444444,\"#bd3786\"],[0.5555555555555556,\"#d8576b\"],[0.6666666666666666,\"#ed7953\"],[0.7777777777777778,\"#fb9f3a\"],[0.8888888888888888,\"#fdca26\"],[1.0,\"#f0f921\"]],\"sequentialminus\":[[0.0,\"#0d0887\"],[0.1111111111111111,\"#46039f\"],[0.2222222222222222,\"#7201a8\"],[0.3333333333333333,\"#9c179e\"],[0.4444444444444444,\"#bd3786\"],[0.5555555555555556,\"#d8576b\"],[0.6666666666666666,\"#ed7953\"],[0.7777777777777778,\"#fb9f3a\"],[0.8888888888888888,\"#fdca26\"],[1.0,\"#f0f921\"]],\"diverging\":[[0,\"#8e0152\"],[0.1,\"#c51b7d\"],[0.2,\"#de77ae\"],[0.3,\"#f1b6da\"],[0.4,\"#fde0ef\"],[0.5,\"#f7f7f7\"],[0.6,\"#e6f5d0\"],[0.7,\"#b8e186\"],[0.8,\"#7fbc41\"],[0.9,\"#4d9221\"],[1,\"#276419\"]]},\"xaxis\":{\"gridcolor\":\"white\",\"linecolor\":\"white\",\"ticks\":\"\",\"title\":{\"standoff\":15},\"zerolinecolor\":\"white\",\"automargin\":true,\"zerolinewidth\":2},\"yaxis\":{\"gridcolor\":\"white\",\"linecolor\":\"white\",\"ticks\":\"\",\"title\":{\"standoff\":15},\"zerolinecolor\":\"white\",\"automargin\":true,\"zerolinewidth\":2},\"scene\":{\"xaxis\":{\"backgroundcolor\":\"#E5ECF6\",\"gridcolor\":\"white\",\"linecolor\":\"white\",\"showbackground\":true,\"ticks\":\"\",\"zerolinecolor\":\"white\",\"gridwidth\":2},\"yaxis\":{\"backgroundcolor\":\"#E5ECF6\",\"gridcolor\":\"white\",\"linecolor\":\"white\",\"showbackground\":true,\"ticks\":\"\",\"zerolinecolor\":\"white\",\"gridwidth\":2},\"zaxis\":{\"backgroundcolor\":\"#E5ECF6\",\"gridcolor\":\"white\",\"linecolor\":\"white\",\"showbackground\":true,\"ticks\":\"\",\"zerolinecolor\":\"white\",\"gridwidth\":2}},\"shapedefaults\":{\"line\":{\"color\":\"#2a3f5f\"}},\"annotationdefaults\":{\"arrowcolor\":\"#2a3f5f\",\"arrowhead\":0,\"arrowwidth\":1},\"geo\":{\"bgcolor\":\"white\",\"landcolor\":\"#E5ECF6\",\"subunitcolor\":\"white\",\"showland\":true,\"showlakes\":true,\"lakecolor\":\"white\"},\"title\":{\"x\":0.05},\"mapbox\":{\"style\":\"light\"}}},\"updatemenus\":[{\"buttons\":[{\"args\":[{\"visible\":[true,true,true,false,false,false,false,false,false,false,false,false,false,false,false]}],\"label\":\"Jackets\",\"method\":\"update\"},{\"args\":[{\"visible\":[false,false,false,true,true,true,false,false,false,false,false,false,false,false,false]}],\"label\":\"Sweaters\",\"method\":\"update\"},{\"args\":[{\"visible\":[false,false,false,false,false,false,true,true,true,false,false,false,false,false,false]}],\"label\":\"Shoes\",\"method\":\"update\"},{\"args\":[{\"visible\":[false,false,false,false,false,false,false,false,false,true,true,true,false,false,false]}],\"label\":\"T-shirts\",\"method\":\"update\"},{\"args\":[{\"visible\":[false,false,false,false,false,false,false,false,false,false,false,false,true,true,true]}],\"label\":\"Jeans\",\"method\":\"update\"}],\"direction\":\"down\",\"showactive\":true,\"x\":0.5,\"xanchor\":\"center\",\"y\":1.15,\"yanchor\":\"top\"}],\"title\":{\"text\":\"Total Sales by Product Location\"},\"barmode\":\"group\"},                        {\"responsive\": true}                    ).then(function(){\n",
       "                            \n",
       "var gd = document.getElementById('584e608a-5297-4363-864f-5369e41f64c4');\n",
       "var x = new MutationObserver(function (mutations, observer) {{\n",
       "        var display = window.getComputedStyle(gd).display;\n",
       "        if (!display || display === 'none') {{\n",
       "            console.log([gd, 'removed!']);\n",
       "            Plotly.purge(gd);\n",
       "            observer.disconnect();\n",
       "        }}\n",
       "}});\n",
       "\n",
       "// Listen for the removal of the full notebook cells\n",
       "var notebookContainer = gd.closest('#notebook-container');\n",
       "if (notebookContainer) {{\n",
       "    x.observe(notebookContainer, {childList: true});\n",
       "}}\n",
       "\n",
       "// Listen for the clearing of the current output cell\n",
       "var outputEl = gd.closest('.output');\n",
       "if (outputEl) {{\n",
       "    x.observe(outputEl, {childList: true});\n",
       "}}\n",
       "\n",
       "                        })                };                });            </script>        </div>"
      ]
     },
     "metadata": {},
     "output_type": "display_data"
    }
   ],
   "source": [
    "data['sales_volume'] = data['sales_volume'].replace('', '', regex=True).astype(float)\n",
    "\n",
    "# Initialize the figure\n",
    "fig = go.Figure()\n",
    "\n",
    "# List of unique products and sales methods\n",
    "products = data['product_category'].unique()\n",
    "sales_methods = data['product_position'].unique()\n",
    "\n",
    "# Define a subdued color palette\n",
    "color_palette = {\n",
    "    'Front of Store': 'rgba(93, 164, 214, 0.6)',  # Light blue\n",
    "    'Aisle': 'rgba(255, 144, 14, 0.6)',          # Light orange\n",
    "    'End-cap': 'rgba(44, 160, 44, 0.6)'          # Light green\n",
    "}\n",
    "\n",
    "# Add traces for each combination of product and sales method\n",
    "for product_category in products:\n",
    "    for product_position in sales_methods:\n",
    "        filtered_df = data[(data['product_category'] == product_category) & (data['product_position'] == product_position)]\n",
    "        location_sales = filtered_df.groupby('product_position')['sales_volume'].sum().reset_index()\n",
    "\n",
    "        fig.add_trace(\n",
    "            go.Bar(\n",
    "                x=location_sales['product_position'],\n",
    "                y=location_sales['sales_volume'],\n",
    "                name=f\"{product_category} - {product_position}\",\n",
    "                visible=False,  # Initially, all traces are hidden\n",
    "                marker=dict(color=color_palette.get(product_position, 'rgba(0, 0, 0, 0.6)'))  # Default to black if not found\n",
    "            )\n",
    "        )\n",
    "\n",
    "# Update layout with dropdown menu for product categories only\n",
    "product_category_buttons = [\n",
    "    {'label': product_category, 'method': 'update', 'args': [{'visible': [trace.name.startswith(product_category) for trace in fig.data]}]}\n",
    "    for product_category in products\n",
    "]\n",
    "\n",
    "fig.update_layout(\n",
    "    updatemenus=[\n",
    "        {\n",
    "            'buttons': product_category_buttons,\n",
    "            'direction': 'down',\n",
    "            'showactive': True,\n",
    "            'x': 0.5,\n",
    "            'xanchor': 'center',\n",
    "            'y': 1.15,\n",
    "            'yanchor': 'top'\n",
    "        }\n",
    "    ],\n",
    "    title=\"Total Sales by Product Location\",\n",
    "    barmode='group'\n",
    ")\n",
    "\n",
    "# Initially displaying the first product category\n",
    "if fig.data:\n",
    "    fig.data[0].visible = True\n",
    "\n",
    "fig.show()"
   ]
  },
  {
   "cell_type": "code",
   "execution_count": 458,
   "id": "13895135-8d7d-4913-9dbf-6eeec94dcd3e",
   "metadata": {},
   "outputs": [
    {
     "name": "stdout",
     "output_type": "stream",
     "text": [
      "                  sales_volume  gross_margin\n",
      "product_position                            \n",
      "Aisle                 177396.0      0.687969\n",
      "End-cap               152930.0      0.678847\n",
      "Front of Store        129247.0      0.658398\n"
     ]
    }
   ],
   "source": [
    "data['sales_volume'] = data['sales_volume'].replace('', '', regex=True).astype(float)\n",
    "data['price'] = data['price'].replace('', '', regex=True).astype(float)\n",
    "\n",
    "# Segmenting and aggregating data by 'product_position'\n",
    "sales_method_grouped = data.groupby('product_position').agg({\n",
    "    'sales_volume': 'sum',\n",
    "    'price': 'sum'\n",
    "})\n",
    "\n",
    "# Calculating Gross Margin\n",
    "sales_method_grouped['gross_margin'] = (sales_method_grouped['sales_volume'] - sales_method_grouped['price']) / sales_method_grouped['sales_volume']\n",
    "# Assuming `sales_method_grouped` is your DataFrame\n",
    "sales_method_grouped = sales_method_grouped.drop(columns=['price'])\n",
    "# Display the result\n",
    "print(sales_method_grouped)"
   ]
  },
  {
   "cell_type": "markdown",
   "id": "11fdbd1c-de2c-43cc-bb2b-d988f1e05de1",
   "metadata": {},
   "source": [
    "<p style=\"font-family: 'Arial', sans-serif; font-size: 14px; font-weight: 500;\">Interpreting the above table in words for easier understanding</p>"
   ]
  },
  {
   "cell_type": "markdown",
   "id": "91602740-6c8b-4a3a-8e84-1a51ea219986",
   "metadata": {},
   "source": [
    "<p style=\"font-family: 'Arial', sans-serif; font-size: 12px; font-weight: 500;\">\n",
    "    1. Total Sales Volume: <br>\n",
    "    &nbsp;&nbsp;&nbsp;&nbsp; <strong><em>Aisle:</em></strong> <strong><em>177,396</em></strong> <br>\n",
    "    &nbsp;&nbsp;&nbsp;&nbsp; <strong><em>End-Cap:</em></strong> <strong><em>152,930</em></strong> <br>\n",
    "    &nbsp;&nbsp;&nbsp;&nbsp; <strong><em>Front of Store:</em></strong> <strong><em>129,247</em></strong> <br>\n",
    "    &nbsp;&nbsp;&nbsp;&nbsp; Aisle has the highest total sales, followed by End-Cap and Front of Store.\n",
    "    <br><br>\n",
    "    2. Gross Margin (Total Sales Volume minus Price and divided by Total Sales Volume): <br>\n",
    "    &nbsp;&nbsp;&nbsp;&nbsp; <strong><em>End-Cap:</em></strong> <strong><em>0.954294</em></strong> (or <strong><em>95.42%</em></strong>) <br>\n",
    "    &nbsp;&nbsp;&nbsp;&nbsp; <strong><em>Front of Store:</em></strong> <strong><em>0.952543</em></strong> (or <strong><em>95.25%</em></strong>) <br>\n",
    "    &nbsp;&nbsp;&nbsp;&nbsp; <strong><em>Aisle:</em></strong> <strong><em>0.951452</em></strong> (or <strong><em>95.14%</em></strong>)\n",
    "</p>\n"
   ]
  },
  {
   "cell_type": "markdown",
   "id": "cd6c55c7-4573-4949-b426-4779e07696e8",
   "metadata": {},
   "source": [
    "Here, while in Aisle sales have the highest total sales and profit, end - cap have the highest gross margin, indicating a higher profitability relative to the sales generated. Insights: In terms of Total Sales Volume and Gross Margin: Aisle sales method is the most effective, generating the hightest total sales.\n",
    "\n",
    "When deciding which sales method is more effective, it depends on what the business prioritizes. If the focus is on the maximizing total revenue and profit, then Aisle sales are more effective.\n"
   ]
  },
  {
   "cell_type": "markdown",
   "id": "63bd9a0b-7a1b-412e-934a-c161c0c99c12",
   "metadata": {},
   "source": [
    "<p style=\"font-family: 'Arial', sans-serif; font-size: 20px; font-weight: 500;\">Price Optimization: Is there a specific price range that achieves better sales than others?</p>"
   ]
  },
  {
   "cell_type": "code",
   "execution_count": 463,
   "id": "fcc5971f-fd68-45f8-877c-c299b3002df4",
   "metadata": {},
   "outputs": [
    {
     "name": "stderr",
     "output_type": "stream",
     "text": [
      "C:\\Users\\rflip\\AppData\\Local\\Temp\\ipykernel_18068\\3653335598.py:7: FutureWarning:\n",
      "\n",
      "The default of observed=False is deprecated and will be changed to True in a future version of pandas. Pass observed=False to retain current behavior or observed=True to adopt the future default and silence this warning.\n",
      "\n"
     ]
    },
    {
     "data": {
      "text/html": [
       "<div>\n",
       "<style scoped>\n",
       "    .dataframe tbody tr th:only-of-type {\n",
       "        vertical-align: middle;\n",
       "    }\n",
       "\n",
       "    .dataframe tbody tr th {\n",
       "        vertical-align: top;\n",
       "    }\n",
       "\n",
       "    .dataframe thead th {\n",
       "        text-align: right;\n",
       "    }\n",
       "</style>\n",
       "<table border=\"1\" class=\"dataframe\">\n",
       "  <thead>\n",
       "    <tr style=\"text-align: right;\">\n",
       "      <th></th>\n",
       "      <th>Price Range</th>\n",
       "      <th>sales_volume</th>\n",
       "    </tr>\n",
       "  </thead>\n",
       "  <tbody>\n",
       "    <tr>\n",
       "      <th>10</th>\n",
       "      <td>(100, 110]</td>\n",
       "      <td>43434.0</td>\n",
       "    </tr>\n",
       "    <tr>\n",
       "      <th>12</th>\n",
       "      <td>(120, 130]</td>\n",
       "      <td>31572.0</td>\n",
       "    </tr>\n",
       "    <tr>\n",
       "      <th>0</th>\n",
       "      <td>(0, 10]</td>\n",
       "      <td>0.0</td>\n",
       "    </tr>\n",
       "    <tr>\n",
       "      <th>1</th>\n",
       "      <td>(10, 20]</td>\n",
       "      <td>0.0</td>\n",
       "    </tr>\n",
       "    <tr>\n",
       "      <th>2</th>\n",
       "      <td>(20, 30]</td>\n",
       "      <td>0.0</td>\n",
       "    </tr>\n",
       "    <tr>\n",
       "      <th>3</th>\n",
       "      <td>(30, 40]</td>\n",
       "      <td>0.0</td>\n",
       "    </tr>\n",
       "    <tr>\n",
       "      <th>4</th>\n",
       "      <td>(40, 50]</td>\n",
       "      <td>0.0</td>\n",
       "    </tr>\n",
       "    <tr>\n",
       "      <th>5</th>\n",
       "      <td>(50, 60]</td>\n",
       "      <td>0.0</td>\n",
       "    </tr>\n",
       "    <tr>\n",
       "      <th>6</th>\n",
       "      <td>(60, 70]</td>\n",
       "      <td>0.0</td>\n",
       "    </tr>\n",
       "    <tr>\n",
       "      <th>7</th>\n",
       "      <td>(70, 80]</td>\n",
       "      <td>0.0</td>\n",
       "    </tr>\n",
       "    <tr>\n",
       "      <th>8</th>\n",
       "      <td>(80, 90]</td>\n",
       "      <td>0.0</td>\n",
       "    </tr>\n",
       "    <tr>\n",
       "      <th>9</th>\n",
       "      <td>(90, 100]</td>\n",
       "      <td>0.0</td>\n",
       "    </tr>\n",
       "    <tr>\n",
       "      <th>11</th>\n",
       "      <td>(110, 120]</td>\n",
       "      <td>0.0</td>\n",
       "    </tr>\n",
       "  </tbody>\n",
       "</table>\n",
       "</div>"
      ],
      "text/plain": [
       "   Price Range  sales_volume\n",
       "10  (100, 110]       43434.0\n",
       "12  (120, 130]       31572.0\n",
       "0      (0, 10]           0.0\n",
       "1     (10, 20]           0.0\n",
       "2     (20, 30]           0.0\n",
       "3     (30, 40]           0.0\n",
       "4     (40, 50]           0.0\n",
       "5     (50, 60]           0.0\n",
       "6     (60, 70]           0.0\n",
       "7     (70, 80]           0.0\n",
       "8     (80, 90]           0.0\n",
       "9    (90, 100]           0.0\n",
       "11  (110, 120]           0.0"
      ]
     },
     "execution_count": 463,
     "metadata": {},
     "output_type": "execute_result"
    }
   ],
   "source": [
    "# Define the price bins\n",
    "bins = [0, 10, 20, 30, 40, 50, 60, 70, 80, 90, 100, 110, 120, 130]\n",
    "# Create a new column for the price range\n",
    "data['Price Range'] = pd.cut(data['price'], bins)\n",
    "\n",
    "# Group by the price range and sum the total sales\n",
    "sales_by_price_range = data.groupby('Price Range')['sales_volume'].sum().reset_index()\n",
    "\n",
    "# Sorting the results to see which price range has the highest sales\n",
    "sorted_sales_by_price_range = sales_by_price_range.sort_values(by='sales_volume', ascending=False)\n",
    "\n",
    "# Results are sorted based on Total Sales \n",
    "sorted_sales_by_price_range"
   ]
  },
  {
   "cell_type": "markdown",
   "id": "92df1cbc-ac23-44cc-a4d8-d827cc33b698",
   "metadata": {},
   "source": [
    "<p style=\"font-family: 'Arial', sans-serif; font-size: 14px; font-weight: bold;\">Interpreting the above table in words for easier understanding</p>"
   ]
  },
  {
   "cell_type": "markdown",
   "id": "ec61777d-aae4-4236-9e88-7d20eefa306d",
   "metadata": {},
   "source": [
    "1. The highest total sales are in the price range of 80 to 90 ($73,292), indicating that products priced within this range are very popular or in high demand \n",
    "\n",
    "2. The next highest sales are in the price ranges of 60 to 70 ($65,817) and 40 to 50 ($53,065). These ranges also appear to be effecctive in terms of sales\n",
    "3. The lowest sales figures are observed in the extreme high end (110 to 120) and low end (0,10) of the price spectrum."
   ]
  },
  {
   "cell_type": "markdown",
   "id": "57fbde87-240b-4fbe-a132-4316c4503f50",
   "metadata": {},
   "source": [
    "<p style=\"font-family: 'Arial', sans-serif; font-size: 14px; font-weight: bold;\">Insights:</p>"
   ]
  },
  {
   "cell_type": "markdown",
   "id": "6e450ea9-3210-4912-8be2-be864b4562dd",
   "metadata": {},
   "source": [
    "* Products priced in the mid to high range (specifically between 80 and 110) seem to be achieving the best sales. This could indicate a sweet spot for pricing where customers are more willing to purchase.\n",
    "* Very low-priced products (below 20). This might be due to various factors like perceived value, product quality, target customer segment, or availability.\n",
    "* The 110 to 120 range shows no sales, indicating there are no products in this range or no demand for the product at this price point."
   ]
  },
  {
   "cell_type": "markdown",
   "id": "4c530321-1227-4928-89a4-1c4a2cdbe70d",
   "metadata": {},
   "source": [
    "<p style=\"font-family: 'Arial', sans-serif; font-size: 14px; font-weight: bold;\">Conclusion:</p>"
   ]
  },
  {
   "cell_type": "markdown",
   "id": "5b242771-8f7c-4e32-b741-d51d98a314a7",
   "metadata": {},
   "source": [
    "* A specific price range, notably between 40 to 90, does achieve better sales compared to other ranges.\n",
    "* Understanding the reasons behind this trend would require additional qualitative analysis, such as customer preferences, product types within each price range, market competition and promotional strategies.\n",
    "* This insight can be useful for pricing strategies, inventory management and marketing campaigns. Focusing more on the price ranges that have shown higher sa"
   ]
  },
  {
   "cell_type": "markdown",
   "id": "36c75227-e1a3-46e1-af8b-43e097a80c67",
   "metadata": {},
   "source": [
    "<p style=\"font-family: 'Arial', sans-serif; font-size: 20px; font-weight: 500;\"> Product Portfolio Optimization: Determine which products are most profitable, segmented by Product Location.</p>"
   ]
  },
  {
   "cell_type": "code",
   "execution_count": 471,
   "id": "4a553237-8de0-4676-948d-8c629bf724d2",
   "metadata": {},
   "outputs": [
    {
     "data": {
      "text/html": [
       "<div>\n",
       "<style scoped>\n",
       "    .dataframe tbody tr th:only-of-type {\n",
       "        vertical-align: middle;\n",
       "    }\n",
       "\n",
       "    .dataframe tbody tr th {\n",
       "        vertical-align: top;\n",
       "    }\n",
       "\n",
       "    .dataframe thead th {\n",
       "        text-align: right;\n",
       "    }\n",
       "</style>\n",
       "<table border=\"1\" class=\"dataframe\">\n",
       "  <thead>\n",
       "    <tr style=\"text-align: right;\">\n",
       "      <th></th>\n",
       "      <th>product_position</th>\n",
       "      <th>product_category</th>\n",
       "      <th>gross_margin</th>\n",
       "      <th>sales_volume</th>\n",
       "      <th>profit_margin</th>\n",
       "    </tr>\n",
       "  </thead>\n",
       "  <tbody>\n",
       "    <tr>\n",
       "      <th>0</th>\n",
       "      <td>Aisle</td>\n",
       "      <td>Jackets</td>\n",
       "      <td>24170633</td>\n",
       "      <td>102577.0</td>\n",
       "      <td>2.356340e+06</td>\n",
       "    </tr>\n",
       "    <tr>\n",
       "      <th>2</th>\n",
       "      <td>Aisle</td>\n",
       "      <td>Shoes</td>\n",
       "      <td>5618118</td>\n",
       "      <td>24412.0</td>\n",
       "      <td>2.301376e+06</td>\n",
       "    </tr>\n",
       "    <tr>\n",
       "      <th>3</th>\n",
       "      <td>Aisle</td>\n",
       "      <td>Sweaters</td>\n",
       "      <td>3959585</td>\n",
       "      <td>20022.0</td>\n",
       "      <td>1.977617e+06</td>\n",
       "    </tr>\n",
       "    <tr>\n",
       "      <th>4</th>\n",
       "      <td>Aisle</td>\n",
       "      <td>T-shirts</td>\n",
       "      <td>4540003</td>\n",
       "      <td>25786.0</td>\n",
       "      <td>1.760646e+06</td>\n",
       "    </tr>\n",
       "    <tr>\n",
       "      <th>1</th>\n",
       "      <td>Aisle</td>\n",
       "      <td>Jeans</td>\n",
       "      <td>316968</td>\n",
       "      <td>4599.0</td>\n",
       "      <td>6.892107e+05</td>\n",
       "    </tr>\n",
       "    <tr>\n",
       "      <th>6</th>\n",
       "      <td>End-cap</td>\n",
       "      <td>Jeans</td>\n",
       "      <td>1402039</td>\n",
       "      <td>5171.0</td>\n",
       "      <td>2.711350e+06</td>\n",
       "    </tr>\n",
       "    <tr>\n",
       "      <th>5</th>\n",
       "      <td>End-cap</td>\n",
       "      <td>Jackets</td>\n",
       "      <td>17617964</td>\n",
       "      <td>77705.0</td>\n",
       "      <td>2.267288e+06</td>\n",
       "    </tr>\n",
       "    <tr>\n",
       "      <th>7</th>\n",
       "      <td>End-cap</td>\n",
       "      <td>Shoes</td>\n",
       "      <td>3902653</td>\n",
       "      <td>17906.0</td>\n",
       "      <td>2.179523e+06</td>\n",
       "    </tr>\n",
       "    <tr>\n",
       "      <th>9</th>\n",
       "      <td>End-cap</td>\n",
       "      <td>T-shirts</td>\n",
       "      <td>3578628</td>\n",
       "      <td>19434.0</td>\n",
       "      <td>1.841426e+06</td>\n",
       "    </tr>\n",
       "    <tr>\n",
       "      <th>8</th>\n",
       "      <td>End-cap</td>\n",
       "      <td>Sweaters</td>\n",
       "      <td>5862857</td>\n",
       "      <td>32714.0</td>\n",
       "      <td>1.792155e+06</td>\n",
       "    </tr>\n",
       "    <tr>\n",
       "      <th>10</th>\n",
       "      <td>Front of Store</td>\n",
       "      <td>Jackets</td>\n",
       "      <td>15988676</td>\n",
       "      <td>79186.0</td>\n",
       "      <td>2.019129e+06</td>\n",
       "    </tr>\n",
       "    <tr>\n",
       "      <th>12</th>\n",
       "      <td>Front of Store</td>\n",
       "      <td>Shoes</td>\n",
       "      <td>3105057</td>\n",
       "      <td>15588.0</td>\n",
       "      <td>1.991953e+06</td>\n",
       "    </tr>\n",
       "    <tr>\n",
       "      <th>14</th>\n",
       "      <td>Front of Store</td>\n",
       "      <td>T-shirts</td>\n",
       "      <td>1497252</td>\n",
       "      <td>8417.0</td>\n",
       "      <td>1.778843e+06</td>\n",
       "    </tr>\n",
       "    <tr>\n",
       "      <th>13</th>\n",
       "      <td>Front of Store</td>\n",
       "      <td>Sweaters</td>\n",
       "      <td>3674557</td>\n",
       "      <td>22506.0</td>\n",
       "      <td>1.632701e+06</td>\n",
       "    </tr>\n",
       "    <tr>\n",
       "      <th>11</th>\n",
       "      <td>Front of Store</td>\n",
       "      <td>Jeans</td>\n",
       "      <td>409765</td>\n",
       "      <td>3550.0</td>\n",
       "      <td>1.154268e+06</td>\n",
       "    </tr>\n",
       "  </tbody>\n",
       "</table>\n",
       "</div>"
      ],
      "text/plain": [
       "   product_position product_category  gross_margin  sales_volume  \\\n",
       "0             Aisle          Jackets      24170633      102577.0   \n",
       "2             Aisle            Shoes       5618118       24412.0   \n",
       "3             Aisle         Sweaters       3959585       20022.0   \n",
       "4             Aisle         T-shirts       4540003       25786.0   \n",
       "1             Aisle            Jeans        316968        4599.0   \n",
       "6           End-cap            Jeans       1402039        5171.0   \n",
       "5           End-cap          Jackets      17617964       77705.0   \n",
       "7           End-cap            Shoes       3902653       17906.0   \n",
       "9           End-cap         T-shirts       3578628       19434.0   \n",
       "8           End-cap         Sweaters       5862857       32714.0   \n",
       "10   Front of Store          Jackets      15988676       79186.0   \n",
       "12   Front of Store            Shoes       3105057       15588.0   \n",
       "14   Front of Store         T-shirts       1497252        8417.0   \n",
       "13   Front of Store         Sweaters       3674557       22506.0   \n",
       "11   Front of Store            Jeans        409765        3550.0   \n",
       "\n",
       "    profit_margin  \n",
       "0    2.356340e+06  \n",
       "2    2.301376e+06  \n",
       "3    1.977617e+06  \n",
       "4    1.760646e+06  \n",
       "1    6.892107e+05  \n",
       "6    2.711350e+06  \n",
       "5    2.267288e+06  \n",
       "7    2.179523e+06  \n",
       "9    1.841426e+06  \n",
       "8    1.792155e+06  \n",
       "10   2.019129e+06  \n",
       "12   1.991953e+06  \n",
       "14   1.778843e+06  \n",
       "13   1.632701e+06  \n",
       "11   1.154268e+06  "
      ]
     },
     "execution_count": 471,
     "metadata": {},
     "output_type": "execute_result"
    }
   ],
   "source": [
    "# Grouping data by Position and product category\n",
    "grouped_data = data.groupby(['product_position', 'product_category']).agg({'gross_margin': 'sum', 'sales_volume': 'sum'}).reset_index()\n",
    "\n",
    "# Calculating Profit Margin\n",
    "grouped_data['profit_margin'] = grouped_data['gross_margin'] *10000/ grouped_data['sales_volume']\n",
    "\n",
    "# Sorting within each location to find the most profitable products\n",
    "grouped_data.sort_values(by=['product_position', 'profit_margin'], ascending=[True, False], inplace=True)\n",
    "\n",
    "# Optionally, display the top 5 most profitable products for each city\n",
    "top_products_by_position = grouped_data.groupby('product_position').head(5)\n",
    "\n",
    "top_products_by_position"
   ]
  },
  {
   "cell_type": "code",
   "execution_count": 472,
   "id": "dce6fee1-bc32-4eaa-a2c6-0b7b1c365f29",
   "metadata": {},
   "outputs": [
    {
     "name": "stdout",
     "output_type": "stream",
     "text": [
      "Best and Worst Performing Cities for Each Product:\n"
     ]
    },
    {
     "data": {
      "text/html": [
       "<div>\n",
       "<style scoped>\n",
       "    .dataframe tbody tr th:only-of-type {\n",
       "        vertical-align: middle;\n",
       "    }\n",
       "\n",
       "    .dataframe tbody tr th {\n",
       "        vertical-align: top;\n",
       "    }\n",
       "\n",
       "    .dataframe thead th {\n",
       "        text-align: right;\n",
       "    }\n",
       "</style>\n",
       "<table border=\"1\" class=\"dataframe\">\n",
       "  <thead>\n",
       "    <tr style=\"text-align: right;\">\n",
       "      <th></th>\n",
       "      <th>product_category</th>\n",
       "      <th>product_position</th>\n",
       "      <th>sales_volume</th>\n",
       "    </tr>\n",
       "  </thead>\n",
       "  <tbody>\n",
       "    <tr>\n",
       "      <th>0</th>\n",
       "      <td>Jackets</td>\n",
       "      <td>Aisle</td>\n",
       "      <td>102577.0</td>\n",
       "    </tr>\n",
       "    <tr>\n",
       "      <th>1</th>\n",
       "      <td>Jackets</td>\n",
       "      <td>End-cap</td>\n",
       "      <td>77705.0</td>\n",
       "    </tr>\n",
       "    <tr>\n",
       "      <th>2</th>\n",
       "      <td>Jeans</td>\n",
       "      <td>End-cap</td>\n",
       "      <td>5171.0</td>\n",
       "    </tr>\n",
       "    <tr>\n",
       "      <th>3</th>\n",
       "      <td>Jeans</td>\n",
       "      <td>Front of Store</td>\n",
       "      <td>3550.0</td>\n",
       "    </tr>\n",
       "    <tr>\n",
       "      <th>4</th>\n",
       "      <td>Shoes</td>\n",
       "      <td>Aisle</td>\n",
       "      <td>24412.0</td>\n",
       "    </tr>\n",
       "    <tr>\n",
       "      <th>5</th>\n",
       "      <td>Shoes</td>\n",
       "      <td>Front of Store</td>\n",
       "      <td>15588.0</td>\n",
       "    </tr>\n",
       "    <tr>\n",
       "      <th>6</th>\n",
       "      <td>Sweaters</td>\n",
       "      <td>End-cap</td>\n",
       "      <td>32714.0</td>\n",
       "    </tr>\n",
       "    <tr>\n",
       "      <th>7</th>\n",
       "      <td>Sweaters</td>\n",
       "      <td>Aisle</td>\n",
       "      <td>20022.0</td>\n",
       "    </tr>\n",
       "    <tr>\n",
       "      <th>8</th>\n",
       "      <td>T-shirts</td>\n",
       "      <td>Aisle</td>\n",
       "      <td>25786.0</td>\n",
       "    </tr>\n",
       "    <tr>\n",
       "      <th>9</th>\n",
       "      <td>T-shirts</td>\n",
       "      <td>Front of Store</td>\n",
       "      <td>8417.0</td>\n",
       "    </tr>\n",
       "  </tbody>\n",
       "</table>\n",
       "</div>"
      ],
      "text/plain": [
       "  product_category product_position  sales_volume\n",
       "0          Jackets            Aisle      102577.0\n",
       "1          Jackets          End-cap       77705.0\n",
       "2            Jeans          End-cap        5171.0\n",
       "3            Jeans   Front of Store        3550.0\n",
       "4            Shoes            Aisle       24412.0\n",
       "5            Shoes   Front of Store       15588.0\n",
       "6         Sweaters          End-cap       32714.0\n",
       "7         Sweaters            Aisle       20022.0\n",
       "8         T-shirts            Aisle       25786.0\n",
       "9         T-shirts   Front of Store        8417.0"
      ]
     },
     "execution_count": 472,
     "metadata": {},
     "output_type": "execute_result"
    }
   ],
   "source": [
    "# Grouping data by product and city and summing total sales\n",
    "grouped_data = data.groupby(['product_category', 'product_position'])['sales_volume'].sum().reset_index()\n",
    "\n",
    "# For each product, find the city where it performs the best and the worst\n",
    "best_worst_performing_position = []\n",
    "\n",
    "for product in grouped_data['product_category'].unique():\n",
    "    product_data = grouped_data[grouped_data['product_category'] == product]\n",
    "    best_position = product_data[product_data['sales_volume'] == product_data['sales_volume'].max()]\n",
    "    worst_position = product_data[product_data['sales_volume'] == product_data['sales_volume'].min()]\n",
    "    best_worst_performing_position.extend([best_position, worst_position])\n",
    "\n",
    "# Concatenating the results into a single DataFrame\n",
    "best_worst_performing_position_df = pd.concat(best_worst_performing_position).reset_index(drop=True)\n",
    "\n",
    "# Display the results\n",
    "print(\"Best and Worst Performing Cities for Each Product:\")\n",
    "best_worst_performing_position_df"
   ]
  },
  {
   "cell_type": "markdown",
   "id": "1100ba4b-ed62-448e-9374-f017777ca6a4",
   "metadata": {},
   "source": [
    "<p style=\"font-family: 'Arial', sans-serif; font-size: 14px; font-weight: bold;\">Sales and Profitability Analysis by Product Position</p>"
   ]
  },
  {
   "cell_type": "markdown",
   "id": "8edd57c8-6bee-46e7-8733-55c715ec0f5d",
   "metadata": {},
   "source": [
    " <strong><em>Profitability Insight:</em></strong>"
   ]
  },
  {
   "cell_type": "markdown",
   "id": "2e90abbb-dc2f-4a9a-9d74-efe0fcc7cb01",
   "metadata": {},
   "source": [
    "In Aisle, 'Jackets' and 'T-Shirts' are highly profitable, with profit margins around 36% and 34%, respectively. Front of Store shows a different trend with 'Jackets', 'Jeans', 'Shoes', 'Sweaters' and 'T-Shirts' lagging in profitablity,each around 20%."
   ]
  },
  {
   "cell_type": "markdown",
   "id": "9cc11554-c081-4be3-a0fb-8b81a371672d",
   "metadata": {},
   "source": [
    " <strong><em>Sales Perfomance Insights:</em></strong>"
   ]
  },
  {
   "cell_type": "markdown",
   "id": "d0dffc40-f2d5-466b-b644-9bb61ff321aa",
   "metadata": {},
   "source": [
    "Sales of 'Jackets', indicating a strong market for these products. Aisle and End-Cap are top performers for 'Jackets', respectively. Front of Store consistently shows the lowest sales across various products, suggesting limited market penetration or demand."
   ]
  },
  {
   "cell_type": "markdown",
   "id": "a1418f2e-b049-42c8-bdc7-29a5da81c796",
   "metadata": {},
   "source": [
    " <strong><em>Overall Implications:</em></strong>"
   ]
  },
  {
   "cell_type": "markdown",
   "id": "24a2e73f-4524-4541-9d2b-43fa4ede5896",
   "metadata": {},
   "source": [
    "Product popularity and profitability vary significantly by position, indicating the need for tailored marketing and sales strategies in different position. The contrasting trends between positions like Aisle, Front of Sales and End-Cap  highlight diverse consumer preferences, underscoring the importance of a position-specific approach in sales and marketing strategies."
   ]
  },
  {
   "cell_type": "markdown",
   "id": "f6199530-531e-4f76-aa89-2d292289422f",
   "metadata": {},
   "source": [
    "<p style=\"font-family: 'Arial', sans-serif; font-size: 20px; font-weight: 500;\"> Time Series Analysis: Investigate whether there has been a consistent sales trend over time or any noticeable monthly trends.</p>"
   ]
  },
  {
   "cell_type": "code",
   "execution_count": 494,
   "id": "6fe5419a-9d64-4d2f-83f6-a47e2c377ac9",
   "metadata": {},
   "outputs": [
    {
     "data": {
      "image/png": "[encoded data removed]",
      "text/plain": [
       "<Figure size 1200x700 with 1 Axes>"
      ]
     },
     "metadata": {},
     "output_type": "display_data"
    }
   ],
   "source": [
    "data['scraped_at'] = pd.to_datetime(data['scraped_at'])\n",
    "\n",
    "# Group by month and calculate total sales for each month\n",
    "monthly_sales = data.groupby(data['scraped_at'].dt.to_period('M'))['sales_volume'].sum()\n",
    "\n",
    "# Convert the index (which is of type 'Period') to DateTime objects\n",
    "monthly_sales.index = monthly_sales.index.to_timestamp()\n",
    "\n",
    "# Setting the style for a more aesthetic plot\n",
    "sns.set(style=\"whitegrid\")\n",
    "\n",
    "# Plotting the sales trends over time\n",
    "plt.figure(figsize=(12, 7))\n",
    "plt.plot(monthly_sales.index, monthly_sales.values, marker='o', color='teal', linestyle='-', linewidth=2)\n",
    "plt.xlabel('Month', fontsize=12)\n",
    "plt.ylabel('Total Sales', fontsize=12)\n",
    "plt.title('Monthly Sales Trends', fontsize=14)\n",
    "plt.xticks(rotation=0)\n",
    "plt.tick_params(axis='both', which='major', labelsize=10)\n",
    "plt.tight_layout()\n",
    "plt.show()"
   ]
  },
  {
   "cell_type": "code",
   "execution_count": 496,
   "id": "6a7e9e44-149e-4778-bbd7-c1d1ac899ee3",
   "metadata": {},
   "outputs": [
    {
     "name": "stdout",
     "output_type": "stream",
     "text": [
      "These sales follow a seasonality.\n",
      "There is no consistent trend in sales.\n"
     ]
    }
   ],
   "source": [
    "# Calculate the difference between consecutive months for trend analysis\n",
    "diff = monthly_sales.diff()\n",
    "\n",
    "# Define the threshold for significant change (seasonality)\n",
    "seasonality_threshold = 10000\n",
    "\n",
    "# Check for seasonality\n",
    "if (diff.abs() > seasonality_threshold).any():\n",
    "    print(\"These sales follow a seasonality.\")\n",
    "else:\n",
    "    print(\"These sales do not follow a seasonality.\")\n",
    "\n",
    "# Check for trend\n",
    "if (diff > 0).all():\n",
    "    print(\"There is an increasing trend in sales.\")\n",
    "elif (diff < 0).all():\n",
    "    print(\"There is a decreasing trend in sales.\")\n",
    "else:\n",
    "    print(\"There is no consistent trend in sales.\")"
   ]
  },
  {
   "cell_type": "markdown",
   "id": "66ed459d-7dbb-4fb7-bb97-d9507f672d2d",
   "metadata": {},
   "source": [
    "<p style=\"font-family: 'Arial', sans-serif; font-size: 14px; font-weight: bold;\">Summary:</p>"
   ]
  },
  {
   "cell_type": "markdown",
   "id": "6f7559ee-edba-4648-9af3-1aa8808b853b",
   "metadata": {},
   "source": [
    "Monthly sales data from January 2023 to February 2024 exhibit significant variability peaks around April 2023 and consistent decreases in June 2023. The data show a general downward sales, despite some notable dips."
   ]
  },
  {
   "cell_type": "markdown",
   "id": "336eadcf-e9b4-44dd-b65a-8e0ba968f905",
   "metadata": {},
   "source": [
    "<p style=\"font-family: 'Arial', sans-serif; font-size: 14px; font-weight: bold;\">Insight:</p>"
   ]
  },
  {
   "cell_type": "markdown",
   "id": "edc1c0bc-4f0f-4851-9b2b-68ccf2ba1f1a",
   "metadata": {},
   "source": [
    "The observed seasonal patterns, with sales spikes and dips, highlight the importance of understanding customer purchasing behavior and the impact of seasonality sales. By leveraging these insights, bussinesses can align their marketing efforts, inventory managementm and resource allocation with anticipated periods of high demand, ensuring that opportunities are maximized during peak seasons. This strategic approach can lead to better preparation for demand surges, improved customer satisfaction and overall enhanced business perfomances."
   ]
  },
  {
   "cell_type": "markdown",
   "id": "b949b30d-d7c9-4d14-9162-f516344c3d56",
   "metadata": {},
   "source": [
    "<p style=\"font-family: 'Arial', sans-serif; font-size: 20px; font-weight: 500;\"> Predictive Sales Analysis: Develop a forecast for monthly sales.</p>"
   ]
  },
  {
   "cell_type": "code",
   "execution_count": 529,
   "id": "cbc1c6e0-b29a-4e70-a46a-48e06e399342",
   "metadata": {
    "scrolled": true
   },
   "outputs": [
    {
     "name": "stderr",
     "output_type": "stream",
     "text": [
      "C:\\Users\\rflip\\anaconda3\\Lib\\site-packages\\statsmodels\\tsa\\statespace\\sarimax.py:966: UserWarning:\n",
      "\n",
      "Non-stationary starting autoregressive parameters found. Using zeros as starting parameters.\n",
      "\n",
      "C:\\Users\\rflip\\anaconda3\\Lib\\site-packages\\statsmodels\\tsa\\statespace\\sarimax.py:978: UserWarning:\n",
      "\n",
      "Non-invertible starting MA parameters found. Using zeros as starting parameters.\n",
      "\n",
      "C:\\Users\\rflip\\AppData\\Local\\Temp\\ipykernel_18068\\863300615.py:15: FutureWarning:\n",
      "\n",
      "'M' is deprecated and will be removed in a future version, please use 'ME' instead.\n",
      "\n"
     ]
    },
    {
     "data": {
      "image/png": "[encoded data removed]",
      "text/plain": [
       "<Figure size 1200x600 with 1 Axes>"
      ]
     },
     "metadata": {},
     "output_type": "display_data"
    }
   ],
   "source": [
    "# Fit the ARIMA model to the data\n",
    "model = ARIMA(monthly_sales, order=(2,2,2))  # Order: (p, d, q)\n",
    "model_fit = model.fit()\n",
    "\n",
    "# Make predictions for the next 12 months\n",
    "forecast_steps = 12\n",
    "forecast = model_fit.forecast(steps=forecast_steps)\n",
    "\n",
    "# Visualize the actual sales data and the forecasted values for the next months\n",
    "import matplotlib.pyplot as plt\n",
    "import pandas as pd\n",
    "\n",
    "plt.figure(figsize=(12, 6))\n",
    "plt.plot(monthly_sales.index, monthly_sales.values, marker='o', label='Actual Sales')\n",
    "plt.plot(pd.date_range(start=monthly_sales.index[-1], periods=forecast_steps+1, freq='M')[1:], forecast, marker='o', label='Forecasted Sales')\n",
    "plt.xlabel('Date')\n",
    "plt.ylabel('Total Sales')\n",
    "plt.title('Monthly Sales Forecast')\n",
    "plt.legend()\n",
    "plt.xticks(rotation=0)\n",
    "plt.grid(True)\n",
    "plt.show()\n"
   ]
  },
  {
   "cell_type": "code",
   "execution_count": null,
   "id": "1b1ac7de-f1ab-4a9b-a399-c3dfcba3217f",
   "metadata": {},
   "outputs": [],
   "source": []
  }
 ],
 "metadata": {
  "kernelspec": {
   "display_name": "Python 3 (ipykernel)",
   "language": "python",
   "name": "python3"
  },
  "language_info": {
   "codemirror_mode": {
    "name": "ipython",
    "version": 3
   },
   "file_extension": ".py",
   "mimetype": "text/x-python",
   "name": "python",
   "nbconvert_exporter": "python",
   "pygments_lexer": "ipython3",
   "version": "3.12.4"
  }
 },
 "nbformat": 4,
 "nbformat_minor": 5
}
