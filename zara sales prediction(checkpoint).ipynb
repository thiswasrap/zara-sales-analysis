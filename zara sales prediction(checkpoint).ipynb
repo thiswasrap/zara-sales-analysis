{
 "cells": [
  {
   "cell_type": "code",
   "execution_count": 1,
   "id": "0dd3a4c4-70e6-440f-b4bb-5bbb30f43e13",
   "metadata": {},
   "outputs": [
    {
     "name": "stdout",
     "output_type": "stream",
     "text": [
      "Requirement already satisfied: plotly in c:\\users\\rflip\\anaconda3\\lib\\site-packages (5.22.0)\n",
      "Requirement already satisfied: tenacity>=6.2.0 in c:\\users\\rflip\\anaconda3\\lib\\site-packages (from plotly) (8.2.2)\n",
      "Requirement already satisfied: packaging in c:\\users\\rflip\\anaconda3\\lib\\site-packages (from plotly) (23.2)\n"
     ]
    }
   ],
   "source": [
    "!pip install plotly"
   ]
  },
  {
   "cell_type": "code",
   "execution_count": 3,
   "id": "5722fdde-5d7e-4796-8d37-8a61d9a08a49",
   "metadata": {},
   "outputs": [
    {
     "name": "stdout",
     "output_type": "stream",
     "text": [
      "Collecting us\n",
      "  Downloading us-3.2.0-py3-none-any.whl.metadata (10 kB)\n",
      "Requirement already satisfied: jellyfish in c:\\users\\rflip\\anaconda3\\lib\\site-packages (from us) (1.0.1)\n",
      "Downloading us-3.2.0-py3-none-any.whl (13 kB)\n",
      "Installing collected packages: us\n",
      "Successfully installed us-3.2.0\n",
      "Note: you may need to restart the kernel to use updated packages.\n"
     ]
    }
   ],
   "source": [
    "pip install us"
   ]
  },
  {
   "cell_type": "code",
   "execution_count": 5,
   "id": "12025bc8-0d2e-4ce3-b1a7-a0b6e7aa63b5",
   "metadata": {},
   "outputs": [],
   "source": [
    "import pandas as pd\n",
    "import matplotlib.pyplot as plt\n",
    "import plotly.express as px\n",
    "import plotly.graph_objects as go\n",
    "import seaborn as sns\n",
    "from statsmodels.tsa.seasonal import seasonal_decompose\n",
    "from statsmodels.tsa.arima.model import ARIMA\n",
    "import plotly.graph_objs as go"
   ]
  },
  {
   "cell_type": "code",
   "execution_count": 7,
   "id": "cd5bad09-7927-4f3b-a1cc-51a4e7a6a6f3",
   "metadata": {},
   "outputs": [
    {
     "data": {
      "text/html": [
       "<div>\n",
       "<style scoped>\n",
       "    .dataframe tbody tr th:only-of-type {\n",
       "        vertical-align: middle;\n",
       "    }\n",
       "\n",
       "    .dataframe tbody tr th {\n",
       "        vertical-align: top;\n",
       "    }\n",
       "\n",
       "    .dataframe thead th {\n",
       "        text-align: right;\n",
       "    }\n",
       "</style>\n",
       "<table border=\"1\" class=\"dataframe\">\n",
       "  <thead>\n",
       "    <tr style=\"text-align: right;\">\n",
       "      <th></th>\n",
       "      <th>product_id</th>\n",
       "      <th>product_position</th>\n",
       "      <th>promotion</th>\n",
       "      <th>seasonal</th>\n",
       "      <th>sales_volume</th>\n",
       "      <th>sku</th>\n",
       "      <th>name</th>\n",
       "      <th>price</th>\n",
       "      <th>product_category</th>\n",
       "      <th>section</th>\n",
       "    </tr>\n",
       "  </thead>\n",
       "  <tbody>\n",
       "    <tr>\n",
       "      <th>0</th>\n",
       "      <td>185102</td>\n",
       "      <td>Aisle</td>\n",
       "      <td>No</td>\n",
       "      <td>No</td>\n",
       "      <td>2823</td>\n",
       "      <td>272145190-250-2</td>\n",
       "      <td>Basic puffer jacket</td>\n",
       "      <td>19.99</td>\n",
       "      <td>Jackets</td>\n",
       "      <td>MAN</td>\n",
       "    </tr>\n",
       "    <tr>\n",
       "      <th>1</th>\n",
       "      <td>188771</td>\n",
       "      <td>Aisle</td>\n",
       "      <td>No</td>\n",
       "      <td>No</td>\n",
       "      <td>654</td>\n",
       "      <td>324052738-800-46</td>\n",
       "      <td>Tuxedo jacket</td>\n",
       "      <td>169.00</td>\n",
       "      <td>Jackets</td>\n",
       "      <td>MAN</td>\n",
       "    </tr>\n",
       "    <tr>\n",
       "      <th>2</th>\n",
       "      <td>180176</td>\n",
       "      <td>End-cap</td>\n",
       "      <td>Yes</td>\n",
       "      <td>Yes</td>\n",
       "      <td>2220</td>\n",
       "      <td>335342680-800-44</td>\n",
       "      <td>Slim fit suit jacket</td>\n",
       "      <td>129.00</td>\n",
       "      <td>Jackets</td>\n",
       "      <td>MAN</td>\n",
       "    </tr>\n",
       "    <tr>\n",
       "      <th>3</th>\n",
       "      <td>112917</td>\n",
       "      <td>Aisle</td>\n",
       "      <td>Yes</td>\n",
       "      <td>Yes</td>\n",
       "      <td>1568</td>\n",
       "      <td>328303236-420-44</td>\n",
       "      <td>Stretch suit jacket</td>\n",
       "      <td>129.00</td>\n",
       "      <td>Jackets</td>\n",
       "      <td>MAN</td>\n",
       "    </tr>\n",
       "    <tr>\n",
       "      <th>4</th>\n",
       "      <td>192936</td>\n",
       "      <td>End-cap</td>\n",
       "      <td>No</td>\n",
       "      <td>Yes</td>\n",
       "      <td>2942</td>\n",
       "      <td>312368260-800-2</td>\n",
       "      <td>Double faced jacket</td>\n",
       "      <td>139.00</td>\n",
       "      <td>Jackets</td>\n",
       "      <td>MAN</td>\n",
       "    </tr>\n",
       "  </tbody>\n",
       "</table>\n",
       "</div>"
      ],
      "text/plain": [
       "   product_id product_position promotion seasonal  sales_volume  \\\n",
       "0      185102            Aisle        No       No          2823   \n",
       "1      188771            Aisle        No       No           654   \n",
       "2      180176          End-cap       Yes      Yes          2220   \n",
       "3      112917            Aisle       Yes      Yes          1568   \n",
       "4      192936          End-cap        No      Yes          2942   \n",
       "\n",
       "                sku                  name   price product_category section  \n",
       "0   272145190-250-2   Basic puffer jacket   19.99          Jackets     MAN  \n",
       "1  324052738-800-46         Tuxedo jacket  169.00          Jackets     MAN  \n",
       "2  335342680-800-44  Slim fit suit jacket  129.00          Jackets     MAN  \n",
       "3  328303236-420-44   Stretch suit jacket  129.00          Jackets     MAN  \n",
       "4   312368260-800-2   Double faced jacket  139.00          Jackets     MAN  "
      ]
     },
     "execution_count": 7,
     "metadata": {},
     "output_type": "execute_result"
    }
   ],
   "source": [
    "data = pd.read_csv('zara.csv')\n",
    "data.head()"
   ]
  },
  {
   "cell_type": "markdown",
   "id": "73a76b52-fca9-4e57-a0de-2cdf80917f6a",
   "metadata": {},
   "source": [
    "<p style=\"font-family: 'Arial', sans-serif; font-size: 20px; font-weight: 500;\">Business problems that can be solved using this dataset:</p>\n",
    "\n",
    "\n"
   ]
  },
  {
   "cell_type": "markdown",
   "id": "7ecd0b64-eeca-4b7c-bc0b-d2b7ec674d73",
   "metadata": {},
   "source": [
    "    1. Sales Performance Analysis: Which products are excelling in sales, and which are underperforming\n",
    "    2. Profit Margin Analysis: Does the profit margin significantly impact sales?\n",
    "    3. Efficiency of Sales Methods: Which sales product position is more effective Front of Store, Aisle or End - Cap?\n",
    "    4. Price Optimization: Is there a specific price range that achieves better sales than others?\n",
    "    5. Product Portfolio Optimization I: Determine which products are most profitable, segmented by Product Position.\n",
    "    6. Predictive Sales Analysis: Develop a forecast for monthly sales."
   ]
  },
  {
   "cell_type": "markdown",
   "id": "faac9201-b2cf-4542-8507-0dc2bdc04a3a",
   "metadata": {},
   "source": [
    "<p style=\"font-family: 'Arial', sans-serif; font-size: 20px; font-weight: 500;\">Performing Exploratory Data Analysis (EDA)</p>"
   ]
  },
  {
   "cell_type": "code",
   "execution_count": 40,
   "id": "3b130d99-f87e-425b-bde1-6b68d83a4d2c",
   "metadata": {},
   "outputs": [
    {
     "data": {
      "text/plain": [
       "(252, 10)"
      ]
     },
     "execution_count": 40,
     "metadata": {},
     "output_type": "execute_result"
    }
   ],
   "source": [
    "# Show dataframe shape\n",
    "data.shape"
   ]
  },
  {
   "cell_type": "code",
   "execution_count": 42,
   "id": "daedb68a-cc60-4146-958a-ea4e0cfabb59",
   "metadata": {},
   "outputs": [
    {
     "data": {
      "text/plain": [
       "0"
      ]
     },
     "execution_count": 42,
     "metadata": {},
     "output_type": "execute_result"
    }
   ],
   "source": [
    "#Duplicate Rows\n",
    "data.duplicated().sum()"
   ]
  },
  {
   "cell_type": "code",
   "execution_count": 44,
   "id": "f5a6f1e1-85bc-48bd-994d-6cc0691f0dd7",
   "metadata": {},
   "outputs": [
    {
     "name": "stdout",
     "output_type": "stream",
     "text": [
      "<class 'pandas.core.frame.DataFrame'>\n",
      "RangeIndex: 252 entries, 0 to 251\n",
      "Data columns (total 10 columns):\n",
      " #   Column            Non-Null Count  Dtype  \n",
      "---  ------            --------------  -----  \n",
      " 0   product_id        252 non-null    int64  \n",
      " 1   product_position  252 non-null    object \n",
      " 2   promotion         252 non-null    object \n",
      " 3   seasonal          252 non-null    object \n",
      " 4   sales_volume      252 non-null    int64  \n",
      " 5   sku               252 non-null    object \n",
      " 6   name              251 non-null    object \n",
      " 7   price             252 non-null    float64\n",
      " 8   product_category  252 non-null    object \n",
      " 9   section           252 non-null    object \n",
      "dtypes: float64(1), int64(2), object(7)\n",
      "memory usage: 19.8+ KB\n"
     ]
    }
   ],
   "source": [
    "#Info of the dataset\n",
    "data.info()"
   ]
  },
  {
   "cell_type": "code",
   "execution_count": 46,
   "id": "bf1193be-2601-4dcf-a2f9-ad4f63ec0b1f",
   "metadata": {},
   "outputs": [
    {
     "data": {
      "text/plain": [
       "product_id          0\n",
       "product_position    0\n",
       "promotion           0\n",
       "seasonal            0\n",
       "sales_volume        0\n",
       "sku                 0\n",
       "name                1\n",
       "price               0\n",
       "product_category    0\n",
       "section             0\n",
       "dtype: int64"
      ]
     },
     "execution_count": 46,
     "metadata": {},
     "output_type": "execute_result"
    }
   ],
   "source": [
    "# Show the null values\n",
    "data.isnull().sum()"
   ]
  },
  {
   "cell_type": "code",
   "execution_count": 48,
   "id": "44109f1b-a736-466f-8861-ac72898cdb89",
   "metadata": {},
   "outputs": [
    {
     "data": {
      "text/html": [
       "<div>\n",
       "<style scoped>\n",
       "    .dataframe tbody tr th:only-of-type {\n",
       "        vertical-align: middle;\n",
       "    }\n",
       "\n",
       "    .dataframe tbody tr th {\n",
       "        vertical-align: top;\n",
       "    }\n",
       "\n",
       "    .dataframe thead th {\n",
       "        text-align: right;\n",
       "    }\n",
       "</style>\n",
       "<table border=\"1\" class=\"dataframe\">\n",
       "  <thead>\n",
       "    <tr style=\"text-align: right;\">\n",
       "      <th></th>\n",
       "      <th>product_id</th>\n",
       "      <th>product_position</th>\n",
       "      <th>promotion</th>\n",
       "      <th>seasonal</th>\n",
       "      <th>sales_volume</th>\n",
       "      <th>sku</th>\n",
       "      <th>name</th>\n",
       "      <th>price</th>\n",
       "      <th>product_category</th>\n",
       "      <th>section</th>\n",
       "    </tr>\n",
       "  </thead>\n",
       "  <tbody>\n",
       "    <tr>\n",
       "      <th>0</th>\n",
       "      <td>185102</td>\n",
       "      <td>Aisle</td>\n",
       "      <td>No</td>\n",
       "      <td>No</td>\n",
       "      <td>2823</td>\n",
       "      <td>272145190-250-2</td>\n",
       "      <td>Basic puffer jacket</td>\n",
       "      <td>19.99</td>\n",
       "      <td>Jackets</td>\n",
       "      <td>MAN</td>\n",
       "    </tr>\n",
       "    <tr>\n",
       "      <th>1</th>\n",
       "      <td>188771</td>\n",
       "      <td>Aisle</td>\n",
       "      <td>No</td>\n",
       "      <td>No</td>\n",
       "      <td>654</td>\n",
       "      <td>324052738-800-46</td>\n",
       "      <td>Tuxedo jacket</td>\n",
       "      <td>169.00</td>\n",
       "      <td>Jackets</td>\n",
       "      <td>MAN</td>\n",
       "    </tr>\n",
       "    <tr>\n",
       "      <th>2</th>\n",
       "      <td>180176</td>\n",
       "      <td>End-cap</td>\n",
       "      <td>Yes</td>\n",
       "      <td>Yes</td>\n",
       "      <td>2220</td>\n",
       "      <td>335342680-800-44</td>\n",
       "      <td>Slim fit suit jacket</td>\n",
       "      <td>129.00</td>\n",
       "      <td>Jackets</td>\n",
       "      <td>MAN</td>\n",
       "    </tr>\n",
       "    <tr>\n",
       "      <th>3</th>\n",
       "      <td>112917</td>\n",
       "      <td>Aisle</td>\n",
       "      <td>Yes</td>\n",
       "      <td>Yes</td>\n",
       "      <td>1568</td>\n",
       "      <td>328303236-420-44</td>\n",
       "      <td>Stretch suit jacket</td>\n",
       "      <td>129.00</td>\n",
       "      <td>Jackets</td>\n",
       "      <td>MAN</td>\n",
       "    </tr>\n",
       "    <tr>\n",
       "      <th>4</th>\n",
       "      <td>192936</td>\n",
       "      <td>End-cap</td>\n",
       "      <td>No</td>\n",
       "      <td>Yes</td>\n",
       "      <td>2942</td>\n",
       "      <td>312368260-800-2</td>\n",
       "      <td>Double faced jacket</td>\n",
       "      <td>139.00</td>\n",
       "      <td>Jackets</td>\n",
       "      <td>MAN</td>\n",
       "    </tr>\n",
       "  </tbody>\n",
       "</table>\n",
       "</div>"
      ],
      "text/plain": [
       "   product_id product_position promotion seasonal  sales_volume  \\\n",
       "0      185102            Aisle        No       No          2823   \n",
       "1      188771            Aisle        No       No           654   \n",
       "2      180176          End-cap       Yes      Yes          2220   \n",
       "3      112917            Aisle       Yes      Yes          1568   \n",
       "4      192936          End-cap        No      Yes          2942   \n",
       "\n",
       "                sku                  name   price product_category section  \n",
       "0   272145190-250-2   Basic puffer jacket   19.99          Jackets     MAN  \n",
       "1  324052738-800-46         Tuxedo jacket  169.00          Jackets     MAN  \n",
       "2  335342680-800-44  Slim fit suit jacket  129.00          Jackets     MAN  \n",
       "3  328303236-420-44   Stretch suit jacket  129.00          Jackets     MAN  \n",
       "4   312368260-800-2   Double faced jacket  139.00          Jackets     MAN  "
      ]
     },
     "execution_count": 48,
     "metadata": {},
     "output_type": "execute_result"
    }
   ],
   "source": [
    "# Overview of the data head\n",
    "data.head()"
   ]
  },
  {
   "cell_type": "code",
   "execution_count": 50,
   "id": "925bff90-7775-4e27-aefa-d4695d99f5ca",
   "metadata": {},
   "outputs": [
    {
     "data": {
      "text/html": [
       "<div>\n",
       "<style scoped>\n",
       "    .dataframe tbody tr th:only-of-type {\n",
       "        vertical-align: middle;\n",
       "    }\n",
       "\n",
       "    .dataframe tbody tr th {\n",
       "        vertical-align: top;\n",
       "    }\n",
       "\n",
       "    .dataframe thead th {\n",
       "        text-align: right;\n",
       "    }\n",
       "</style>\n",
       "<table border=\"1\" class=\"dataframe\">\n",
       "  <thead>\n",
       "    <tr style=\"text-align: right;\">\n",
       "      <th></th>\n",
       "      <th>product_id</th>\n",
       "      <th>product_position</th>\n",
       "      <th>promotion</th>\n",
       "      <th>seasonal</th>\n",
       "      <th>sales_volume</th>\n",
       "      <th>sku</th>\n",
       "      <th>name</th>\n",
       "      <th>price</th>\n",
       "      <th>product_category</th>\n",
       "      <th>section</th>\n",
       "    </tr>\n",
       "  </thead>\n",
       "  <tbody>\n",
       "    <tr>\n",
       "      <th>247</th>\n",
       "      <td>159182</td>\n",
       "      <td>Front of Store</td>\n",
       "      <td>Yes</td>\n",
       "      <td>No</td>\n",
       "      <td>1014</td>\n",
       "      <td>321993245-500-2</td>\n",
       "      <td>Faux leather oversized jacket limited edition</td>\n",
       "      <td>169.00</td>\n",
       "      <td>Jackets</td>\n",
       "      <td>MAN</td>\n",
       "    </tr>\n",
       "    <tr>\n",
       "      <th>248</th>\n",
       "      <td>199233</td>\n",
       "      <td>Aisle</td>\n",
       "      <td>Yes</td>\n",
       "      <td>No</td>\n",
       "      <td>2222</td>\n",
       "      <td>330590505-500-2</td>\n",
       "      <td>Contrasting patches bomber jacket</td>\n",
       "      <td>159.00</td>\n",
       "      <td>Jackets</td>\n",
       "      <td>MAN</td>\n",
       "    </tr>\n",
       "    <tr>\n",
       "      <th>249</th>\n",
       "      <td>137044</td>\n",
       "      <td>Aisle</td>\n",
       "      <td>No</td>\n",
       "      <td>Yes</td>\n",
       "      <td>2534</td>\n",
       "      <td>320680326-107-39</td>\n",
       "      <td>Patch bomber jacket</td>\n",
       "      <td>12.99</td>\n",
       "      <td>Jackets</td>\n",
       "      <td>MAN</td>\n",
       "    </tr>\n",
       "    <tr>\n",
       "      <th>250</th>\n",
       "      <td>154736</td>\n",
       "      <td>Front of Store</td>\n",
       "      <td>Yes</td>\n",
       "      <td>Yes</td>\n",
       "      <td>1466</td>\n",
       "      <td>311292244-800-39</td>\n",
       "      <td>Cropped bomber jacket limited edition</td>\n",
       "      <td>19.90</td>\n",
       "      <td>Jackets</td>\n",
       "      <td>MAN</td>\n",
       "    </tr>\n",
       "    <tr>\n",
       "      <th>251</th>\n",
       "      <td>141434</td>\n",
       "      <td>Front of Store</td>\n",
       "      <td>No</td>\n",
       "      <td>Yes</td>\n",
       "      <td>2870</td>\n",
       "      <td>311307610-400-39</td>\n",
       "      <td>Faux leather puffer jacket</td>\n",
       "      <td>39.90</td>\n",
       "      <td>Jackets</td>\n",
       "      <td>MAN</td>\n",
       "    </tr>\n",
       "  </tbody>\n",
       "</table>\n",
       "</div>"
      ],
      "text/plain": [
       "     product_id product_position promotion seasonal  sales_volume  \\\n",
       "247      159182   Front of Store       Yes       No          1014   \n",
       "248      199233            Aisle       Yes       No          2222   \n",
       "249      137044            Aisle        No      Yes          2534   \n",
       "250      154736   Front of Store       Yes      Yes          1466   \n",
       "251      141434   Front of Store        No      Yes          2870   \n",
       "\n",
       "                  sku                                           name   price  \\\n",
       "247   321993245-500-2  Faux leather oversized jacket limited edition  169.00   \n",
       "248   330590505-500-2              Contrasting patches bomber jacket  159.00   \n",
       "249  320680326-107-39                            Patch bomber jacket   12.99   \n",
       "250  311292244-800-39          Cropped bomber jacket limited edition   19.90   \n",
       "251  311307610-400-39                     Faux leather puffer jacket   39.90   \n",
       "\n",
       "    product_category section  \n",
       "247          Jackets     MAN  \n",
       "248          Jackets     MAN  \n",
       "249          Jackets     MAN  \n",
       "250          Jackets     MAN  \n",
       "251          Jackets     MAN  "
      ]
     },
     "execution_count": 50,
     "metadata": {},
     "output_type": "execute_result"
    }
   ],
   "source": [
    "# Overview of the data tail\n",
    "data.tail()"
   ]
  },
  {
   "cell_type": "code",
   "execution_count": 52,
   "id": "4b5d3736-e77d-4acb-81bb-e8fe8fc5d18b",
   "metadata": {},
   "outputs": [],
   "source": [
    "# # Remove non-numeric characters from the columns\n",
    "data['sales_volume'] = data['sales_volume'].astype(str).str.replace(r'[$, ]', '', regex=True).astype(float)\n",
    "data['price'] = data['price'].astype(str).str.replace(r'[$, ]', '', regex=True).astype(float)"
   ]
  },
  {
   "cell_type": "markdown",
   "id": "d1768d14-6892-4bfc-9c5b-bc336858eef2",
   "metadata": {},
   "source": [
    "<p style=\"font-family: 'Arial', sans-serif; font-size: 20px; font-weight: 500;\">Sales Performance Analysis: Which products are excelling in sales, and which are underperforming?</p>"
   ]
  },
  {
   "cell_type": "code",
   "execution_count": 57,
   "id": "234c9f8c-a219-48d2-ae3a-47ae0bd8c9b7",
   "metadata": {},
   "outputs": [
    {
     "data": {
      "text/plain": [
       "459573.0"
      ]
     },
     "execution_count": 57,
     "metadata": {},
     "output_type": "execute_result"
    }
   ],
   "source": [
    "# First lets find out the total revenue\n",
    "total_revenue = data['sales_volume'].sum()\n",
    "total_revenue"
   ]
  },
  {
   "cell_type": "code",
   "execution_count": 199,
   "id": "26d1613d-f102-4ab9-9089-4ced6a00bb8c",
   "metadata": {},
   "outputs": [
    {
     "name": "stdout",
     "output_type": "stream",
     "text": [
      "Top-Performing Products:\n"
     ]
    },
    {
     "data": {
      "text/html": [
       "<div>\n",
       "<style scoped>\n",
       "    .dataframe tbody tr th:only-of-type {\n",
       "        vertical-align: middle;\n",
       "    }\n",
       "\n",
       "    .dataframe tbody tr th {\n",
       "        vertical-align: top;\n",
       "    }\n",
       "\n",
       "    .dataframe thead th {\n",
       "        text-align: right;\n",
       "    }\n",
       "</style>\n",
       "<table border=\"1\" class=\"dataframe\">\n",
       "  <thead>\n",
       "    <tr style=\"text-align: right;\">\n",
       "      <th></th>\n",
       "      <th>product_category</th>\n",
       "      <th>sales_volume</th>\n",
       "    </tr>\n",
       "  </thead>\n",
       "  <tbody>\n",
       "    <tr>\n",
       "      <th>0</th>\n",
       "      <td>Jackets</td>\n",
       "      <td>259468.0</td>\n",
       "    </tr>\n",
       "    <tr>\n",
       "      <th>3</th>\n",
       "      <td>Sweaters</td>\n",
       "      <td>75242.0</td>\n",
       "    </tr>\n",
       "    <tr>\n",
       "      <th>2</th>\n",
       "      <td>Shoes</td>\n",
       "      <td>57906.0</td>\n",
       "    </tr>\n",
       "    <tr>\n",
       "      <th>4</th>\n",
       "      <td>T-shirts</td>\n",
       "      <td>53637.0</td>\n",
       "    </tr>\n",
       "    <tr>\n",
       "      <th>1</th>\n",
       "      <td>Jeans</td>\n",
       "      <td>13320.0</td>\n",
       "    </tr>\n",
       "  </tbody>\n",
       "</table>\n",
       "</div>"
      ],
      "text/plain": [
       "  product_category  sales_volume\n",
       "0          Jackets      259468.0\n",
       "3         Sweaters       75242.0\n",
       "2            Shoes       57906.0\n",
       "4         T-shirts       53637.0\n",
       "1            Jeans       13320.0"
      ]
     },
     "execution_count": 199,
     "metadata": {},
     "output_type": "execute_result"
    }
   ],
   "source": [
    "# Aggregating total sales and units sold for each product\n",
    "product_sales = data.groupby('product_category').agg({'sales_volume': 'sum'}).reset_index()\n",
    "\n",
    "# Sorting products by total sales in descending order to identify top-performing products\n",
    "top_performing_products = product_sales.sort_values(by='sales_volume', ascending=False).head()\n",
    "\n",
    "# Displaying the results\n",
    "print(\"Top-Performing Products:\")\n",
    "top_performing_products"
   ]
  },
  {
   "cell_type": "code",
   "execution_count": 63,
   "id": "9b81415f-9d87-49aa-b4c5-eac53c703079",
   "metadata": {},
   "outputs": [
    {
     "name": "stdout",
     "output_type": "stream",
     "text": [
      "\n",
      "Underperforming Products:\n"
     ]
    },
    {
     "data": {
      "text/html": [
       "<div>\n",
       "<style scoped>\n",
       "    .dataframe tbody tr th:only-of-type {\n",
       "        vertical-align: middle;\n",
       "    }\n",
       "\n",
       "    .dataframe tbody tr th {\n",
       "        vertical-align: top;\n",
       "    }\n",
       "\n",
       "    .dataframe thead th {\n",
       "        text-align: right;\n",
       "    }\n",
       "</style>\n",
       "<table border=\"1\" class=\"dataframe\">\n",
       "  <thead>\n",
       "    <tr style=\"text-align: right;\">\n",
       "      <th></th>\n",
       "      <th>product_category</th>\n",
       "      <th>sales_volume</th>\n",
       "    </tr>\n",
       "  </thead>\n",
       "  <tbody>\n",
       "    <tr>\n",
       "      <th>1</th>\n",
       "      <td>Jeans</td>\n",
       "      <td>13320.0</td>\n",
       "    </tr>\n",
       "    <tr>\n",
       "      <th>4</th>\n",
       "      <td>T-shirts</td>\n",
       "      <td>53637.0</td>\n",
       "    </tr>\n",
       "    <tr>\n",
       "      <th>2</th>\n",
       "      <td>Shoes</td>\n",
       "      <td>57906.0</td>\n",
       "    </tr>\n",
       "    <tr>\n",
       "      <th>3</th>\n",
       "      <td>Sweaters</td>\n",
       "      <td>75242.0</td>\n",
       "    </tr>\n",
       "    <tr>\n",
       "      <th>0</th>\n",
       "      <td>Jackets</td>\n",
       "      <td>259468.0</td>\n",
       "    </tr>\n",
       "  </tbody>\n",
       "</table>\n",
       "</div>"
      ],
      "text/plain": [
       "  product_category  sales_volume\n",
       "1            Jeans       13320.0\n",
       "4         T-shirts       53637.0\n",
       "2            Shoes       57906.0\n",
       "3         Sweaters       75242.0\n",
       "0          Jackets      259468.0"
      ]
     },
     "execution_count": 63,
     "metadata": {},
     "output_type": "execute_result"
    }
   ],
   "source": [
    "# Sorting products by total sales in ascending order to identify underperforming products\n",
    "underperforming_products = product_sales.sort_values(by='sales_volume', ascending=True).head()\n",
    "\n",
    "print(\"\\nUnderperforming Products:\")\n",
    "underperforming_products"
   ]
  },
  {
   "cell_type": "markdown",
   "id": "b1ccc975-71c5-47c9-bade-88731b1c7f82",
   "metadata": {},
   "source": [
    "<p style=\"font-family: 'Arial', sans-serif; font-size: 13px; font-weight: 10;\">Insights: Jackets are the highest sold products with sales of 259,468 and the most underperforming products is Jeans with sales of 13,320</p>"
   ]
  },
  {
   "cell_type": "markdown",
   "id": "c062a23d-96be-4bee-9c7c-00af05b488f5",
   "metadata": {},
   "source": [
    "<p style=\"font-family: 'Arial', sans-serif; font-size: 20px; font-weight: 500;\">Profit Margin Analysis: Does the Opearing profit significantly impact sales?</p>"
   ]
  },
  {
   "cell_type": "code",
   "execution_count": 86,
   "id": "dc283ccf-cc7c-4dd0-b9c7-3080a6ef7ae3",
   "metadata": {},
   "outputs": [
    {
     "ename": "KeyError",
     "evalue": "'Operating Profit'",
     "output_type": "error",
     "traceback": [
      "\u001b[1;31m---------------------------------------------------------------------------\u001b[0m",
      "\u001b[1;31mKeyError\u001b[0m                                  Traceback (most recent call last)",
      "File \u001b[1;32m~\\anaconda3\\Lib\\site-packages\\pandas\\core\\indexes\\base.py:3805\u001b[0m, in \u001b[0;36mIndex.get_loc\u001b[1;34m(self, key)\u001b[0m\n\u001b[0;32m   3804\u001b[0m \u001b[38;5;28;01mtry\u001b[39;00m:\n\u001b[1;32m-> 3805\u001b[0m     \u001b[38;5;28;01mreturn\u001b[39;00m \u001b[38;5;28mself\u001b[39m\u001b[38;5;241m.\u001b[39m_engine\u001b[38;5;241m.\u001b[39mget_loc(casted_key)\n\u001b[0;32m   3806\u001b[0m \u001b[38;5;28;01mexcept\u001b[39;00m \u001b[38;5;167;01mKeyError\u001b[39;00m \u001b[38;5;28;01mas\u001b[39;00m err:\n",
      "File \u001b[1;32mindex.pyx:167\u001b[0m, in \u001b[0;36mpandas._libs.index.IndexEngine.get_loc\u001b[1;34m()\u001b[0m\n",
      "File \u001b[1;32mindex.pyx:196\u001b[0m, in \u001b[0;36mpandas._libs.index.IndexEngine.get_loc\u001b[1;34m()\u001b[0m\n",
      "File \u001b[1;32mpandas\\\\_libs\\\\hashtable_class_helper.pxi:7081\u001b[0m, in \u001b[0;36mpandas._libs.hashtable.PyObjectHashTable.get_item\u001b[1;34m()\u001b[0m\n",
      "File \u001b[1;32mpandas\\\\_libs\\\\hashtable_class_helper.pxi:7089\u001b[0m, in \u001b[0;36mpandas._libs.hashtable.PyObjectHashTable.get_item\u001b[1;34m()\u001b[0m\n",
      "\u001b[1;31mKeyError\u001b[0m: 'Operating Profit'",
      "\nThe above exception was the direct cause of the following exception:\n",
      "\u001b[1;31mKeyError\u001b[0m                                  Traceback (most recent call last)",
      "Cell \u001b[1;32mIn[86], line 4\u001b[0m\n\u001b[0;32m      1\u001b[0m \u001b[38;5;66;03m# We can answer the above question in the traditional long way using tables and graphs or we can also find the correlation between the Operating profit and Total Sales, if it is positive, the answer to the question is yes, and vice versa.\u001b[39;00m\n\u001b[0;32m      2\u001b[0m \n\u001b[0;32m      3\u001b[0m \u001b[38;5;66;03m# Correlation bewtween Operating Profit and Total Sales\u001b[39;00m\n\u001b[1;32m----> 4\u001b[0m correlation \u001b[38;5;241m=\u001b[39m data[\u001b[38;5;124m'\u001b[39m\u001b[38;5;124mOperating Profit\u001b[39m\u001b[38;5;124m'\u001b[39m]\u001b[38;5;241m.\u001b[39mcorr(data[\u001b[38;5;124m'\u001b[39m\u001b[38;5;124msales_volume\u001b[39m\u001b[38;5;124m'\u001b[39m])\n\u001b[0;32m      5\u001b[0m correlation\n",
      "File \u001b[1;32m~\\anaconda3\\Lib\\site-packages\\pandas\\core\\frame.py:4102\u001b[0m, in \u001b[0;36mDataFrame.__getitem__\u001b[1;34m(self, key)\u001b[0m\n\u001b[0;32m   4100\u001b[0m \u001b[38;5;28;01mif\u001b[39;00m \u001b[38;5;28mself\u001b[39m\u001b[38;5;241m.\u001b[39mcolumns\u001b[38;5;241m.\u001b[39mnlevels \u001b[38;5;241m>\u001b[39m \u001b[38;5;241m1\u001b[39m:\n\u001b[0;32m   4101\u001b[0m     \u001b[38;5;28;01mreturn\u001b[39;00m \u001b[38;5;28mself\u001b[39m\u001b[38;5;241m.\u001b[39m_getitem_multilevel(key)\n\u001b[1;32m-> 4102\u001b[0m indexer \u001b[38;5;241m=\u001b[39m \u001b[38;5;28mself\u001b[39m\u001b[38;5;241m.\u001b[39mcolumns\u001b[38;5;241m.\u001b[39mget_loc(key)\n\u001b[0;32m   4103\u001b[0m \u001b[38;5;28;01mif\u001b[39;00m is_integer(indexer):\n\u001b[0;32m   4104\u001b[0m     indexer \u001b[38;5;241m=\u001b[39m [indexer]\n",
      "File \u001b[1;32m~\\anaconda3\\Lib\\site-packages\\pandas\\core\\indexes\\base.py:3812\u001b[0m, in \u001b[0;36mIndex.get_loc\u001b[1;34m(self, key)\u001b[0m\n\u001b[0;32m   3807\u001b[0m     \u001b[38;5;28;01mif\u001b[39;00m \u001b[38;5;28misinstance\u001b[39m(casted_key, \u001b[38;5;28mslice\u001b[39m) \u001b[38;5;129;01mor\u001b[39;00m (\n\u001b[0;32m   3808\u001b[0m         \u001b[38;5;28misinstance\u001b[39m(casted_key, abc\u001b[38;5;241m.\u001b[39mIterable)\n\u001b[0;32m   3809\u001b[0m         \u001b[38;5;129;01mand\u001b[39;00m \u001b[38;5;28many\u001b[39m(\u001b[38;5;28misinstance\u001b[39m(x, \u001b[38;5;28mslice\u001b[39m) \u001b[38;5;28;01mfor\u001b[39;00m x \u001b[38;5;129;01min\u001b[39;00m casted_key)\n\u001b[0;32m   3810\u001b[0m     ):\n\u001b[0;32m   3811\u001b[0m         \u001b[38;5;28;01mraise\u001b[39;00m InvalidIndexError(key)\n\u001b[1;32m-> 3812\u001b[0m     \u001b[38;5;28;01mraise\u001b[39;00m \u001b[38;5;167;01mKeyError\u001b[39;00m(key) \u001b[38;5;28;01mfrom\u001b[39;00m \u001b[38;5;21;01merr\u001b[39;00m\n\u001b[0;32m   3813\u001b[0m \u001b[38;5;28;01mexcept\u001b[39;00m \u001b[38;5;167;01mTypeError\u001b[39;00m:\n\u001b[0;32m   3814\u001b[0m     \u001b[38;5;66;03m# If we have a listlike key, _check_indexing_error will raise\u001b[39;00m\n\u001b[0;32m   3815\u001b[0m     \u001b[38;5;66;03m#  InvalidIndexError. Otherwise we fall through and re-raise\u001b[39;00m\n\u001b[0;32m   3816\u001b[0m     \u001b[38;5;66;03m#  the TypeError.\u001b[39;00m\n\u001b[0;32m   3817\u001b[0m     \u001b[38;5;28mself\u001b[39m\u001b[38;5;241m.\u001b[39m_check_indexing_error(key)\n",
      "\u001b[1;31mKeyError\u001b[0m: 'Operating Profit'"
     ]
    }
   ],
   "source": [
    "# We can answer the above question in the traditional long way using tables and graphs or we can also find the correlation between the Operating profit and Total Sales, if it is positive, the answer to the question is yes, and vice versa.\n",
    "\n",
    "# Correlation bewtween Operating Profit and Total Sales\n",
    "correlation = data['Operating Profit'].corr(data['sales_volume'])\n",
    "correlation"
   ]
  },
  {
   "cell_type": "markdown",
   "id": "b6b5efec-52f7-408f-b8bc-925f33914de2",
   "metadata": {},
   "source": [
    "<p style=\"font-family: 'Arial', sans-serif; font-size: 20px; font-weight: 500;\">Efficiency of Sales Methods: Which sales product position is more effective Front of Store, Aisle or End - Cap?</p>"
   ]
  },
  {
   "cell_type": "code",
   "execution_count": 92,
   "id": "9b26651a-afef-4ea7-9dfd-82fade2eb815",
   "metadata": {},
   "outputs": [
    {
     "data": {
      "text/plain": [
       "array(['Aisle', 'End-cap', 'Front of Store'], dtype=object)"
      ]
     },
     "execution_count": 92,
     "metadata": {},
     "output_type": "execute_result"
    }
   ],
   "source": [
    "# Finding the unique column in the df\n",
    "\n",
    "sales_method_col = data['product_position']\n",
    "unique_sales_method_col = sales_method_col.unique()\n",
    "unique_sales_method_col"
   ]
  },
  {
   "cell_type": "code",
   "execution_count": 162,
   "id": "158143f1-eed6-45b0-88b5-cd4fd6ed94cf",
   "metadata": {},
   "outputs": [
    {
     "data": {
      "image/png": "[encoded data removed]",
      "text/plain": [
       "<Figure size 1000x600 with 1 Axes>"
      ]
     },
     "metadata": {},
     "output_type": "display_data"
    }
   ],
   "source": [
    "sales_by_position = data.groupby('product_position')['sales_volume'].sum().reset_index()\n",
    "\n",
    "# Plot the results\n",
    "plt.figure(figsize=(10, 6))\n",
    "sns.barplot(x='product_position', y='sales_volume', data=sales_by_position, color='teal')  # Use 'color' instead of 'palette'\n",
    "plt.title('Sales Volume by Product Position')\n",
    "plt.xlabel('Product Position')\n",
    "plt.ylabel('Total Sales Volume')\n",
    "plt.show()"
   ]
  },
  {
   "cell_type": "code",
   "execution_count": 160,
   "id": "26c6c9fc-9ef0-41a4-8127-56f02393b8b6",
   "metadata": {
    "scrolled": true
   },
   "outputs": [
    {
     "data": {
      "application/vnd.plotly.v1+json": {
       "config": {
        "plotlyServerURL": "https://plot.ly"
       },
       "data": [
        {
         "marker": {
          "color": "rgba(255, 144, 14, 0.6)"
         },
         "name": "Jackets - Aisle",
         "type": "bar",
         "visible": false,
         "x": [
          "Aisle"
         ],
         "y": [
          102577
         ]
        },
        {
         "marker": {
          "color": "rgba(44, 160, 44, 0.6)"
         },
         "name": "Jackets - End-cap",
         "type": "bar",
         "visible": false,
         "x": [
          "End-cap"
         ],
         "y": [
          77705
         ]
        },
        {
         "marker": {
          "color": "rgba(93, 164, 214, 0.6)"
         },
         "name": "Jackets - Front of Store",
         "type": "bar",
         "visible": false,
         "x": [
          "Front of Store"
         ],
         "y": [
          79186
         ]
        },
        {
         "marker": {
          "color": "rgba(255, 144, 14, 0.6)"
         },
         "name": "Shoes - Aisle",
         "type": "bar",
         "visible": true,
         "x": [
          "Aisle"
         ],
         "y": [
          24412
         ]
        },
        {
         "marker": {
          "color": "rgba(44, 160, 44, 0.6)"
         },
         "name": "Shoes - End-cap",
         "type": "bar",
         "visible": true,
         "x": [
          "End-cap"
         ],
         "y": [
          17906
         ]
        },
        {
         "marker": {
          "color": "rgba(93, 164, 214, 0.6)"
         },
         "name": "Shoes - Front of Store",
         "type": "bar",
         "visible": true,
         "x": [
          "Front of Store"
         ],
         "y": [
          15588
         ]
        },
        {
         "marker": {
          "color": "rgba(255, 144, 14, 0.6)"
         },
         "name": "Sweaters - Aisle",
         "type": "bar",
         "visible": false,
         "x": [
          "Aisle"
         ],
         "y": [
          20022
         ]
        },
        {
         "marker": {
          "color": "rgba(44, 160, 44, 0.6)"
         },
         "name": "Sweaters - End-cap",
         "type": "bar",
         "visible": false,
         "x": [
          "End-cap"
         ],
         "y": [
          32714
         ]
        },
        {
         "marker": {
          "color": "rgba(93, 164, 214, 0.6)"
         },
         "name": "Sweaters - Front of Store",
         "type": "bar",
         "visible": false,
         "x": [
          "Front of Store"
         ],
         "y": [
          22506
         ]
        },
        {
         "marker": {
          "color": "rgba(255, 144, 14, 0.6)"
         },
         "name": "Jeans - Aisle",
         "type": "bar",
         "visible": false,
         "x": [
          "Aisle"
         ],
         "y": [
          4599
         ]
        },
        {
         "marker": {
          "color": "rgba(44, 160, 44, 0.6)"
         },
         "name": "Jeans - End-cap",
         "type": "bar",
         "visible": false,
         "x": [
          "End-cap"
         ],
         "y": [
          5171
         ]
        },
        {
         "marker": {
          "color": "rgba(93, 164, 214, 0.6)"
         },
         "name": "Jeans - Front of Store",
         "type": "bar",
         "visible": false,
         "x": [
          "Front of Store"
         ],
         "y": [
          3550
         ]
        },
        {
         "marker": {
          "color": "rgba(255, 144, 14, 0.6)"
         },
         "name": "T-shirts - Aisle",
         "type": "bar",
         "visible": false,
         "x": [
          "Aisle"
         ],
         "y": [
          25786
         ]
        },
        {
         "marker": {
          "color": "rgba(44, 160, 44, 0.6)"
         },
         "name": "T-shirts - End-cap",
         "type": "bar",
         "visible": false,
         "x": [
          "End-cap"
         ],
         "y": [
          19434
         ]
        },
        {
         "marker": {
          "color": "rgba(93, 164, 214, 0.6)"
         },
         "name": "T-shirts - Front of Store",
         "type": "bar",
         "visible": false,
         "x": [
          "Front of Store"
         ],
         "y": [
          8417
         ]
        }
       ],
       "layout": {
        "autosize": true,
        "barmode": "group",
        "template": {
         "data": {
          "bar": [
           {
            "error_x": {
             "color": "#2a3f5f"
            },
            "error_y": {
             "color": "#2a3f5f"
            },
            "marker": {
             "line": {
              "color": "#E5ECF6",
              "width": 0.5
             },
             "pattern": {
              "fillmode": "overlay",
              "size": 10,
              "solidity": 0.2
             }
            },
            "type": "bar"
           }
          ],
          "barpolar": [
           {
            "marker": {
             "line": {
              "color": "#E5ECF6",
              "width": 0.5
             },
             "pattern": {
              "fillmode": "overlay",
              "size": 10,
              "solidity": 0.2
             }
            },
            "type": "barpolar"
           }
          ],
          "carpet": [
           {
            "aaxis": {
             "endlinecolor": "#2a3f5f",
             "gridcolor": "white",
             "linecolor": "white",
             "minorgridcolor": "white",
             "startlinecolor": "#2a3f5f"
            },
            "baxis": {
             "endlinecolor": "#2a3f5f",
             "gridcolor": "white",
             "linecolor": "white",
             "minorgridcolor": "white",
             "startlinecolor": "#2a3f5f"
            },
            "type": "carpet"
           }
          ],
          "choropleth": [
           {
            "colorbar": {
             "outlinewidth": 0,
             "ticks": ""
            },
            "type": "choropleth"
           }
          ],
          "contour": [
           {
            "colorbar": {
             "outlinewidth": 0,
             "ticks": ""
            },
            "colorscale": [
             [
              0,
              "#0d0887"
             ],
             [
              0.1111111111111111,
              "#46039f"
             ],
             [
              0.2222222222222222,
              "#7201a8"
             ],
             [
              0.3333333333333333,
              "#9c179e"
             ],
             [
              0.4444444444444444,
              "#bd3786"
             ],
             [
              0.5555555555555556,
              "#d8576b"
             ],
             [
              0.6666666666666666,
              "#ed7953"
             ],
             [
              0.7777777777777778,
              "#fb9f3a"
             ],
             [
              0.8888888888888888,
              "#fdca26"
             ],
             [
              1,
              "#f0f921"
             ]
            ],
            "type": "contour"
           }
          ],
          "contourcarpet": [
           {
            "colorbar": {
             "outlinewidth": 0,
             "ticks": ""
            },
            "type": "contourcarpet"
           }
          ],
          "heatmap": [
           {
            "colorbar": {
             "outlinewidth": 0,
             "ticks": ""
            },
            "colorscale": [
             [
              0,
              "#0d0887"
             ],
             [
              0.1111111111111111,
              "#46039f"
             ],
             [
              0.2222222222222222,
              "#7201a8"
             ],
             [
              0.3333333333333333,
              "#9c179e"
             ],
             [
              0.4444444444444444,
              "#bd3786"
             ],
             [
              0.5555555555555556,
              "#d8576b"
             ],
             [
              0.6666666666666666,
              "#ed7953"
             ],
             [
              0.7777777777777778,
              "#fb9f3a"
             ],
             [
              0.8888888888888888,
              "#fdca26"
             ],
             [
              1,
              "#f0f921"
             ]
            ],
            "type": "heatmap"
           }
          ],
          "heatmapgl": [
           {
            "colorbar": {
             "outlinewidth": 0,
             "ticks": ""
            },
            "colorscale": [
             [
              0,
              "#0d0887"
             ],
             [
              0.1111111111111111,
              "#46039f"
             ],
             [
              0.2222222222222222,
              "#7201a8"
             ],
             [
              0.3333333333333333,
              "#9c179e"
             ],
             [
              0.4444444444444444,
              "#bd3786"
             ],
             [
              0.5555555555555556,
              "#d8576b"
             ],
             [
              0.6666666666666666,
              "#ed7953"
             ],
             [
              0.7777777777777778,
              "#fb9f3a"
             ],
             [
              0.8888888888888888,
              "#fdca26"
             ],
             [
              1,
              "#f0f921"
             ]
            ],
            "type": "heatmapgl"
           }
          ],
          "histogram": [
           {
            "marker": {
             "pattern": {
              "fillmode": "overlay",
              "size": 10,
              "solidity": 0.2
             }
            },
            "type": "histogram"
           }
          ],
          "histogram2d": [
           {
            "colorbar": {
             "outlinewidth": 0,
             "ticks": ""
            },
            "colorscale": [
             [
              0,
              "#0d0887"
             ],
             [
              0.1111111111111111,
              "#46039f"
             ],
             [
              0.2222222222222222,
              "#7201a8"
             ],
             [
              0.3333333333333333,
              "#9c179e"
             ],
             [
              0.4444444444444444,
              "#bd3786"
             ],
             [
              0.5555555555555556,
              "#d8576b"
             ],
             [
              0.6666666666666666,
              "#ed7953"
             ],
             [
              0.7777777777777778,
              "#fb9f3a"
             ],
             [
              0.8888888888888888,
              "#fdca26"
             ],
             [
              1,
              "#f0f921"
             ]
            ],
            "type": "histogram2d"
           }
          ],
          "histogram2dcontour": [
           {
            "colorbar": {
             "outlinewidth": 0,
             "ticks": ""
            },
            "colorscale": [
             [
              0,
              "#0d0887"
             ],
             [
              0.1111111111111111,
              "#46039f"
             ],
             [
              0.2222222222222222,
              "#7201a8"
             ],
             [
              0.3333333333333333,
              "#9c179e"
             ],
             [
              0.4444444444444444,
              "#bd3786"
             ],
             [
              0.5555555555555556,
              "#d8576b"
             ],
             [
              0.6666666666666666,
              "#ed7953"
             ],
             [
              0.7777777777777778,
              "#fb9f3a"
             ],
             [
              0.8888888888888888,
              "#fdca26"
             ],
             [
              1,
              "#f0f921"
             ]
            ],
            "type": "histogram2dcontour"
           }
          ],
          "mesh3d": [
           {
            "colorbar": {
             "outlinewidth": 0,
             "ticks": ""
            },
            "type": "mesh3d"
           }
          ],
          "parcoords": [
           {
            "line": {
             "colorbar": {
              "outlinewidth": 0,
              "ticks": ""
             }
            },
            "type": "parcoords"
           }
          ],
          "pie": [
           {
            "automargin": true,
            "type": "pie"
           }
          ],
          "scatter": [
           {
            "fillpattern": {
             "fillmode": "overlay",
             "size": 10,
             "solidity": 0.2
            },
            "type": "scatter"
           }
          ],
          "scatter3d": [
           {
            "line": {
             "colorbar": {
              "outlinewidth": 0,
              "ticks": ""
             }
            },
            "marker": {
             "colorbar": {
              "outlinewidth": 0,
              "ticks": ""
             }
            },
            "type": "scatter3d"
           }
          ],
          "scattercarpet": [
           {
            "marker": {
             "colorbar": {
              "outlinewidth": 0,
              "ticks": ""
             }
            },
            "type": "scattercarpet"
           }
          ],
          "scattergeo": [
           {
            "marker": {
             "colorbar": {
              "outlinewidth": 0,
              "ticks": ""
             }
            },
            "type": "scattergeo"
           }
          ],
          "scattergl": [
           {
            "marker": {
             "colorbar": {
              "outlinewidth": 0,
              "ticks": ""
             }
            },
            "type": "scattergl"
           }
          ],
          "scattermapbox": [
           {
            "marker": {
             "colorbar": {
              "outlinewidth": 0,
              "ticks": ""
             }
            },
            "type": "scattermapbox"
           }
          ],
          "scatterpolar": [
           {
            "marker": {
             "colorbar": {
              "outlinewidth": 0,
              "ticks": ""
             }
            },
            "type": "scatterpolar"
           }
          ],
          "scatterpolargl": [
           {
            "marker": {
             "colorbar": {
              "outlinewidth": 0,
              "ticks": ""
             }
            },
            "type": "scatterpolargl"
           }
          ],
          "scatterternary": [
           {
            "marker": {
             "colorbar": {
              "outlinewidth": 0,
              "ticks": ""
             }
            },
            "type": "scatterternary"
           }
          ],
          "surface": [
           {
            "colorbar": {
             "outlinewidth": 0,
             "ticks": ""
            },
            "colorscale": [
             [
              0,
              "#0d0887"
             ],
             [
              0.1111111111111111,
              "#46039f"
             ],
             [
              0.2222222222222222,
              "#7201a8"
             ],
             [
              0.3333333333333333,
              "#9c179e"
             ],
             [
              0.4444444444444444,
              "#bd3786"
             ],
             [
              0.5555555555555556,
              "#d8576b"
             ],
             [
              0.6666666666666666,
              "#ed7953"
             ],
             [
              0.7777777777777778,
              "#fb9f3a"
             ],
             [
              0.8888888888888888,
              "#fdca26"
             ],
             [
              1,
              "#f0f921"
             ]
            ],
            "type": "surface"
           }
          ],
          "table": [
           {
            "cells": {
             "fill": {
              "color": "#EBF0F8"
             },
             "line": {
              "color": "white"
             }
            },
            "header": {
             "fill": {
              "color": "#C8D4E3"
             },
             "line": {
              "color": "white"
             }
            },
            "type": "table"
           }
          ]
         },
         "layout": {
          "annotationdefaults": {
           "arrowcolor": "#2a3f5f",
           "arrowhead": 0,
           "arrowwidth": 1
          },
          "autotypenumbers": "strict",
          "coloraxis": {
           "colorbar": {
            "outlinewidth": 0,
            "ticks": ""
           }
          },
          "colorscale": {
           "diverging": [
            [
             0,
             "#8e0152"
            ],
            [
             0.1,
             "#c51b7d"
            ],
            [
             0.2,
             "#de77ae"
            ],
            [
             0.3,
             "#f1b6da"
            ],
            [
             0.4,
             "#fde0ef"
            ],
            [
             0.5,
             "#f7f7f7"
            ],
            [
             0.6,
             "#e6f5d0"
            ],
            [
             0.7,
             "#b8e186"
            ],
            [
             0.8,
             "#7fbc41"
            ],
            [
             0.9,
             "#4d9221"
            ],
            [
             1,
             "#276419"
            ]
           ],
           "sequential": [
            [
             0,
             "#0d0887"
            ],
            [
             0.1111111111111111,
             "#46039f"
            ],
            [
             0.2222222222222222,
             "#7201a8"
            ],
            [
             0.3333333333333333,
             "#9c179e"
            ],
            [
             0.4444444444444444,
             "#bd3786"
            ],
            [
             0.5555555555555556,
             "#d8576b"
            ],
            [
             0.6666666666666666,
             "#ed7953"
            ],
            [
             0.7777777777777778,
             "#fb9f3a"
            ],
            [
             0.8888888888888888,
             "#fdca26"
            ],
            [
             1,
             "#f0f921"
            ]
           ],
           "sequentialminus": [
            [
             0,
             "#0d0887"
            ],
            [
             0.1111111111111111,
             "#46039f"
            ],
            [
             0.2222222222222222,
             "#7201a8"
            ],
            [
             0.3333333333333333,
             "#9c179e"
            ],
            [
             0.4444444444444444,
             "#bd3786"
            ],
            [
             0.5555555555555556,
             "#d8576b"
            ],
            [
             0.6666666666666666,
             "#ed7953"
            ],
            [
             0.7777777777777778,
             "#fb9f3a"
            ],
            [
             0.8888888888888888,
             "#fdca26"
            ],
            [
             1,
             "#f0f921"
            ]
           ]
          },
          "colorway": [
           "#636efa",
           "#EF553B",
           "#00cc96",
           "#ab63fa",
           "#FFA15A",
           "#19d3f3",
           "#FF6692",
           "#B6E880",
           "#FF97FF",
           "#FECB52"
          ],
          "font": {
           "color": "#2a3f5f"
          },
          "geo": {
           "bgcolor": "white",
           "lakecolor": "white",
           "landcolor": "#E5ECF6",
           "showlakes": true,
           "showland": true,
           "subunitcolor": "white"
          },
          "hoverlabel": {
           "align": "left"
          },
          "hovermode": "closest",
          "mapbox": {
           "style": "light"
          },
          "paper_bgcolor": "white",
          "plot_bgcolor": "#E5ECF6",
          "polar": {
           "angularaxis": {
            "gridcolor": "white",
            "linecolor": "white",
            "ticks": ""
           },
           "bgcolor": "#E5ECF6",
           "radialaxis": {
            "gridcolor": "white",
            "linecolor": "white",
            "ticks": ""
           }
          },
          "scene": {
           "xaxis": {
            "backgroundcolor": "#E5ECF6",
            "gridcolor": "white",
            "gridwidth": 2,
            "linecolor": "white",
            "showbackground": true,
            "ticks": "",
            "zerolinecolor": "white"
           },
           "yaxis": {
            "backgroundcolor": "#E5ECF6",
            "gridcolor": "white",
            "gridwidth": 2,
            "linecolor": "white",
            "showbackground": true,
            "ticks": "",
            "zerolinecolor": "white"
           },
           "zaxis": {
            "backgroundcolor": "#E5ECF6",
            "gridcolor": "white",
            "gridwidth": 2,
            "linecolor": "white",
            "showbackground": true,
            "ticks": "",
            "zerolinecolor": "white"
           }
          },
          "shapedefaults": {
           "line": {
            "color": "#2a3f5f"
           }
          },
          "ternary": {
           "aaxis": {
            "gridcolor": "white",
            "linecolor": "white",
            "ticks": ""
           },
           "baxis": {
            "gridcolor": "white",
            "linecolor": "white",
            "ticks": ""
           },
           "bgcolor": "#E5ECF6",
           "caxis": {
            "gridcolor": "white",
            "linecolor": "white",
            "ticks": ""
           }
          },
          "title": {
           "x": 0.05
          },
          "xaxis": {
           "automargin": true,
           "gridcolor": "white",
           "linecolor": "white",
           "ticks": "",
           "title": {
            "standoff": 15
           },
           "zerolinecolor": "white",
           "zerolinewidth": 2
          },
          "yaxis": {
           "automargin": true,
           "gridcolor": "white",
           "linecolor": "white",
           "ticks": "",
           "title": {
            "standoff": 15
           },
           "zerolinecolor": "white",
           "zerolinewidth": 2
          }
         }
        },
        "title": {
         "text": "Total Sales by Product Location"
        },
        "updatemenus": [
         {
          "active": 1,
          "buttons": [
           {
            "args": [
             {
              "visible": [
               true,
               true,
               true,
               false,
               false,
               false,
               false,
               false,
               false,
               false,
               false,
               false,
               false,
               false,
               false
              ]
             }
            ],
            "label": "Jackets",
            "method": "update"
           },
           {
            "args": [
             {
              "visible": [
               false,
               false,
               false,
               true,
               true,
               true,
               false,
               false,
               false,
               false,
               false,
               false,
               false,
               false,
               false
              ]
             }
            ],
            "label": "Shoes",
            "method": "update"
           },
           {
            "args": [
             {
              "visible": [
               false,
               false,
               false,
               false,
               false,
               false,
               true,
               true,
               true,
               false,
               false,
               false,
               false,
               false,
               false
              ]
             }
            ],
            "label": "Sweaters",
            "method": "update"
           },
           {
            "args": [
             {
              "visible": [
               false,
               false,
               false,
               false,
               false,
               false,
               false,
               false,
               false,
               true,
               true,
               true,
               false,
               false,
               false
              ]
             }
            ],
            "label": "Jeans",
            "method": "update"
           },
           {
            "args": [
             {
              "visible": [
               false,
               false,
               false,
               false,
               false,
               false,
               false,
               false,
               false,
               false,
               false,
               false,
               true,
               true,
               true
              ]
             }
            ],
            "label": "T-shirts",
            "method": "update"
           }
          ],
          "direction": "down",
          "showactive": true,
          "x": 0.5,
          "xanchor": "center",
          "y": 1.15,
          "yanchor": "top"
         }
        ],
        "xaxis": {
         "autorange": true,
         "range": [
          -0.5,
          2.5
         ],
         "type": "category"
        },
        "yaxis": {
         "autorange": true,
         "range": [
          0,
          25696.842105263157
         ],
         "type": "linear"
        }
       }
      },
      "image/png": "[encoded data removed]",
      "text/html": [
       "<div>                            <div id=\"2f681f15-bf96-4b11-a65b-f91db29e6167\" class=\"plotly-graph-div\" style=\"height:525px; width:100%;\"></div>            <script type=\"text/javascript\">                require([\"plotly\"], function(Plotly) {                    window.PLOTLYENV=window.PLOTLYENV || {};                                    if (document.getElementById(\"2f681f15-bf96-4b11-a65b-f91db29e6167\")) {                    Plotly.newPlot(                        \"2f681f15-bf96-4b11-a65b-f91db29e6167\",                        [{\"marker\":{\"color\":\"rgba(255, 144, 14, 0.6)\"},\"name\":\"Jackets - Aisle\",\"visible\":true,\"x\":[\"Aisle\"],\"y\":[102577.0],\"type\":\"bar\"},{\"marker\":{\"color\":\"rgba(44, 160, 44, 0.6)\"},\"name\":\"Jackets - End-cap\",\"visible\":false,\"x\":[\"End-cap\"],\"y\":[77705.0],\"type\":\"bar\"},{\"marker\":{\"color\":\"rgba(93, 164, 214, 0.6)\"},\"name\":\"Jackets - Front of Store\",\"visible\":false,\"x\":[\"Front of Store\"],\"y\":[79186.0],\"type\":\"bar\"},{\"marker\":{\"color\":\"rgba(255, 144, 14, 0.6)\"},\"name\":\"Shoes - Aisle\",\"visible\":false,\"x\":[\"Aisle\"],\"y\":[24412.0],\"type\":\"bar\"},{\"marker\":{\"color\":\"rgba(44, 160, 44, 0.6)\"},\"name\":\"Shoes - End-cap\",\"visible\":false,\"x\":[\"End-cap\"],\"y\":[17906.0],\"type\":\"bar\"},{\"marker\":{\"color\":\"rgba(93, 164, 214, 0.6)\"},\"name\":\"Shoes - Front of Store\",\"visible\":false,\"x\":[\"Front of Store\"],\"y\":[15588.0],\"type\":\"bar\"},{\"marker\":{\"color\":\"rgba(255, 144, 14, 0.6)\"},\"name\":\"Sweaters - Aisle\",\"visible\":false,\"x\":[\"Aisle\"],\"y\":[20022.0],\"type\":\"bar\"},{\"marker\":{\"color\":\"rgba(44, 160, 44, 0.6)\"},\"name\":\"Sweaters - End-cap\",\"visible\":false,\"x\":[\"End-cap\"],\"y\":[32714.0],\"type\":\"bar\"},{\"marker\":{\"color\":\"rgba(93, 164, 214, 0.6)\"},\"name\":\"Sweaters - Front of Store\",\"visible\":false,\"x\":[\"Front of Store\"],\"y\":[22506.0],\"type\":\"bar\"},{\"marker\":{\"color\":\"rgba(255, 144, 14, 0.6)\"},\"name\":\"Jeans - Aisle\",\"visible\":false,\"x\":[\"Aisle\"],\"y\":[4599.0],\"type\":\"bar\"},{\"marker\":{\"color\":\"rgba(44, 160, 44, 0.6)\"},\"name\":\"Jeans - End-cap\",\"visible\":false,\"x\":[\"End-cap\"],\"y\":[5171.0],\"type\":\"bar\"},{\"marker\":{\"color\":\"rgba(93, 164, 214, 0.6)\"},\"name\":\"Jeans - Front of Store\",\"visible\":false,\"x\":[\"Front of Store\"],\"y\":[3550.0],\"type\":\"bar\"},{\"marker\":{\"color\":\"rgba(255, 144, 14, 0.6)\"},\"name\":\"T-shirts - Aisle\",\"visible\":false,\"x\":[\"Aisle\"],\"y\":[25786.0],\"type\":\"bar\"},{\"marker\":{\"color\":\"rgba(44, 160, 44, 0.6)\"},\"name\":\"T-shirts - End-cap\",\"visible\":false,\"x\":[\"End-cap\"],\"y\":[19434.0],\"type\":\"bar\"},{\"marker\":{\"color\":\"rgba(93, 164, 214, 0.6)\"},\"name\":\"T-shirts - Front of Store\",\"visible\":false,\"x\":[\"Front of Store\"],\"y\":[8417.0],\"type\":\"bar\"}],                        {\"template\":{\"data\":{\"histogram2dcontour\":[{\"type\":\"histogram2dcontour\",\"colorbar\":{\"outlinewidth\":0,\"ticks\":\"\"},\"colorscale\":[[0.0,\"#0d0887\"],[0.1111111111111111,\"#46039f\"],[0.2222222222222222,\"#7201a8\"],[0.3333333333333333,\"#9c179e\"],[0.4444444444444444,\"#bd3786\"],[0.5555555555555556,\"#d8576b\"],[0.6666666666666666,\"#ed7953\"],[0.7777777777777778,\"#fb9f3a\"],[0.8888888888888888,\"#fdca26\"],[1.0,\"#f0f921\"]]}],\"choropleth\":[{\"type\":\"choropleth\",\"colorbar\":{\"outlinewidth\":0,\"ticks\":\"\"}}],\"histogram2d\":[{\"type\":\"histogram2d\",\"colorbar\":{\"outlinewidth\":0,\"ticks\":\"\"},\"colorscale\":[[0.0,\"#0d0887\"],[0.1111111111111111,\"#46039f\"],[0.2222222222222222,\"#7201a8\"],[0.3333333333333333,\"#9c179e\"],[0.4444444444444444,\"#bd3786\"],[0.5555555555555556,\"#d8576b\"],[0.6666666666666666,\"#ed7953\"],[0.7777777777777778,\"#fb9f3a\"],[0.8888888888888888,\"#fdca26\"],[1.0,\"#f0f921\"]]}],\"heatmap\":[{\"type\":\"heatmap\",\"colorbar\":{\"outlinewidth\":0,\"ticks\":\"\"},\"colorscale\":[[0.0,\"#0d0887\"],[0.1111111111111111,\"#46039f\"],[0.2222222222222222,\"#7201a8\"],[0.3333333333333333,\"#9c179e\"],[0.4444444444444444,\"#bd3786\"],[0.5555555555555556,\"#d8576b\"],[0.6666666666666666,\"#ed7953\"],[0.7777777777777778,\"#fb9f3a\"],[0.8888888888888888,\"#fdca26\"],[1.0,\"#f0f921\"]]}],\"heatmapgl\":[{\"type\":\"heatmapgl\",\"colorbar\":{\"outlinewidth\":0,\"ticks\":\"\"},\"colorscale\":[[0.0,\"#0d0887\"],[0.1111111111111111,\"#46039f\"],[0.2222222222222222,\"#7201a8\"],[0.3333333333333333,\"#9c179e\"],[0.4444444444444444,\"#bd3786\"],[0.5555555555555556,\"#d8576b\"],[0.6666666666666666,\"#ed7953\"],[0.7777777777777778,\"#fb9f3a\"],[0.8888888888888888,\"#fdca26\"],[1.0,\"#f0f921\"]]}],\"contourcarpet\":[{\"type\":\"contourcarpet\",\"colorbar\":{\"outlinewidth\":0,\"ticks\":\"\"}}],\"contour\":[{\"type\":\"contour\",\"colorbar\":{\"outlinewidth\":0,\"ticks\":\"\"},\"colorscale\":[[0.0,\"#0d0887\"],[0.1111111111111111,\"#46039f\"],[0.2222222222222222,\"#7201a8\"],[0.3333333333333333,\"#9c179e\"],[0.4444444444444444,\"#bd3786\"],[0.5555555555555556,\"#d8576b\"],[0.6666666666666666,\"#ed7953\"],[0.7777777777777778,\"#fb9f3a\"],[0.8888888888888888,\"#fdca26\"],[1.0,\"#f0f921\"]]}],\"surface\":[{\"type\":\"surface\",\"colorbar\":{\"outlinewidth\":0,\"ticks\":\"\"},\"colorscale\":[[0.0,\"#0d0887\"],[0.1111111111111111,\"#46039f\"],[0.2222222222222222,\"#7201a8\"],[0.3333333333333333,\"#9c179e\"],[0.4444444444444444,\"#bd3786\"],[0.5555555555555556,\"#d8576b\"],[0.6666666666666666,\"#ed7953\"],[0.7777777777777778,\"#fb9f3a\"],[0.8888888888888888,\"#fdca26\"],[1.0,\"#f0f921\"]]}],\"mesh3d\":[{\"type\":\"mesh3d\",\"colorbar\":{\"outlinewidth\":0,\"ticks\":\"\"}}],\"scatter\":[{\"fillpattern\":{\"fillmode\":\"overlay\",\"size\":10,\"solidity\":0.2},\"type\":\"scatter\"}],\"parcoords\":[{\"type\":\"parcoords\",\"line\":{\"colorbar\":{\"outlinewidth\":0,\"ticks\":\"\"}}}],\"scatterpolargl\":[{\"type\":\"scatterpolargl\",\"marker\":{\"colorbar\":{\"outlinewidth\":0,\"ticks\":\"\"}}}],\"bar\":[{\"error_x\":{\"color\":\"#2a3f5f\"},\"error_y\":{\"color\":\"#2a3f5f\"},\"marker\":{\"line\":{\"color\":\"#E5ECF6\",\"width\":0.5},\"pattern\":{\"fillmode\":\"overlay\",\"size\":10,\"solidity\":0.2}},\"type\":\"bar\"}],\"scattergeo\":[{\"type\":\"scattergeo\",\"marker\":{\"colorbar\":{\"outlinewidth\":0,\"ticks\":\"\"}}}],\"scatterpolar\":[{\"type\":\"scatterpolar\",\"marker\":{\"colorbar\":{\"outlinewidth\":0,\"ticks\":\"\"}}}],\"histogram\":[{\"marker\":{\"pattern\":{\"fillmode\":\"overlay\",\"size\":10,\"solidity\":0.2}},\"type\":\"histogram\"}],\"scattergl\":[{\"type\":\"scattergl\",\"marker\":{\"colorbar\":{\"outlinewidth\":0,\"ticks\":\"\"}}}],\"scatter3d\":[{\"type\":\"scatter3d\",\"line\":{\"colorbar\":{\"outlinewidth\":0,\"ticks\":\"\"}},\"marker\":{\"colorbar\":{\"outlinewidth\":0,\"ticks\":\"\"}}}],\"scattermapbox\":[{\"type\":\"scattermapbox\",\"marker\":{\"colorbar\":{\"outlinewidth\":0,\"ticks\":\"\"}}}],\"scatterternary\":[{\"type\":\"scatterternary\",\"marker\":{\"colorbar\":{\"outlinewidth\":0,\"ticks\":\"\"}}}],\"scattercarpet\":[{\"type\":\"scattercarpet\",\"marker\":{\"colorbar\":{\"outlinewidth\":0,\"ticks\":\"\"}}}],\"carpet\":[{\"aaxis\":{\"endlinecolor\":\"#2a3f5f\",\"gridcolor\":\"white\",\"linecolor\":\"white\",\"minorgridcolor\":\"white\",\"startlinecolor\":\"#2a3f5f\"},\"baxis\":{\"endlinecolor\":\"#2a3f5f\",\"gridcolor\":\"white\",\"linecolor\":\"white\",\"minorgridcolor\":\"white\",\"startlinecolor\":\"#2a3f5f\"},\"type\":\"carpet\"}],\"table\":[{\"cells\":{\"fill\":{\"color\":\"#EBF0F8\"},\"line\":{\"color\":\"white\"}},\"header\":{\"fill\":{\"color\":\"#C8D4E3\"},\"line\":{\"color\":\"white\"}},\"type\":\"table\"}],\"barpolar\":[{\"marker\":{\"line\":{\"color\":\"#E5ECF6\",\"width\":0.5},\"pattern\":{\"fillmode\":\"overlay\",\"size\":10,\"solidity\":0.2}},\"type\":\"barpolar\"}],\"pie\":[{\"automargin\":true,\"type\":\"pie\"}]},\"layout\":{\"autotypenumbers\":\"strict\",\"colorway\":[\"#636efa\",\"#EF553B\",\"#00cc96\",\"#ab63fa\",\"#FFA15A\",\"#19d3f3\",\"#FF6692\",\"#B6E880\",\"#FF97FF\",\"#FECB52\"],\"font\":{\"color\":\"#2a3f5f\"},\"hovermode\":\"closest\",\"hoverlabel\":{\"align\":\"left\"},\"paper_bgcolor\":\"white\",\"plot_bgcolor\":\"#E5ECF6\",\"polar\":{\"bgcolor\":\"#E5ECF6\",\"angularaxis\":{\"gridcolor\":\"white\",\"linecolor\":\"white\",\"ticks\":\"\"},\"radialaxis\":{\"gridcolor\":\"white\",\"linecolor\":\"white\",\"ticks\":\"\"}},\"ternary\":{\"bgcolor\":\"#E5ECF6\",\"aaxis\":{\"gridcolor\":\"white\",\"linecolor\":\"white\",\"ticks\":\"\"},\"baxis\":{\"gridcolor\":\"white\",\"linecolor\":\"white\",\"ticks\":\"\"},\"caxis\":{\"gridcolor\":\"white\",\"linecolor\":\"white\",\"ticks\":\"\"}},\"coloraxis\":{\"colorbar\":{\"outlinewidth\":0,\"ticks\":\"\"}},\"colorscale\":{\"sequential\":[[0.0,\"#0d0887\"],[0.1111111111111111,\"#46039f\"],[0.2222222222222222,\"#7201a8\"],[0.3333333333333333,\"#9c179e\"],[0.4444444444444444,\"#bd3786\"],[0.5555555555555556,\"#d8576b\"],[0.6666666666666666,\"#ed7953\"],[0.7777777777777778,\"#fb9f3a\"],[0.8888888888888888,\"#fdca26\"],[1.0,\"#f0f921\"]],\"sequentialminus\":[[0.0,\"#0d0887\"],[0.1111111111111111,\"#46039f\"],[0.2222222222222222,\"#7201a8\"],[0.3333333333333333,\"#9c179e\"],[0.4444444444444444,\"#bd3786\"],[0.5555555555555556,\"#d8576b\"],[0.6666666666666666,\"#ed7953\"],[0.7777777777777778,\"#fb9f3a\"],[0.8888888888888888,\"#fdca26\"],[1.0,\"#f0f921\"]],\"diverging\":[[0,\"#8e0152\"],[0.1,\"#c51b7d\"],[0.2,\"#de77ae\"],[0.3,\"#f1b6da\"],[0.4,\"#fde0ef\"],[0.5,\"#f7f7f7\"],[0.6,\"#e6f5d0\"],[0.7,\"#b8e186\"],[0.8,\"#7fbc41\"],[0.9,\"#4d9221\"],[1,\"#276419\"]]},\"xaxis\":{\"gridcolor\":\"white\",\"linecolor\":\"white\",\"ticks\":\"\",\"title\":{\"standoff\":15},\"zerolinecolor\":\"white\",\"automargin\":true,\"zerolinewidth\":2},\"yaxis\":{\"gridcolor\":\"white\",\"linecolor\":\"white\",\"ticks\":\"\",\"title\":{\"standoff\":15},\"zerolinecolor\":\"white\",\"automargin\":true,\"zerolinewidth\":2},\"scene\":{\"xaxis\":{\"backgroundcolor\":\"#E5ECF6\",\"gridcolor\":\"white\",\"linecolor\":\"white\",\"showbackground\":true,\"ticks\":\"\",\"zerolinecolor\":\"white\",\"gridwidth\":2},\"yaxis\":{\"backgroundcolor\":\"#E5ECF6\",\"gridcolor\":\"white\",\"linecolor\":\"white\",\"showbackground\":true,\"ticks\":\"\",\"zerolinecolor\":\"white\",\"gridwidth\":2},\"zaxis\":{\"backgroundcolor\":\"#E5ECF6\",\"gridcolor\":\"white\",\"linecolor\":\"white\",\"showbackground\":true,\"ticks\":\"\",\"zerolinecolor\":\"white\",\"gridwidth\":2}},\"shapedefaults\":{\"line\":{\"color\":\"#2a3f5f\"}},\"annotationdefaults\":{\"arrowcolor\":\"#2a3f5f\",\"arrowhead\":0,\"arrowwidth\":1},\"geo\":{\"bgcolor\":\"white\",\"landcolor\":\"#E5ECF6\",\"subunitcolor\":\"white\",\"showland\":true,\"showlakes\":true,\"lakecolor\":\"white\"},\"title\":{\"x\":0.05},\"mapbox\":{\"style\":\"light\"}}},\"updatemenus\":[{\"buttons\":[{\"args\":[{\"visible\":[true,true,true,false,false,false,false,false,false,false,false,false,false,false,false]}],\"label\":\"Jackets\",\"method\":\"update\"},{\"args\":[{\"visible\":[false,false,false,true,true,true,false,false,false,false,false,false,false,false,false]}],\"label\":\"Shoes\",\"method\":\"update\"},{\"args\":[{\"visible\":[false,false,false,false,false,false,true,true,true,false,false,false,false,false,false]}],\"label\":\"Sweaters\",\"method\":\"update\"},{\"args\":[{\"visible\":[false,false,false,false,false,false,false,false,false,true,true,true,false,false,false]}],\"label\":\"Jeans\",\"method\":\"update\"},{\"args\":[{\"visible\":[false,false,false,false,false,false,false,false,false,false,false,false,true,true,true]}],\"label\":\"T-shirts\",\"method\":\"update\"}],\"direction\":\"down\",\"showactive\":true,\"x\":0.5,\"xanchor\":\"center\",\"y\":1.15,\"yanchor\":\"top\"}],\"title\":{\"text\":\"Total Sales by Product Location\"},\"barmode\":\"group\"},                        {\"responsive\": true}                    ).then(function(){\n",
       "                            \n",
       "var gd = document.getElementById('2f681f15-bf96-4b11-a65b-f91db29e6167');\n",
       "var x = new MutationObserver(function (mutations, observer) {{\n",
       "        var display = window.getComputedStyle(gd).display;\n",
       "        if (!display || display === 'none') {{\n",
       "            console.log([gd, 'removed!']);\n",
       "            Plotly.purge(gd);\n",
       "            observer.disconnect();\n",
       "        }}\n",
       "}});\n",
       "\n",
       "// Listen for the removal of the full notebook cells\n",
       "var notebookContainer = gd.closest('#notebook-container');\n",
       "if (notebookContainer) {{\n",
       "    x.observe(notebookContainer, {childList: true});\n",
       "}}\n",
       "\n",
       "// Listen for the clearing of the current output cell\n",
       "var outputEl = gd.closest('.output');\n",
       "if (outputEl) {{\n",
       "    x.observe(outputEl, {childList: true});\n",
       "}}\n",
       "\n",
       "                        })                };                });            </script>        </div>"
      ]
     },
     "metadata": {},
     "output_type": "display_data"
    }
   ],
   "source": [
    "data['sales_volume'] = data['sales_volume'].replace('', '', regex=True).astype(float)\n",
    "\n",
    "# Initialize the figure\n",
    "fig = go.Figure()\n",
    "\n",
    "# List of unique products and sales methods\n",
    "products = data['product_category'].unique()\n",
    "sales_methods = data['product_position'].unique()\n",
    "\n",
    "# Define a subdued color palette\n",
    "color_palette = {\n",
    "    'Front of Store': 'rgba(93, 164, 214, 0.6)',  # Light blue\n",
    "    'Aisle': 'rgba(255, 144, 14, 0.6)',          # Light orange\n",
    "    'End-cap': 'rgba(44, 160, 44, 0.6)'          # Light green\n",
    "}\n",
    "\n",
    "# Add traces for each combination of product and sales method\n",
    "for product_category in products:\n",
    "    for product_position in sales_methods:\n",
    "        filtered_df = data[(data['product_category'] == product_category) & (data['product_position'] == product_position)]\n",
    "        location_sales = filtered_df.groupby('product_position')['sales_volume'].sum().reset_index()\n",
    "\n",
    "        fig.add_trace(\n",
    "            go.Bar(\n",
    "                x=location_sales['product_position'],\n",
    "                y=location_sales['sales_volume'],\n",
    "                name=f\"{product_category} - {product_position}\",\n",
    "                visible=False,  # Initially, all traces are hidden\n",
    "                marker=dict(color=color_palette.get(product_position, 'rgba(0, 0, 0, 0.6)'))  # Default to black if not found\n",
    "            )\n",
    "        )\n",
    "\n",
    "# Update layout with dropdown menu for product categories only\n",
    "product_category_buttons = [\n",
    "    {'label': product_category, 'method': 'update', 'args': [{'visible': [trace.name.startswith(product_category) for trace in fig.data]}]}\n",
    "    for product_category in products\n",
    "]\n",
    "\n",
    "fig.update_layout(\n",
    "    updatemenus=[\n",
    "        {\n",
    "            'buttons': product_category_buttons,\n",
    "            'direction': 'down',\n",
    "            'showactive': True,\n",
    "            'x': 0.5,\n",
    "            'xanchor': 'center',\n",
    "            'y': 1.15,\n",
    "            'yanchor': 'top'\n",
    "        }\n",
    "    ],\n",
    "    title=\"Total Sales by Product Location\",\n",
    "    barmode='group'\n",
    ")\n",
    "\n",
    "# Initially displaying the first product category\n",
    "if fig.data:\n",
    "    fig.data[0].visible = True\n",
    "\n",
    "fig.show()"
   ]
  },
  {
   "cell_type": "code",
   "execution_count": 205,
   "id": "68adcee7-db6f-45b5-97fc-f7fc15286743",
   "metadata": {},
   "outputs": [
    {
     "name": "stdout",
     "output_type": "stream",
     "text": [
      "                  sales_volume  gross_margin\n",
      "product_position                            \n",
      "Aisle                 177396.0      0.951452\n",
      "End-cap               152930.0      0.954294\n",
      "Front of Store        129247.0      0.952543\n"
     ]
    }
   ],
   "source": [
    "data['sales_volume'] = data['sales_volume'].replace('', '', regex=True).astype(float)\n",
    "data['price'] = data['price'].replace('', '', regex=True).astype(float)\n",
    "\n",
    "# Segmenting and aggregating data by 'product_position'\n",
    "sales_method_grouped = data.groupby('product_position').agg({\n",
    "    'sales_volume': 'sum',\n",
    "    'price': 'sum'\n",
    "})\n",
    "\n",
    "# Calculating Gross Margin\n",
    "sales_method_grouped['gross_margin'] = (sales_method_grouped['sales_volume'] - sales_method_grouped['price']) / sales_method_grouped['sales_volume']\n",
    "# Assuming `sales_method_grouped` is your DataFrame\n",
    "sales_method_grouped = sales_method_grouped.drop(columns=['price'])\n",
    "# Display the result\n",
    "print(sales_method_grouped)"
   ]
  },
  {
   "cell_type": "markdown",
   "id": "11fdbd1c-de2c-43cc-bb2b-d988f1e05de1",
   "metadata": {},
   "source": [
    "<p style=\"font-family: 'Arial', sans-serif; font-size: 14px; font-weight: 500;\">Interpreting the above table in words for easier understanding</p>"
   ]
  },
  {
   "cell_type": "markdown",
   "id": "91602740-6c8b-4a3a-8e84-1a51ea219986",
   "metadata": {},
   "source": [
    "<p style=\"font-family: 'Arial', sans-serif; font-size: 12px; font-weight: 500;\">\n",
    "    1. Total Sales Volume: <br>\n",
    "    &nbsp;&nbsp;&nbsp;&nbsp; <strong><em>Aisle:</em></strong> <strong><em>133,396</em></strong> <br>\n",
    "    &nbsp;&nbsp;&nbsp;&nbsp; <strong><em>End-Cap:</em></strong> <strong><em>152,930</em></strong> <br>\n",
    "    &nbsp;&nbsp;&nbsp;&nbsp; <strong><em>Front of Store:</em></strong> <strong><em>129,247</em></strong> <br>\n",
    "    &nbsp;&nbsp;&nbsp;&nbsp; Aisle has the highest total sales, followed by End-Cap and Front of Store.\n",
    "    <br><br>\n",
    "    2. Gross Margin (Total Sales Volume minus Price and divided by Total Sales Volume): <br>\n",
    "    &nbsp;&nbsp;&nbsp;&nbsp; <strong><em>End-Cap:</em></strong> <strong><em>0.954294</em></strong> (or <strong><em>95.42%</em></strong>) <br>\n",
    "    &nbsp;&nbsp;&nbsp;&nbsp; <strong><em>Front of Store:</em></strong> <strong><em>0.952543</em></strong> (or <strong><em>95.25%</em></strong>) <br>\n",
    "    &nbsp;&nbsp;&nbsp;&nbsp; <strong><em>Aisle:</em></strong> <strong><em>0.951452</em></strong> (or <strong><em>95.14%</em></strong>)\n",
    "</p>\n"
   ]
  },
  {
   "cell_type": "code",
   "execution_count": null,
   "id": "36afb100-e148-4f69-a226-5f50717100b2",
   "metadata": {},
   "outputs": [],
   "source": []
  }
 ],
 "metadata": {
  "kernelspec": {
   "display_name": "Python 3 (ipykernel)",
   "language": "python",
   "name": "python3"
  },
  "language_info": {
   "codemirror_mode": {
    "name": "ipython",
    "version": 3
   },
   "file_extension": ".py",
   "mimetype": "text/x-python",
   "name": "python",
   "nbconvert_exporter": "python",
   "pygments_lexer": "ipython3",
   "version": "3.12.4"
  }
 },
 "nbformat": 4,
 "nbformat_minor": 5
}
