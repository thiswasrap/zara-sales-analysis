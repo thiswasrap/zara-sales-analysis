{
 "cells": [
  {
   "cell_type": "code",
   "execution_count": 49,
   "id": "7223a39b-266d-4c05-bad1-286e6fdc9baf",
   "metadata": {
    "scrolled": true
   },
   "outputs": [
    {
     "name": "stdout",
     "output_type": "stream",
     "text": [
      "Requirement already satisfied: plotly in c:\\users\\rflip\\anaconda3\\lib\\site-packages (5.22.0)\n",
      "Requirement already satisfied: tenacity>=6.2.0 in c:\\users\\rflip\\anaconda3\\lib\\site-packages (from plotly) (8.2.2)\n",
      "Requirement already satisfied: packaging in c:\\users\\rflip\\anaconda3\\lib\\site-packages (from plotly) (23.2)\n"
     ]
    }
   ],
   "source": [
    "!pip install plotly"
   ]
  },
  {
   "cell_type": "code",
   "execution_count": 328,
   "id": "84104e56-f0ad-4026-82f5-1bdae613d295",
   "metadata": {},
   "outputs": [],
   "source": [
    "import pandas as pd\n",
    "import matplotlib.pyplot as plt\n",
    "import plotly.express as px\n",
    "import plotly.graph_objects as go\n",
    "import seaborn as sns\n",
    "from statsmodels.tsa.seasonal import seasonal_decompose\n",
    "from statsmodels.tsa.arima.model import ARIMA\n",
    "import plotly.graph_objs as go"
   ]
  },
  {
   "cell_type": "code",
   "execution_count": 402,
   "id": "cdd8127e-c57a-4fb6-8542-7e233e7133c0",
   "metadata": {},
   "outputs": [
    {
     "data": {
      "text/html": [
       "<div>\n",
       "<style scoped>\n",
       "    .dataframe tbody tr th:only-of-type {\n",
       "        vertical-align: middle;\n",
       "    }\n",
       "\n",
       "    .dataframe tbody tr th {\n",
       "        vertical-align: top;\n",
       "    }\n",
       "\n",
       "    .dataframe thead th {\n",
       "        text-align: right;\n",
       "    }\n",
       "</style>\n",
       "<table border=\"1\" class=\"dataframe\">\n",
       "  <thead>\n",
       "    <tr style=\"text-align: right;\">\n",
       "      <th></th>\n",
       "      <th>product_id</th>\n",
       "      <th>product_position</th>\n",
       "      <th>promotion</th>\n",
       "      <th>seasonal</th>\n",
       "      <th>sales_volume</th>\n",
       "      <th>sku</th>\n",
       "      <th>name</th>\n",
       "      <th>price</th>\n",
       "      <th>scraped_at</th>\n",
       "      <th>product_category</th>\n",
       "      <th>operational_profit</th>\n",
       "    </tr>\n",
       "  </thead>\n",
       "  <tbody>\n",
       "    <tr>\n",
       "      <th>0</th>\n",
       "      <td>185102</td>\n",
       "      <td>Aisle</td>\n",
       "      <td>No</td>\n",
       "      <td>No</td>\n",
       "      <td>2823</td>\n",
       "      <td>272145190-250-2</td>\n",
       "      <td>BASIC PUFFER JACKET</td>\n",
       "      <td>20</td>\n",
       "      <td>01/01/2023 00:00</td>\n",
       "      <td>jackets</td>\n",
       "      <td>141.15</td>\n",
       "    </tr>\n",
       "    <tr>\n",
       "      <th>1</th>\n",
       "      <td>188771</td>\n",
       "      <td>Aisle</td>\n",
       "      <td>No</td>\n",
       "      <td>No</td>\n",
       "      <td>654</td>\n",
       "      <td>324052738-800-46</td>\n",
       "      <td>TUXEDO JACKET</td>\n",
       "      <td>169</td>\n",
       "      <td>03/01/2023 00:00</td>\n",
       "      <td>jackets</td>\n",
       "      <td>3.87</td>\n",
       "    </tr>\n",
       "    <tr>\n",
       "      <th>2</th>\n",
       "      <td>180176</td>\n",
       "      <td>End-cap</td>\n",
       "      <td>Yes</td>\n",
       "      <td>Yes</td>\n",
       "      <td>2220</td>\n",
       "      <td>335342680-800-44</td>\n",
       "      <td>SLIM FIT SUIT JACKET</td>\n",
       "      <td>129</td>\n",
       "      <td>05/01/2023 00:00</td>\n",
       "      <td>jackets</td>\n",
       "      <td>17.21</td>\n",
       "    </tr>\n",
       "    <tr>\n",
       "      <th>3</th>\n",
       "      <td>112917</td>\n",
       "      <td>Aisle</td>\n",
       "      <td>Yes</td>\n",
       "      <td>Yes</td>\n",
       "      <td>1568</td>\n",
       "      <td>328303236-420-44</td>\n",
       "      <td>STRETCH SUIT JACKET</td>\n",
       "      <td>129</td>\n",
       "      <td>07/01/2023 00:00</td>\n",
       "      <td>jackets</td>\n",
       "      <td>12.16</td>\n",
       "    </tr>\n",
       "    <tr>\n",
       "      <th>4</th>\n",
       "      <td>192936</td>\n",
       "      <td>End-cap</td>\n",
       "      <td>No</td>\n",
       "      <td>Yes</td>\n",
       "      <td>2942</td>\n",
       "      <td>312368260-800-2</td>\n",
       "      <td>DOUBLE FACED JACKET</td>\n",
       "      <td>139</td>\n",
       "      <td>09/01/2023 00:00</td>\n",
       "      <td>jackets</td>\n",
       "      <td>21.17</td>\n",
       "    </tr>\n",
       "  </tbody>\n",
       "</table>\n",
       "</div>"
      ],
      "text/plain": [
       "   product_id product_position promotion seasonal  sales_volume  \\\n",
       "0      185102            Aisle        No       No          2823   \n",
       "1      188771            Aisle        No       No           654   \n",
       "2      180176          End-cap       Yes      Yes          2220   \n",
       "3      112917            Aisle       Yes      Yes          1568   \n",
       "4      192936          End-cap        No      Yes          2942   \n",
       "\n",
       "                sku                  name  price        scraped_at  \\\n",
       "0   272145190-250-2   BASIC PUFFER JACKET     20  01/01/2023 00:00   \n",
       "1  324052738-800-46         TUXEDO JACKET    169  03/01/2023 00:00   \n",
       "2  335342680-800-44  SLIM FIT SUIT JACKET    129  05/01/2023 00:00   \n",
       "3  328303236-420-44   STRETCH SUIT JACKET    129  07/01/2023 00:00   \n",
       "4   312368260-800-2   DOUBLE FACED JACKET    139  09/01/2023 00:00   \n",
       "\n",
       "  product_category  operational_profit  \n",
       "0          jackets              141.15  \n",
       "1          jackets                3.87  \n",
       "2          jackets               17.21  \n",
       "3          jackets               12.16  \n",
       "4          jackets               21.17  "
      ]
     },
     "execution_count": 402,
     "metadata": {},
     "output_type": "execute_result"
    }
   ],
   "source": [
    "data = pd.read_csv('zara_2.csv')\n",
    "data.head()"
   ]
  },
  {
   "cell_type": "markdown",
   "id": "73a76b52-fca9-4e57-a0de-2cdf80917f6a",
   "metadata": {},
   "source": [
    "<p style=\"font-family: 'Arial', sans-serif; font-size: 20px; font-weight: 500;\">Business problems that can be solved using this dataset:</p>\n",
    "\n",
    "\n"
   ]
  },
  {
   "cell_type": "markdown",
   "id": "7ecd0b64-eeca-4b7c-bc0b-d2b7ec674d73",
   "metadata": {},
   "source": [
    "    1. Sales Performance Analysis: Which products are excelling in sales, and which are underperforming\n",
    "    2. Profit Margin Analysis: Does the profit margin significantly impact sales?\n",
    "    3. Efficiency of Sales Methods: Which sales product position is more effective Front of Store, Aisle or End - Cap?\n",
    "    4. Price Optimization: Is there a specific price range that achieves better sales than others?\n",
    "    5. Product Portfolio Optimization I: Determine which products are most profitable, segmented by Product Position.\n",
    "    6. Predictive Sales Analysis: Develop a forecast for monthly sales."
   ]
  },
  {
   "cell_type": "markdown",
   "id": "faac9201-b2cf-4542-8507-0dc2bdc04a3a",
   "metadata": {},
   "source": [
    "<p style=\"font-family: 'Arial', sans-serif; font-size: 20px; font-weight: 500;\">Performing Exploratory Data Analysis (EDA)</p>"
   ]
  },
  {
   "cell_type": "code",
   "execution_count": 407,
   "id": "e0c61d69-0a3e-4546-a519-ba2dc1bd8ca2",
   "metadata": {},
   "outputs": [
    {
     "data": {
      "text/plain": [
       "(213, 11)"
      ]
     },
     "execution_count": 407,
     "metadata": {},
     "output_type": "execute_result"
    }
   ],
   "source": [
    "# Show dataframe shape\n",
    "data.shape"
   ]
  },
  {
   "cell_type": "code",
   "execution_count": 514,
   "id": "f8187acf-2555-4080-8998-96ac402f6c6c",
   "metadata": {},
   "outputs": [
    {
     "data": {
      "text/plain": [
       "0"
      ]
     },
     "execution_count": 514,
     "metadata": {},
     "output_type": "execute_result"
    }
   ],
   "source": [
    "#Duplicate Rows\n",
    "data.duplicated().sum()"
   ]
  },
  {
   "cell_type": "code",
   "execution_count": 516,
   "id": "d68a8d38-af7a-4675-aebc-3869b755809a",
   "metadata": {},
   "outputs": [
    {
     "name": "stdout",
     "output_type": "stream",
     "text": [
      "<class 'pandas.core.frame.DataFrame'>\n",
      "Index: 212 entries, 0 to 212\n",
      "Data columns (total 12 columns):\n",
      " #   Column              Non-Null Count  Dtype         \n",
      "---  ------              --------------  -----         \n",
      " 0   product_id          212 non-null    int64         \n",
      " 1   product_position    212 non-null    object        \n",
      " 2   promotion           212 non-null    object        \n",
      " 3   seasonal            212 non-null    object        \n",
      " 4   sales_volume        212 non-null    float64       \n",
      " 5   sku                 212 non-null    object        \n",
      " 6   name                211 non-null    object        \n",
      " 7   price               212 non-null    float64       \n",
      " 8   scraped_at          212 non-null    datetime64[ns]\n",
      " 9   product_category    212 non-null    object        \n",
      " 10  operational_profit  212 non-null    float64       \n",
      " 11  price_range         186 non-null    category      \n",
      "dtypes: category(1), datetime64[ns](1), float64(3), int64(1), object(6)\n",
      "memory usage: 20.8+ KB\n"
     ]
    }
   ],
   "source": [
    "#Info of the dataset\n",
    "data.info()"
   ]
  },
  {
   "cell_type": "code",
   "execution_count": 411,
   "id": "6871bc72-3f91-4962-ae6c-28e0e969947c",
   "metadata": {},
   "outputs": [
    {
     "data": {
      "text/plain": [
       "product_id            0\n",
       "product_position      0\n",
       "promotion             0\n",
       "seasonal              0\n",
       "sales_volume          0\n",
       "sku                   0\n",
       "name                  1\n",
       "price                 0\n",
       "scraped_at            0\n",
       "product_category      0\n",
       "operational_profit    0\n",
       "dtype: int64"
      ]
     },
     "execution_count": 411,
     "metadata": {},
     "output_type": "execute_result"
    }
   ],
   "source": [
    "# Show the null values\n",
    "data.isnull().sum()"
   ]
  },
  {
   "cell_type": "code",
   "execution_count": 413,
   "id": "dc8cf2b0-c20d-46f8-8073-1058bd5d7237",
   "metadata": {},
   "outputs": [
    {
     "data": {
      "text/html": [
       "<div>\n",
       "<style scoped>\n",
       "    .dataframe tbody tr th:only-of-type {\n",
       "        vertical-align: middle;\n",
       "    }\n",
       "\n",
       "    .dataframe tbody tr th {\n",
       "        vertical-align: top;\n",
       "    }\n",
       "\n",
       "    .dataframe thead th {\n",
       "        text-align: right;\n",
       "    }\n",
       "</style>\n",
       "<table border=\"1\" class=\"dataframe\">\n",
       "  <thead>\n",
       "    <tr style=\"text-align: right;\">\n",
       "      <th></th>\n",
       "      <th>product_id</th>\n",
       "      <th>product_position</th>\n",
       "      <th>promotion</th>\n",
       "      <th>seasonal</th>\n",
       "      <th>sales_volume</th>\n",
       "      <th>sku</th>\n",
       "      <th>name</th>\n",
       "      <th>price</th>\n",
       "      <th>scraped_at</th>\n",
       "      <th>product_category</th>\n",
       "      <th>operational_profit</th>\n",
       "    </tr>\n",
       "  </thead>\n",
       "  <tbody>\n",
       "    <tr>\n",
       "      <th>0</th>\n",
       "      <td>185102</td>\n",
       "      <td>Aisle</td>\n",
       "      <td>No</td>\n",
       "      <td>No</td>\n",
       "      <td>2823</td>\n",
       "      <td>272145190-250-2</td>\n",
       "      <td>BASIC PUFFER JACKET</td>\n",
       "      <td>20</td>\n",
       "      <td>01/01/2023 00:00</td>\n",
       "      <td>jackets</td>\n",
       "      <td>141.15</td>\n",
       "    </tr>\n",
       "    <tr>\n",
       "      <th>1</th>\n",
       "      <td>188771</td>\n",
       "      <td>Aisle</td>\n",
       "      <td>No</td>\n",
       "      <td>No</td>\n",
       "      <td>654</td>\n",
       "      <td>324052738-800-46</td>\n",
       "      <td>TUXEDO JACKET</td>\n",
       "      <td>169</td>\n",
       "      <td>03/01/2023 00:00</td>\n",
       "      <td>jackets</td>\n",
       "      <td>3.87</td>\n",
       "    </tr>\n",
       "    <tr>\n",
       "      <th>2</th>\n",
       "      <td>180176</td>\n",
       "      <td>End-cap</td>\n",
       "      <td>Yes</td>\n",
       "      <td>Yes</td>\n",
       "      <td>2220</td>\n",
       "      <td>335342680-800-44</td>\n",
       "      <td>SLIM FIT SUIT JACKET</td>\n",
       "      <td>129</td>\n",
       "      <td>05/01/2023 00:00</td>\n",
       "      <td>jackets</td>\n",
       "      <td>17.21</td>\n",
       "    </tr>\n",
       "    <tr>\n",
       "      <th>3</th>\n",
       "      <td>112917</td>\n",
       "      <td>Aisle</td>\n",
       "      <td>Yes</td>\n",
       "      <td>Yes</td>\n",
       "      <td>1568</td>\n",
       "      <td>328303236-420-44</td>\n",
       "      <td>STRETCH SUIT JACKET</td>\n",
       "      <td>129</td>\n",
       "      <td>07/01/2023 00:00</td>\n",
       "      <td>jackets</td>\n",
       "      <td>12.16</td>\n",
       "    </tr>\n",
       "    <tr>\n",
       "      <th>4</th>\n",
       "      <td>192936</td>\n",
       "      <td>End-cap</td>\n",
       "      <td>No</td>\n",
       "      <td>Yes</td>\n",
       "      <td>2942</td>\n",
       "      <td>312368260-800-2</td>\n",
       "      <td>DOUBLE FACED JACKET</td>\n",
       "      <td>139</td>\n",
       "      <td>09/01/2023 00:00</td>\n",
       "      <td>jackets</td>\n",
       "      <td>21.17</td>\n",
       "    </tr>\n",
       "  </tbody>\n",
       "</table>\n",
       "</div>"
      ],
      "text/plain": [
       "   product_id product_position promotion seasonal  sales_volume  \\\n",
       "0      185102            Aisle        No       No          2823   \n",
       "1      188771            Aisle        No       No           654   \n",
       "2      180176          End-cap       Yes      Yes          2220   \n",
       "3      112917            Aisle       Yes      Yes          1568   \n",
       "4      192936          End-cap        No      Yes          2942   \n",
       "\n",
       "                sku                  name  price        scraped_at  \\\n",
       "0   272145190-250-2   BASIC PUFFER JACKET     20  01/01/2023 00:00   \n",
       "1  324052738-800-46         TUXEDO JACKET    169  03/01/2023 00:00   \n",
       "2  335342680-800-44  SLIM FIT SUIT JACKET    129  05/01/2023 00:00   \n",
       "3  328303236-420-44   STRETCH SUIT JACKET    129  07/01/2023 00:00   \n",
       "4   312368260-800-2   DOUBLE FACED JACKET    139  09/01/2023 00:00   \n",
       "\n",
       "  product_category  operational_profit  \n",
       "0          jackets              141.15  \n",
       "1          jackets                3.87  \n",
       "2          jackets               17.21  \n",
       "3          jackets               12.16  \n",
       "4          jackets               21.17  "
      ]
     },
     "execution_count": 413,
     "metadata": {},
     "output_type": "execute_result"
    }
   ],
   "source": [
    "# Overview of the data head\n",
    "data.head()"
   ]
  },
  {
   "cell_type": "code",
   "execution_count": 415,
   "id": "171c3124-99a9-4c28-ae2c-0ba3a1b5d3be",
   "metadata": {},
   "outputs": [
    {
     "data": {
      "text/html": [
       "<div>\n",
       "<style scoped>\n",
       "    .dataframe tbody tr th:only-of-type {\n",
       "        vertical-align: middle;\n",
       "    }\n",
       "\n",
       "    .dataframe tbody tr th {\n",
       "        vertical-align: top;\n",
       "    }\n",
       "\n",
       "    .dataframe thead th {\n",
       "        text-align: right;\n",
       "    }\n",
       "</style>\n",
       "<table border=\"1\" class=\"dataframe\">\n",
       "  <thead>\n",
       "    <tr style=\"text-align: right;\">\n",
       "      <th></th>\n",
       "      <th>product_id</th>\n",
       "      <th>product_position</th>\n",
       "      <th>promotion</th>\n",
       "      <th>seasonal</th>\n",
       "      <th>sales_volume</th>\n",
       "      <th>sku</th>\n",
       "      <th>name</th>\n",
       "      <th>price</th>\n",
       "      <th>scraped_at</th>\n",
       "      <th>product_category</th>\n",
       "      <th>operational_profit</th>\n",
       "    </tr>\n",
       "  </thead>\n",
       "  <tbody>\n",
       "    <tr>\n",
       "      <th>208</th>\n",
       "      <td>165786</td>\n",
       "      <td>End-cap</td>\n",
       "      <td>No</td>\n",
       "      <td>Yes</td>\n",
       "      <td>1278</td>\n",
       "      <td>315075917-803-2</td>\n",
       "      <td>CONTRAST INTERIOR SWEATER</td>\n",
       "      <td>60</td>\n",
       "      <td>21/02/2024 00:00</td>\n",
       "      <td>sweaters</td>\n",
       "      <td>21.30</td>\n",
       "    </tr>\n",
       "    <tr>\n",
       "      <th>209</th>\n",
       "      <td>174708</td>\n",
       "      <td>Front of Store</td>\n",
       "      <td>No</td>\n",
       "      <td>Yes</td>\n",
       "      <td>529</td>\n",
       "      <td>317889153-700-3</td>\n",
       "      <td>ABSTRACT JACQUARD SWEATER</td>\n",
       "      <td>60</td>\n",
       "      <td>23/02/2024 00:00</td>\n",
       "      <td>sweaters</td>\n",
       "      <td>8.82</td>\n",
       "    </tr>\n",
       "    <tr>\n",
       "      <th>210</th>\n",
       "      <td>142257</td>\n",
       "      <td>Aisle</td>\n",
       "      <td>Yes</td>\n",
       "      <td>Yes</td>\n",
       "      <td>1180</td>\n",
       "      <td>315241755-800-2</td>\n",
       "      <td>BASIC SLIM FIT T-SHIRT</td>\n",
       "      <td>20</td>\n",
       "      <td>25/02/2024 00:00</td>\n",
       "      <td>t-shirts</td>\n",
       "      <td>59.00</td>\n",
       "    </tr>\n",
       "    <tr>\n",
       "      <th>211</th>\n",
       "      <td>126146</td>\n",
       "      <td>Aisle</td>\n",
       "      <td>No</td>\n",
       "      <td>No</td>\n",
       "      <td>2759</td>\n",
       "      <td>320326523-707-2</td>\n",
       "      <td>CROPPED WASHED T-SHIRT</td>\n",
       "      <td>40</td>\n",
       "      <td>27/02/2024 00:00</td>\n",
       "      <td>t-shirts</td>\n",
       "      <td>68.98</td>\n",
       "    </tr>\n",
       "    <tr>\n",
       "      <th>212</th>\n",
       "      <td>129134</td>\n",
       "      <td>Aisle</td>\n",
       "      <td>No</td>\n",
       "      <td>Yes</td>\n",
       "      <td>1831</td>\n",
       "      <td>316715458-250-2</td>\n",
       "      <td>BASIC HEAVYWEIGHT T-SHIRT</td>\n",
       "      <td>30</td>\n",
       "      <td>29/02/2024 00:00</td>\n",
       "      <td>t-shirts</td>\n",
       "      <td>61.03</td>\n",
       "    </tr>\n",
       "  </tbody>\n",
       "</table>\n",
       "</div>"
      ],
      "text/plain": [
       "     product_id product_position promotion seasonal  sales_volume  \\\n",
       "208      165786          End-cap        No      Yes          1278   \n",
       "209      174708   Front of Store        No      Yes           529   \n",
       "210      142257            Aisle       Yes      Yes          1180   \n",
       "211      126146            Aisle        No       No          2759   \n",
       "212      129134            Aisle        No      Yes          1831   \n",
       "\n",
       "                 sku                       name  price        scraped_at  \\\n",
       "208  315075917-803-2  CONTRAST INTERIOR SWEATER     60  21/02/2024 00:00   \n",
       "209  317889153-700-3  ABSTRACT JACQUARD SWEATER     60  23/02/2024 00:00   \n",
       "210  315241755-800-2     BASIC SLIM FIT T-SHIRT     20  25/02/2024 00:00   \n",
       "211  320326523-707-2     CROPPED WASHED T-SHIRT     40  27/02/2024 00:00   \n",
       "212  316715458-250-2  BASIC HEAVYWEIGHT T-SHIRT     30  29/02/2024 00:00   \n",
       "\n",
       "    product_category  operational_profit  \n",
       "208         sweaters               21.30  \n",
       "209         sweaters                8.82  \n",
       "210         t-shirts               59.00  \n",
       "211         t-shirts               68.98  \n",
       "212         t-shirts               61.03  "
      ]
     },
     "execution_count": 415,
     "metadata": {},
     "output_type": "execute_result"
    }
   ],
   "source": [
    "# Overview of the data tail\n",
    "data.tail()"
   ]
  },
  {
   "cell_type": "code",
   "execution_count": 417,
   "id": "9ed7f437-9adb-433c-9b39-342683dadd58",
   "metadata": {},
   "outputs": [],
   "source": [
    "# # Remove non-numeric characters from the columns\n",
    "data['sales_volume'] = data['sales_volume'].astype(str).str.replace(r'[$, ]', '', regex=True).astype(float)\n",
    "data['price'] = data['price'].astype(str).str.replace(r'[$, ]', '', regex=True).astype(float)"
   ]
  },
  {
   "cell_type": "markdown",
   "id": "d1768d14-6892-4bfc-9c5b-bc336858eef2",
   "metadata": {},
   "source": [
    "<p style=\"font-family: 'Arial', sans-serif; font-size: 20px; font-weight: 500;\">Sales Performance Analysis: Which products are excelling in sales, and which are underperforming?</p>"
   ]
  },
  {
   "cell_type": "code",
   "execution_count": 420,
   "id": "4bf6ae1a-57c9-4a5f-b4c8-90662d29d294",
   "metadata": {},
   "outputs": [
    {
     "data": {
      "text/plain": [
       "391574.0"
      ]
     },
     "execution_count": 420,
     "metadata": {},
     "output_type": "execute_result"
    }
   ],
   "source": [
    "# First lets find out the total revenue\n",
    "total_revenue = data['sales_volume'].sum()\n",
    "total_revenue"
   ]
  },
  {
   "cell_type": "code",
   "execution_count": 422,
   "id": "e3613bca-7f1b-4e7f-aa14-4c5f72de04d9",
   "metadata": {},
   "outputs": [
    {
     "name": "stdout",
     "output_type": "stream",
     "text": [
      "Top-Performing Products:\n"
     ]
    },
    {
     "data": {
      "text/html": [
       "<div>\n",
       "<style scoped>\n",
       "    .dataframe tbody tr th:only-of-type {\n",
       "        vertical-align: middle;\n",
       "    }\n",
       "\n",
       "    .dataframe tbody tr th {\n",
       "        vertical-align: top;\n",
       "    }\n",
       "\n",
       "    .dataframe thead th {\n",
       "        text-align: right;\n",
       "    }\n",
       "</style>\n",
       "<table border=\"1\" class=\"dataframe\">\n",
       "  <thead>\n",
       "    <tr style=\"text-align: right;\">\n",
       "      <th></th>\n",
       "      <th>product_category</th>\n",
       "      <th>sales_volume</th>\n",
       "    </tr>\n",
       "  </thead>\n",
       "  <tbody>\n",
       "    <tr>\n",
       "      <th>0</th>\n",
       "      <td>jackets</td>\n",
       "      <td>244202.0</td>\n",
       "    </tr>\n",
       "    <tr>\n",
       "      <th>3</th>\n",
       "      <td>sweaters</td>\n",
       "      <td>71370.0</td>\n",
       "    </tr>\n",
       "    <tr>\n",
       "      <th>2</th>\n",
       "      <td>shoes</td>\n",
       "      <td>56912.0</td>\n",
       "    </tr>\n",
       "    <tr>\n",
       "      <th>1</th>\n",
       "      <td>jeans</td>\n",
       "      <td>13320.0</td>\n",
       "    </tr>\n",
       "    <tr>\n",
       "      <th>4</th>\n",
       "      <td>t-shirts</td>\n",
       "      <td>5770.0</td>\n",
       "    </tr>\n",
       "  </tbody>\n",
       "</table>\n",
       "</div>"
      ],
      "text/plain": [
       "  product_category  sales_volume\n",
       "0          jackets      244202.0\n",
       "3         sweaters       71370.0\n",
       "2            shoes       56912.0\n",
       "1            jeans       13320.0\n",
       "4         t-shirts        5770.0"
      ]
     },
     "execution_count": 422,
     "metadata": {},
     "output_type": "execute_result"
    }
   ],
   "source": [
    "# Aggregating total sales and units sold for each product\n",
    "product_sales = data.groupby('product_category').agg({'sales_volume': 'sum'}).reset_index()\n",
    "\n",
    "# Sorting products by total sales in descending order to identify top-performing products\n",
    "top_performing_products = product_sales.sort_values(by='sales_volume', ascending=False).head()\n",
    "\n",
    "# Displaying the results\n",
    "print(\"Top-Performing Products:\")\n",
    "top_performing_products"
   ]
  },
  {
   "cell_type": "code",
   "execution_count": 424,
   "id": "a30f0f19-eee7-44b3-937b-3e83dd793934",
   "metadata": {},
   "outputs": [
    {
     "name": "stdout",
     "output_type": "stream",
     "text": [
      "\n",
      "Underperforming Products:\n"
     ]
    },
    {
     "data": {
      "text/html": [
       "<div>\n",
       "<style scoped>\n",
       "    .dataframe tbody tr th:only-of-type {\n",
       "        vertical-align: middle;\n",
       "    }\n",
       "\n",
       "    .dataframe tbody tr th {\n",
       "        vertical-align: top;\n",
       "    }\n",
       "\n",
       "    .dataframe thead th {\n",
       "        text-align: right;\n",
       "    }\n",
       "</style>\n",
       "<table border=\"1\" class=\"dataframe\">\n",
       "  <thead>\n",
       "    <tr style=\"text-align: right;\">\n",
       "      <th></th>\n",
       "      <th>product_category</th>\n",
       "      <th>sales_volume</th>\n",
       "    </tr>\n",
       "  </thead>\n",
       "  <tbody>\n",
       "    <tr>\n",
       "      <th>4</th>\n",
       "      <td>t-shirts</td>\n",
       "      <td>5770.0</td>\n",
       "    </tr>\n",
       "    <tr>\n",
       "      <th>1</th>\n",
       "      <td>jeans</td>\n",
       "      <td>13320.0</td>\n",
       "    </tr>\n",
       "    <tr>\n",
       "      <th>2</th>\n",
       "      <td>shoes</td>\n",
       "      <td>56912.0</td>\n",
       "    </tr>\n",
       "    <tr>\n",
       "      <th>3</th>\n",
       "      <td>sweaters</td>\n",
       "      <td>71370.0</td>\n",
       "    </tr>\n",
       "    <tr>\n",
       "      <th>0</th>\n",
       "      <td>jackets</td>\n",
       "      <td>244202.0</td>\n",
       "    </tr>\n",
       "  </tbody>\n",
       "</table>\n",
       "</div>"
      ],
      "text/plain": [
       "  product_category  sales_volume\n",
       "4         t-shirts        5770.0\n",
       "1            jeans       13320.0\n",
       "2            shoes       56912.0\n",
       "3         sweaters       71370.0\n",
       "0          jackets      244202.0"
      ]
     },
     "execution_count": 424,
     "metadata": {},
     "output_type": "execute_result"
    }
   ],
   "source": [
    "# Sorting products by total sales in ascending order to identify underperforming products\n",
    "underperforming_products = product_sales.sort_values(by='sales_volume', ascending=True).head()\n",
    "\n",
    "print(\"\\nUnderperforming Products:\")\n",
    "underperforming_products"
   ]
  },
  {
   "cell_type": "markdown",
   "id": "b1ccc975-71c5-47c9-bade-88731b1c7f82",
   "metadata": {},
   "source": [
    "<p style=\"font-family: 'Arial', sans-serif; font-size: 13px; font-weight: 10;\">Insights: Jackets are the highest sold products with sales of 259,468 and the most underperforming products is Jeans with sales of 13,320</p>"
   ]
  },
  {
   "cell_type": "markdown",
   "id": "c062a23d-96be-4bee-9c7c-00af05b488f5",
   "metadata": {},
   "source": [
    "<p style=\"font-family: 'Arial', sans-serif; font-size: 20px; font-weight: 500;\">Profit Margin Analysis: Does the Opearing profit significantly impact sales?</p>"
   ]
  },
  {
   "cell_type": "code",
   "execution_count": 526,
   "id": "73b02d88-4550-4db4-b7b6-3fe841a96bf7",
   "metadata": {},
   "outputs": [
    {
     "data": {
      "text/plain": [
       "-0.47321591111766825"
      ]
     },
     "execution_count": 526,
     "metadata": {},
     "output_type": "execute_result"
    }
   ],
   "source": [
    "# We can answer the above question in the traditional long way using tables and graphs or we can also find the correlation between the Operating profit and Total Sales, if it is positive, the answer to the question is yes, and vice versa.\n",
    "\n",
    "# Correlation bewtween Operating Profit and Total Sales\n",
    "correlation = data['operational_profit'].corr(data['sales_volume'])\n",
    "correlation"
   ]
  },
  {
   "cell_type": "markdown",
   "id": "b6b5efec-52f7-408f-b8bc-925f33914de2",
   "metadata": {},
   "source": [
    "<p style=\"font-family: 'Arial', sans-serif; font-size: 20px; font-weight: 500;\">Efficiency of Sales Methods: Which sales product position is more effective Front of Store, Aisle or End - Cap?</p>"
   ]
  },
  {
   "cell_type": "code",
   "execution_count": 431,
   "id": "4e50b25a-489a-40ed-a60c-0f671e44438d",
   "metadata": {},
   "outputs": [
    {
     "data": {
      "text/plain": [
       "array(['Aisle', 'End-cap', 'Front of Store'], dtype=object)"
      ]
     },
     "execution_count": 431,
     "metadata": {},
     "output_type": "execute_result"
    }
   ],
   "source": [
    "# Finding the unique column in the df\n",
    "\n",
    "sales_method_col = data['product_position']\n",
    "unique_sales_method_col = sales_method_col.unique()\n",
    "unique_sales_method_col"
   ]
  },
  {
   "cell_type": "code",
   "execution_count": 524,
   "id": "df1d6b09-063d-4338-87eb-15ef6bb2a9fc",
   "metadata": {},
   "outputs": [
    {
     "data": {
      "image/png": "[encoded data removed]",
      "text/plain": [
       "<Figure size 1000x600 with 1 Axes>"
      ]
     },
     "metadata": {},
     "output_type": "display_data"
    }
   ],
   "source": [
    "sales_by_position = data.groupby('product_position')['sales_volume'].sum().reset_index()\n",
    "\n",
    "# Plot the results\n",
    "plt.figure(figsize=(10, 6))\n",
    "sns.barplot(x='product_position', y='sales_volume', data=sales_by_position, color='teal')  # Use 'color' instead of 'palette'\n",
    "plt.title('Sales Volume by Product Position')\n",
    "plt.xlabel('Product Position')\n",
    "plt.ylabel('Total Sales Volume')\n",
    "plt.show()"
   ]
  },
  {
   "cell_type": "code",
   "execution_count": 434,
   "id": "00caf55e-7ad5-404a-b2c4-2b8031c31565",
   "metadata": {
    "scrolled": true
   },
   "outputs": [
    {
     "data": {
      "application/vnd.plotly.v1+json": {
       "config": {
        "plotlyServerURL": "https://plot.ly"
       },
       "data": [
        {
         "marker": {
          "color": "rgba(255, 144, 14, 0.6)"
         },
         "name": "jackets - Aisle",
         "type": "bar",
         "visible": false,
         "x": [
          "Aisle"
         ],
         "y": [
          92661
         ]
        },
        {
         "marker": {
          "color": "rgba(44, 160, 44, 0.6)"
         },
         "name": "jackets - End-cap",
         "type": "bar",
         "visible": false,
         "x": [
          "End-cap"
         ],
         "y": [
          77705
         ]
        },
        {
         "marker": {
          "color": "rgba(93, 164, 214, 0.6)"
         },
         "name": "jackets - Front of Store",
         "type": "bar",
         "visible": false,
         "x": [
          "Front of Store"
         ],
         "y": [
          73836
         ]
        },
        {
         "marker": {
          "color": "rgba(255, 144, 14, 0.6)"
         },
         "name": "jeans - Aisle",
         "type": "bar",
         "visible": false,
         "x": [
          "Aisle"
         ],
         "y": [
          4599
         ]
        },
        {
         "marker": {
          "color": "rgba(44, 160, 44, 0.6)"
         },
         "name": "jeans - End-cap",
         "type": "bar",
         "visible": false,
         "x": [
          "End-cap"
         ],
         "y": [
          5171
         ]
        },
        {
         "marker": {
          "color": "rgba(93, 164, 214, 0.6)"
         },
         "name": "jeans - Front of Store",
         "type": "bar",
         "visible": false,
         "x": [
          "Front of Store"
         ],
         "y": [
          3550
         ]
        },
        {
         "marker": {
          "color": "rgba(255, 144, 14, 0.6)"
         },
         "name": "shoes - Aisle",
         "type": "bar",
         "visible": false,
         "x": [
          "Aisle"
         ],
         "y": [
          23418
         ]
        },
        {
         "marker": {
          "color": "rgba(44, 160, 44, 0.6)"
         },
         "name": "shoes - End-cap",
         "type": "bar",
         "visible": false,
         "x": [
          "End-cap"
         ],
         "y": [
          17906
         ]
        },
        {
         "marker": {
          "color": "rgba(93, 164, 214, 0.6)"
         },
         "name": "shoes - Front of Store",
         "type": "bar",
         "visible": false,
         "x": [
          "Front of Store"
         ],
         "y": [
          15588
         ]
        },
        {
         "marker": {
          "color": "rgba(255, 144, 14, 0.6)"
         },
         "name": "sweaters - Aisle",
         "type": "bar",
         "visible": true,
         "x": [
          "Aisle"
         ],
         "y": [
          18882
         ]
        },
        {
         "marker": {
          "color": "rgba(44, 160, 44, 0.6)"
         },
         "name": "sweaters - End-cap",
         "type": "bar",
         "visible": true,
         "x": [
          "End-cap"
         ],
         "y": [
          29982
         ]
        },
        {
         "marker": {
          "color": "rgba(93, 164, 214, 0.6)"
         },
         "name": "sweaters - Front of Store",
         "type": "bar",
         "visible": true,
         "x": [
          "Front of Store"
         ],
         "y": [
          22506
         ]
        },
        {
         "marker": {
          "color": "rgba(255, 144, 14, 0.6)"
         },
         "name": "t-shirts - Aisle",
         "type": "bar",
         "visible": false,
         "x": [
          "Aisle"
         ],
         "y": [
          5770
         ]
        },
        {
         "marker": {
          "color": "rgba(44, 160, 44, 0.6)"
         },
         "name": "t-shirts - End-cap",
         "type": "bar",
         "visible": false,
         "x": [],
         "y": []
        },
        {
         "marker": {
          "color": "rgba(93, 164, 214, 0.6)"
         },
         "name": "t-shirts - Front of Store",
         "type": "bar",
         "visible": false,
         "x": [],
         "y": []
        }
       ],
       "layout": {
        "autosize": true,
        "barmode": "group",
        "template": {
         "data": {
          "bar": [
           {
            "error_x": {
             "color": "#2a3f5f"
            },
            "error_y": {
             "color": "#2a3f5f"
            },
            "marker": {
             "line": {
              "color": "#E5ECF6",
              "width": 0.5
             },
             "pattern": {
              "fillmode": "overlay",
              "size": 10,
              "solidity": 0.2
             }
            },
            "type": "bar"
           }
          ],
          "barpolar": [
           {
            "marker": {
             "line": {
              "color": "#E5ECF6",
              "width": 0.5
             },
             "pattern": {
              "fillmode": "overlay",
              "size": 10,
              "solidity": 0.2
             }
            },
            "type": "barpolar"
           }
          ],
          "carpet": [
           {
            "aaxis": {
             "endlinecolor": "#2a3f5f",
             "gridcolor": "white",
             "linecolor": "white",
             "minorgridcolor": "white",
             "startlinecolor": "#2a3f5f"
            },
            "baxis": {
             "endlinecolor": "#2a3f5f",
             "gridcolor": "white",
             "linecolor": "white",
             "minorgridcolor": "white",
             "startlinecolor": "#2a3f5f"
            },
            "type": "carpet"
           }
          ],
          "choropleth": [
           {
            "colorbar": {
             "outlinewidth": 0,
             "ticks": ""
            },
            "type": "choropleth"
           }
          ],
          "contour": [
           {
            "colorbar": {
             "outlinewidth": 0,
             "ticks": ""
            },
            "colorscale": [
             [
              0,
              "#0d0887"
             ],
             [
              0.1111111111111111,
              "#46039f"
             ],
             [
              0.2222222222222222,
              "#7201a8"
             ],
             [
              0.3333333333333333,
              "#9c179e"
             ],
             [
              0.4444444444444444,
              "#bd3786"
             ],
             [
              0.5555555555555556,
              "#d8576b"
             ],
             [
              0.6666666666666666,
              "#ed7953"
             ],
             [
              0.7777777777777778,
              "#fb9f3a"
             ],
             [
              0.8888888888888888,
              "#fdca26"
             ],
             [
              1,
              "#f0f921"
             ]
            ],
            "type": "contour"
           }
          ],
          "contourcarpet": [
           {
            "colorbar": {
             "outlinewidth": 0,
             "ticks": ""
            },
            "type": "contourcarpet"
           }
          ],
          "heatmap": [
           {
            "colorbar": {
             "outlinewidth": 0,
             "ticks": ""
            },
            "colorscale": [
             [
              0,
              "#0d0887"
             ],
             [
              0.1111111111111111,
              "#46039f"
             ],
             [
              0.2222222222222222,
              "#7201a8"
             ],
             [
              0.3333333333333333,
              "#9c179e"
             ],
             [
              0.4444444444444444,
              "#bd3786"
             ],
             [
              0.5555555555555556,
              "#d8576b"
             ],
             [
              0.6666666666666666,
              "#ed7953"
             ],
             [
              0.7777777777777778,
              "#fb9f3a"
             ],
             [
              0.8888888888888888,
              "#fdca26"
             ],
             [
              1,
              "#f0f921"
             ]
            ],
            "type": "heatmap"
           }
          ],
          "heatmapgl": [
           {
            "colorbar": {
             "outlinewidth": 0,
             "ticks": ""
            },
            "colorscale": [
             [
              0,
              "#0d0887"
             ],
             [
              0.1111111111111111,
              "#46039f"
             ],
             [
              0.2222222222222222,
              "#7201a8"
             ],
             [
              0.3333333333333333,
              "#9c179e"
             ],
             [
              0.4444444444444444,
              "#bd3786"
             ],
             [
              0.5555555555555556,
              "#d8576b"
             ],
             [
              0.6666666666666666,
              "#ed7953"
             ],
             [
              0.7777777777777778,
              "#fb9f3a"
             ],
             [
              0.8888888888888888,
              "#fdca26"
             ],
             [
              1,
              "#f0f921"
             ]
            ],
            "type": "heatmapgl"
           }
          ],
          "histogram": [
           {
            "marker": {
             "pattern": {
              "fillmode": "overlay",
              "size": 10,
              "solidity": 0.2
             }
            },
            "type": "histogram"
           }
          ],
          "histogram2d": [
           {
            "colorbar": {
             "outlinewidth": 0,
             "ticks": ""
            },
            "colorscale": [
             [
              0,
              "#0d0887"
             ],
             [
              0.1111111111111111,
              "#46039f"
             ],
             [
              0.2222222222222222,
              "#7201a8"
             ],
             [
              0.3333333333333333,
              "#9c179e"
             ],
             [
              0.4444444444444444,
              "#bd3786"
             ],
             [
              0.5555555555555556,
              "#d8576b"
             ],
             [
              0.6666666666666666,
              "#ed7953"
             ],
             [
              0.7777777777777778,
              "#fb9f3a"
             ],
             [
              0.8888888888888888,
              "#fdca26"
             ],
             [
              1,
              "#f0f921"
             ]
            ],
            "type": "histogram2d"
           }
          ],
          "histogram2dcontour": [
           {
            "colorbar": {
             "outlinewidth": 0,
             "ticks": ""
            },
            "colorscale": [
             [
              0,
              "#0d0887"
             ],
             [
              0.1111111111111111,
              "#46039f"
             ],
             [
              0.2222222222222222,
              "#7201a8"
             ],
             [
              0.3333333333333333,
              "#9c179e"
             ],
             [
              0.4444444444444444,
              "#bd3786"
             ],
             [
              0.5555555555555556,
              "#d8576b"
             ],
             [
              0.6666666666666666,
              "#ed7953"
             ],
             [
              0.7777777777777778,
              "#fb9f3a"
             ],
             [
              0.8888888888888888,
              "#fdca26"
             ],
             [
              1,
              "#f0f921"
             ]
            ],
            "type": "histogram2dcontour"
           }
          ],
          "mesh3d": [
           {
            "colorbar": {
             "outlinewidth": 0,
             "ticks": ""
            },
            "type": "mesh3d"
           }
          ],
          "parcoords": [
           {
            "line": {
             "colorbar": {
              "outlinewidth": 0,
              "ticks": ""
             }
            },
            "type": "parcoords"
           }
          ],
          "pie": [
           {
            "automargin": true,
            "type": "pie"
           }
          ],
          "scatter": [
           {
            "fillpattern": {
             "fillmode": "overlay",
             "size": 10,
             "solidity": 0.2
            },
            "type": "scatter"
           }
          ],
          "scatter3d": [
           {
            "line": {
             "colorbar": {
              "outlinewidth": 0,
              "ticks": ""
             }
            },
            "marker": {
             "colorbar": {
              "outlinewidth": 0,
              "ticks": ""
             }
            },
            "type": "scatter3d"
           }
          ],
          "scattercarpet": [
           {
            "marker": {
             "colorbar": {
              "outlinewidth": 0,
              "ticks": ""
             }
            },
            "type": "scattercarpet"
           }
          ],
          "scattergeo": [
           {
            "marker": {
             "colorbar": {
              "outlinewidth": 0,
              "ticks": ""
             }
            },
            "type": "scattergeo"
           }
          ],
          "scattergl": [
           {
            "marker": {
             "colorbar": {
              "outlinewidth": 0,
              "ticks": ""
             }
            },
            "type": "scattergl"
           }
          ],
          "scattermapbox": [
           {
            "marker": {
             "colorbar": {
              "outlinewidth": 0,
              "ticks": ""
             }
            },
            "type": "scattermapbox"
           }
          ],
          "scatterpolar": [
           {
            "marker": {
             "colorbar": {
              "outlinewidth": 0,
              "ticks": ""
             }
            },
            "type": "scatterpolar"
           }
          ],
          "scatterpolargl": [
           {
            "marker": {
             "colorbar": {
              "outlinewidth": 0,
              "ticks": ""
             }
            },
            "type": "scatterpolargl"
           }
          ],
          "scatterternary": [
           {
            "marker": {
             "colorbar": {
              "outlinewidth": 0,
              "ticks": ""
             }
            },
            "type": "scatterternary"
           }
          ],
          "surface": [
           {
            "colorbar": {
             "outlinewidth": 0,
             "ticks": ""
            },
            "colorscale": [
             [
              0,
              "#0d0887"
             ],
             [
              0.1111111111111111,
              "#46039f"
             ],
             [
              0.2222222222222222,
              "#7201a8"
             ],
             [
              0.3333333333333333,
              "#9c179e"
             ],
             [
              0.4444444444444444,
              "#bd3786"
             ],
             [
              0.5555555555555556,
              "#d8576b"
             ],
             [
              0.6666666666666666,
              "#ed7953"
             ],
             [
              0.7777777777777778,
              "#fb9f3a"
             ],
             [
              0.8888888888888888,
              "#fdca26"
             ],
             [
              1,
              "#f0f921"
             ]
            ],
            "type": "surface"
           }
          ],
          "table": [
           {
            "cells": {
             "fill": {
              "color": "#EBF0F8"
             },
             "line": {
              "color": "white"
             }
            },
            "header": {
             "fill": {
              "color": "#C8D4E3"
             },
             "line": {
              "color": "white"
             }
            },
            "type": "table"
           }
          ]
         },
         "layout": {
          "annotationdefaults": {
           "arrowcolor": "#2a3f5f",
           "arrowhead": 0,
           "arrowwidth": 1
          },
          "autotypenumbers": "strict",
          "coloraxis": {
           "colorbar": {
            "outlinewidth": 0,
            "ticks": ""
           }
          },
          "colorscale": {
           "diverging": [
            [
             0,
             "#8e0152"
            ],
            [
             0.1,
             "#c51b7d"
            ],
            [
             0.2,
             "#de77ae"
            ],
            [
             0.3,
             "#f1b6da"
            ],
            [
             0.4,
             "#fde0ef"
            ],
            [
             0.5,
             "#f7f7f7"
            ],
            [
             0.6,
             "#e6f5d0"
            ],
            [
             0.7,
             "#b8e186"
            ],
            [
             0.8,
             "#7fbc41"
            ],
            [
             0.9,
             "#4d9221"
            ],
            [
             1,
             "#276419"
            ]
           ],
           "sequential": [
            [
             0,
             "#0d0887"
            ],
            [
             0.1111111111111111,
             "#46039f"
            ],
            [
             0.2222222222222222,
             "#7201a8"
            ],
            [
             0.3333333333333333,
             "#9c179e"
            ],
            [
             0.4444444444444444,
             "#bd3786"
            ],
            [
             0.5555555555555556,
             "#d8576b"
            ],
            [
             0.6666666666666666,
             "#ed7953"
            ],
            [
             0.7777777777777778,
             "#fb9f3a"
            ],
            [
             0.8888888888888888,
             "#fdca26"
            ],
            [
             1,
             "#f0f921"
            ]
           ],
           "sequentialminus": [
            [
             0,
             "#0d0887"
            ],
            [
             0.1111111111111111,
             "#46039f"
            ],
            [
             0.2222222222222222,
             "#7201a8"
            ],
            [
             0.3333333333333333,
             "#9c179e"
            ],
            [
             0.4444444444444444,
             "#bd3786"
            ],
            [
             0.5555555555555556,
             "#d8576b"
            ],
            [
             0.6666666666666666,
             "#ed7953"
            ],
            [
             0.7777777777777778,
             "#fb9f3a"
            ],
            [
             0.8888888888888888,
             "#fdca26"
            ],
            [
             1,
             "#f0f921"
            ]
           ]
          },
          "colorway": [
           "#636efa",
           "#EF553B",
           "#00cc96",
           "#ab63fa",
           "#FFA15A",
           "#19d3f3",
           "#FF6692",
           "#B6E880",
           "#FF97FF",
           "#FECB52"
          ],
          "font": {
           "color": "#2a3f5f"
          },
          "geo": {
           "bgcolor": "white",
           "lakecolor": "white",
           "landcolor": "#E5ECF6",
           "showlakes": true,
           "showland": true,
           "subunitcolor": "white"
          },
          "hoverlabel": {
           "align": "left"
          },
          "hovermode": "closest",
          "mapbox": {
           "style": "light"
          },
          "paper_bgcolor": "white",
          "plot_bgcolor": "#E5ECF6",
          "polar": {
           "angularaxis": {
            "gridcolor": "white",
            "linecolor": "white",
            "ticks": ""
           },
           "bgcolor": "#E5ECF6",
           "radialaxis": {
            "gridcolor": "white",
            "linecolor": "white",
            "ticks": ""
           }
          },
          "scene": {
           "xaxis": {
            "backgroundcolor": "#E5ECF6",
            "gridcolor": "white",
            "gridwidth": 2,
            "linecolor": "white",
            "showbackground": true,
            "ticks": "",
            "zerolinecolor": "white"
           },
           "yaxis": {
            "backgroundcolor": "#E5ECF6",
            "gridcolor": "white",
            "gridwidth": 2,
            "linecolor": "white",
            "showbackground": true,
            "ticks": "",
            "zerolinecolor": "white"
           },
           "zaxis": {
            "backgroundcolor": "#E5ECF6",
            "gridcolor": "white",
            "gridwidth": 2,
            "linecolor": "white",
            "showbackground": true,
            "ticks": "",
            "zerolinecolor": "white"
           }
          },
          "shapedefaults": {
           "line": {
            "color": "#2a3f5f"
           }
          },
          "ternary": {
           "aaxis": {
            "gridcolor": "white",
            "linecolor": "white",
            "ticks": ""
           },
           "baxis": {
            "gridcolor": "white",
            "linecolor": "white",
            "ticks": ""
           },
           "bgcolor": "#E5ECF6",
           "caxis": {
            "gridcolor": "white",
            "linecolor": "white",
            "ticks": ""
           }
          },
          "title": {
           "x": 0.05
          },
          "xaxis": {
           "automargin": true,
           "gridcolor": "white",
           "linecolor": "white",
           "ticks": "",
           "title": {
            "standoff": 15
           },
           "zerolinecolor": "white",
           "zerolinewidth": 2
          },
          "yaxis": {
           "automargin": true,
           "gridcolor": "white",
           "linecolor": "white",
           "ticks": "",
           "title": {
            "standoff": 15
           },
           "zerolinecolor": "white",
           "zerolinewidth": 2
          }
         }
        },
        "title": {
         "text": "Total Sales by Product Location"
        },
        "updatemenus": [
         {
          "active": 3,
          "buttons": [
           {
            "args": [
             {
              "visible": [
               true,
               true,
               true,
               false,
               false,
               false,
               false,
               false,
               false,
               false,
               false,
               false,
               false,
               false,
               false
              ]
             }
            ],
            "label": "jackets",
            "method": "update"
           },
           {
            "args": [
             {
              "visible": [
               false,
               false,
               false,
               true,
               true,
               true,
               false,
               false,
               false,
               false,
               false,
               false,
               false,
               false,
               false
              ]
             }
            ],
            "label": "jeans",
            "method": "update"
           },
           {
            "args": [
             {
              "visible": [
               false,
               false,
               false,
               false,
               false,
               false,
               true,
               true,
               true,
               false,
               false,
               false,
               false,
               false,
               false
              ]
             }
            ],
            "label": "shoes",
            "method": "update"
           },
           {
            "args": [
             {
              "visible": [
               false,
               false,
               false,
               false,
               false,
               false,
               false,
               false,
               false,
               true,
               true,
               true,
               false,
               false,
               false
              ]
             }
            ],
            "label": "sweaters",
            "method": "update"
           },
           {
            "args": [
             {
              "visible": [
               false,
               false,
               false,
               false,
               false,
               false,
               false,
               false,
               false,
               false,
               false,
               false,
               true,
               true,
               true
              ]
             }
            ],
            "label": "t-shirts",
            "method": "update"
           }
          ],
          "direction": "down",
          "showactive": true,
          "x": 0.5,
          "xanchor": "center",
          "y": 1.15,
          "yanchor": "top"
         }
        ],
        "xaxis": {
         "autorange": false,
         "range": [
          -0.5,
          2.5
         ],
         "type": "category"
        },
        "yaxis": {
         "autorange": false,
         "range": [
          0,
          97537.89473684209
         ],
         "type": "linear"
        }
       }
      },
      "image/png": "[encoded data removed]",
      "text/html": [
       "<div>                            <div id=\"248f8af7-10ab-4109-b415-b11cc952172c\" class=\"plotly-graph-div\" style=\"height:525px; width:100%;\"></div>            <script type=\"text/javascript\">                require([\"plotly\"], function(Plotly) {                    window.PLOTLYENV=window.PLOTLYENV || {};                                    if (document.getElementById(\"248f8af7-10ab-4109-b415-b11cc952172c\")) {                    Plotly.newPlot(                        \"248f8af7-10ab-4109-b415-b11cc952172c\",                        [{\"marker\":{\"color\":\"rgba(255, 144, 14, 0.6)\"},\"name\":\"jackets - Aisle\",\"visible\":true,\"x\":[\"Aisle\"],\"y\":[92661.0],\"type\":\"bar\"},{\"marker\":{\"color\":\"rgba(44, 160, 44, 0.6)\"},\"name\":\"jackets - End-cap\",\"visible\":false,\"x\":[\"End-cap\"],\"y\":[77705.0],\"type\":\"bar\"},{\"marker\":{\"color\":\"rgba(93, 164, 214, 0.6)\"},\"name\":\"jackets - Front of Store\",\"visible\":false,\"x\":[\"Front of Store\"],\"y\":[73836.0],\"type\":\"bar\"},{\"marker\":{\"color\":\"rgba(255, 144, 14, 0.6)\"},\"name\":\"jeans - Aisle\",\"visible\":false,\"x\":[\"Aisle\"],\"y\":[4599.0],\"type\":\"bar\"},{\"marker\":{\"color\":\"rgba(44, 160, 44, 0.6)\"},\"name\":\"jeans - End-cap\",\"visible\":false,\"x\":[\"End-cap\"],\"y\":[5171.0],\"type\":\"bar\"},{\"marker\":{\"color\":\"rgba(93, 164, 214, 0.6)\"},\"name\":\"jeans - Front of Store\",\"visible\":false,\"x\":[\"Front of Store\"],\"y\":[3550.0],\"type\":\"bar\"},{\"marker\":{\"color\":\"rgba(255, 144, 14, 0.6)\"},\"name\":\"shoes - Aisle\",\"visible\":false,\"x\":[\"Aisle\"],\"y\":[23418.0],\"type\":\"bar\"},{\"marker\":{\"color\":\"rgba(44, 160, 44, 0.6)\"},\"name\":\"shoes - End-cap\",\"visible\":false,\"x\":[\"End-cap\"],\"y\":[17906.0],\"type\":\"bar\"},{\"marker\":{\"color\":\"rgba(93, 164, 214, 0.6)\"},\"name\":\"shoes - Front of Store\",\"visible\":false,\"x\":[\"Front of Store\"],\"y\":[15588.0],\"type\":\"bar\"},{\"marker\":{\"color\":\"rgba(255, 144, 14, 0.6)\"},\"name\":\"sweaters - Aisle\",\"visible\":false,\"x\":[\"Aisle\"],\"y\":[18882.0],\"type\":\"bar\"},{\"marker\":{\"color\":\"rgba(44, 160, 44, 0.6)\"},\"name\":\"sweaters - End-cap\",\"visible\":false,\"x\":[\"End-cap\"],\"y\":[29982.0],\"type\":\"bar\"},{\"marker\":{\"color\":\"rgba(93, 164, 214, 0.6)\"},\"name\":\"sweaters - Front of Store\",\"visible\":false,\"x\":[\"Front of Store\"],\"y\":[22506.0],\"type\":\"bar\"},{\"marker\":{\"color\":\"rgba(255, 144, 14, 0.6)\"},\"name\":\"t-shirts - Aisle\",\"visible\":false,\"x\":[\"Aisle\"],\"y\":[5770.0],\"type\":\"bar\"},{\"marker\":{\"color\":\"rgba(44, 160, 44, 0.6)\"},\"name\":\"t-shirts - End-cap\",\"visible\":false,\"x\":[],\"y\":[],\"type\":\"bar\"},{\"marker\":{\"color\":\"rgba(93, 164, 214, 0.6)\"},\"name\":\"t-shirts - Front of Store\",\"visible\":false,\"x\":[],\"y\":[],\"type\":\"bar\"}],                        {\"template\":{\"data\":{\"histogram2dcontour\":[{\"type\":\"histogram2dcontour\",\"colorbar\":{\"outlinewidth\":0,\"ticks\":\"\"},\"colorscale\":[[0.0,\"#0d0887\"],[0.1111111111111111,\"#46039f\"],[0.2222222222222222,\"#7201a8\"],[0.3333333333333333,\"#9c179e\"],[0.4444444444444444,\"#bd3786\"],[0.5555555555555556,\"#d8576b\"],[0.6666666666666666,\"#ed7953\"],[0.7777777777777778,\"#fb9f3a\"],[0.8888888888888888,\"#fdca26\"],[1.0,\"#f0f921\"]]}],\"choropleth\":[{\"type\":\"choropleth\",\"colorbar\":{\"outlinewidth\":0,\"ticks\":\"\"}}],\"histogram2d\":[{\"type\":\"histogram2d\",\"colorbar\":{\"outlinewidth\":0,\"ticks\":\"\"},\"colorscale\":[[0.0,\"#0d0887\"],[0.1111111111111111,\"#46039f\"],[0.2222222222222222,\"#7201a8\"],[0.3333333333333333,\"#9c179e\"],[0.4444444444444444,\"#bd3786\"],[0.5555555555555556,\"#d8576b\"],[0.6666666666666666,\"#ed7953\"],[0.7777777777777778,\"#fb9f3a\"],[0.8888888888888888,\"#fdca26\"],[1.0,\"#f0f921\"]]}],\"heatmap\":[{\"type\":\"heatmap\",\"colorbar\":{\"outlinewidth\":0,\"ticks\":\"\"},\"colorscale\":[[0.0,\"#0d0887\"],[0.1111111111111111,\"#46039f\"],[0.2222222222222222,\"#7201a8\"],[0.3333333333333333,\"#9c179e\"],[0.4444444444444444,\"#bd3786\"],[0.5555555555555556,\"#d8576b\"],[0.6666666666666666,\"#ed7953\"],[0.7777777777777778,\"#fb9f3a\"],[0.8888888888888888,\"#fdca26\"],[1.0,\"#f0f921\"]]}],\"heatmapgl\":[{\"type\":\"heatmapgl\",\"colorbar\":{\"outlinewidth\":0,\"ticks\":\"\"},\"colorscale\":[[0.0,\"#0d0887\"],[0.1111111111111111,\"#46039f\"],[0.2222222222222222,\"#7201a8\"],[0.3333333333333333,\"#9c179e\"],[0.4444444444444444,\"#bd3786\"],[0.5555555555555556,\"#d8576b\"],[0.6666666666666666,\"#ed7953\"],[0.7777777777777778,\"#fb9f3a\"],[0.8888888888888888,\"#fdca26\"],[1.0,\"#f0f921\"]]}],\"contourcarpet\":[{\"type\":\"contourcarpet\",\"colorbar\":{\"outlinewidth\":0,\"ticks\":\"\"}}],\"contour\":[{\"type\":\"contour\",\"colorbar\":{\"outlinewidth\":0,\"ticks\":\"\"},\"colorscale\":[[0.0,\"#0d0887\"],[0.1111111111111111,\"#46039f\"],[0.2222222222222222,\"#7201a8\"],[0.3333333333333333,\"#9c179e\"],[0.4444444444444444,\"#bd3786\"],[0.5555555555555556,\"#d8576b\"],[0.6666666666666666,\"#ed7953\"],[0.7777777777777778,\"#fb9f3a\"],[0.8888888888888888,\"#fdca26\"],[1.0,\"#f0f921\"]]}],\"surface\":[{\"type\":\"surface\",\"colorbar\":{\"outlinewidth\":0,\"ticks\":\"\"},\"colorscale\":[[0.0,\"#0d0887\"],[0.1111111111111111,\"#46039f\"],[0.2222222222222222,\"#7201a8\"],[0.3333333333333333,\"#9c179e\"],[0.4444444444444444,\"#bd3786\"],[0.5555555555555556,\"#d8576b\"],[0.6666666666666666,\"#ed7953\"],[0.7777777777777778,\"#fb9f3a\"],[0.8888888888888888,\"#fdca26\"],[1.0,\"#f0f921\"]]}],\"mesh3d\":[{\"type\":\"mesh3d\",\"colorbar\":{\"outlinewidth\":0,\"ticks\":\"\"}}],\"scatter\":[{\"fillpattern\":{\"fillmode\":\"overlay\",\"size\":10,\"solidity\":0.2},\"type\":\"scatter\"}],\"parcoords\":[{\"type\":\"parcoords\",\"line\":{\"colorbar\":{\"outlinewidth\":0,\"ticks\":\"\"}}}],\"scatterpolargl\":[{\"type\":\"scatterpolargl\",\"marker\":{\"colorbar\":{\"outlinewidth\":0,\"ticks\":\"\"}}}],\"bar\":[{\"error_x\":{\"color\":\"#2a3f5f\"},\"error_y\":{\"color\":\"#2a3f5f\"},\"marker\":{\"line\":{\"color\":\"#E5ECF6\",\"width\":0.5},\"pattern\":{\"fillmode\":\"overlay\",\"size\":10,\"solidity\":0.2}},\"type\":\"bar\"}],\"scattergeo\":[{\"type\":\"scattergeo\",\"marker\":{\"colorbar\":{\"outlinewidth\":0,\"ticks\":\"\"}}}],\"scatterpolar\":[{\"type\":\"scatterpolar\",\"marker\":{\"colorbar\":{\"outlinewidth\":0,\"ticks\":\"\"}}}],\"histogram\":[{\"marker\":{\"pattern\":{\"fillmode\":\"overlay\",\"size\":10,\"solidity\":0.2}},\"type\":\"histogram\"}],\"scattergl\":[{\"type\":\"scattergl\",\"marker\":{\"colorbar\":{\"outlinewidth\":0,\"ticks\":\"\"}}}],\"scatter3d\":[{\"type\":\"scatter3d\",\"line\":{\"colorbar\":{\"outlinewidth\":0,\"ticks\":\"\"}},\"marker\":{\"colorbar\":{\"outlinewidth\":0,\"ticks\":\"\"}}}],\"scattermapbox\":[{\"type\":\"scattermapbox\",\"marker\":{\"colorbar\":{\"outlinewidth\":0,\"ticks\":\"\"}}}],\"scatterternary\":[{\"type\":\"scatterternary\",\"marker\":{\"colorbar\":{\"outlinewidth\":0,\"ticks\":\"\"}}}],\"scattercarpet\":[{\"type\":\"scattercarpet\",\"marker\":{\"colorbar\":{\"outlinewidth\":0,\"ticks\":\"\"}}}],\"carpet\":[{\"aaxis\":{\"endlinecolor\":\"#2a3f5f\",\"gridcolor\":\"white\",\"linecolor\":\"white\",\"minorgridcolor\":\"white\",\"startlinecolor\":\"#2a3f5f\"},\"baxis\":{\"endlinecolor\":\"#2a3f5f\",\"gridcolor\":\"white\",\"linecolor\":\"white\",\"minorgridcolor\":\"white\",\"startlinecolor\":\"#2a3f5f\"},\"type\":\"carpet\"}],\"table\":[{\"cells\":{\"fill\":{\"color\":\"#EBF0F8\"},\"line\":{\"color\":\"white\"}},\"header\":{\"fill\":{\"color\":\"#C8D4E3\"},\"line\":{\"color\":\"white\"}},\"type\":\"table\"}],\"barpolar\":[{\"marker\":{\"line\":{\"color\":\"#E5ECF6\",\"width\":0.5},\"pattern\":{\"fillmode\":\"overlay\",\"size\":10,\"solidity\":0.2}},\"type\":\"barpolar\"}],\"pie\":[{\"automargin\":true,\"type\":\"pie\"}]},\"layout\":{\"autotypenumbers\":\"strict\",\"colorway\":[\"#636efa\",\"#EF553B\",\"#00cc96\",\"#ab63fa\",\"#FFA15A\",\"#19d3f3\",\"#FF6692\",\"#B6E880\",\"#FF97FF\",\"#FECB52\"],\"font\":{\"color\":\"#2a3f5f\"},\"hovermode\":\"closest\",\"hoverlabel\":{\"align\":\"left\"},\"paper_bgcolor\":\"white\",\"plot_bgcolor\":\"#E5ECF6\",\"polar\":{\"bgcolor\":\"#E5ECF6\",\"angularaxis\":{\"gridcolor\":\"white\",\"linecolor\":\"white\",\"ticks\":\"\"},\"radialaxis\":{\"gridcolor\":\"white\",\"linecolor\":\"white\",\"ticks\":\"\"}},\"ternary\":{\"bgcolor\":\"#E5ECF6\",\"aaxis\":{\"gridcolor\":\"white\",\"linecolor\":\"white\",\"ticks\":\"\"},\"baxis\":{\"gridcolor\":\"white\",\"linecolor\":\"white\",\"ticks\":\"\"},\"caxis\":{\"gridcolor\":\"white\",\"linecolor\":\"white\",\"ticks\":\"\"}},\"coloraxis\":{\"colorbar\":{\"outlinewidth\":0,\"ticks\":\"\"}},\"colorscale\":{\"sequential\":[[0.0,\"#0d0887\"],[0.1111111111111111,\"#46039f\"],[0.2222222222222222,\"#7201a8\"],[0.3333333333333333,\"#9c179e\"],[0.4444444444444444,\"#bd3786\"],[0.5555555555555556,\"#d8576b\"],[0.6666666666666666,\"#ed7953\"],[0.7777777777777778,\"#fb9f3a\"],[0.8888888888888888,\"#fdca26\"],[1.0,\"#f0f921\"]],\"sequentialminus\":[[0.0,\"#0d0887\"],[0.1111111111111111,\"#46039f\"],[0.2222222222222222,\"#7201a8\"],[0.3333333333333333,\"#9c179e\"],[0.4444444444444444,\"#bd3786\"],[0.5555555555555556,\"#d8576b\"],[0.6666666666666666,\"#ed7953\"],[0.7777777777777778,\"#fb9f3a\"],[0.8888888888888888,\"#fdca26\"],[1.0,\"#f0f921\"]],\"diverging\":[[0,\"#8e0152\"],[0.1,\"#c51b7d\"],[0.2,\"#de77ae\"],[0.3,\"#f1b6da\"],[0.4,\"#fde0ef\"],[0.5,\"#f7f7f7\"],[0.6,\"#e6f5d0\"],[0.7,\"#b8e186\"],[0.8,\"#7fbc41\"],[0.9,\"#4d9221\"],[1,\"#276419\"]]},\"xaxis\":{\"gridcolor\":\"white\",\"linecolor\":\"white\",\"ticks\":\"\",\"title\":{\"standoff\":15},\"zerolinecolor\":\"white\",\"automargin\":true,\"zerolinewidth\":2},\"yaxis\":{\"gridcolor\":\"white\",\"linecolor\":\"white\",\"ticks\":\"\",\"title\":{\"standoff\":15},\"zerolinecolor\":\"white\",\"automargin\":true,\"zerolinewidth\":2},\"scene\":{\"xaxis\":{\"backgroundcolor\":\"#E5ECF6\",\"gridcolor\":\"white\",\"linecolor\":\"white\",\"showbackground\":true,\"ticks\":\"\",\"zerolinecolor\":\"white\",\"gridwidth\":2},\"yaxis\":{\"backgroundcolor\":\"#E5ECF6\",\"gridcolor\":\"white\",\"linecolor\":\"white\",\"showbackground\":true,\"ticks\":\"\",\"zerolinecolor\":\"white\",\"gridwidth\":2},\"zaxis\":{\"backgroundcolor\":\"#E5ECF6\",\"gridcolor\":\"white\",\"linecolor\":\"white\",\"showbackground\":true,\"ticks\":\"\",\"zerolinecolor\":\"white\",\"gridwidth\":2}},\"shapedefaults\":{\"line\":{\"color\":\"#2a3f5f\"}},\"annotationdefaults\":{\"arrowcolor\":\"#2a3f5f\",\"arrowhead\":0,\"arrowwidth\":1},\"geo\":{\"bgcolor\":\"white\",\"landcolor\":\"#E5ECF6\",\"subunitcolor\":\"white\",\"showland\":true,\"showlakes\":true,\"lakecolor\":\"white\"},\"title\":{\"x\":0.05},\"mapbox\":{\"style\":\"light\"}}},\"updatemenus\":[{\"buttons\":[{\"args\":[{\"visible\":[true,true,true,false,false,false,false,false,false,false,false,false,false,false,false]}],\"label\":\"jackets\",\"method\":\"update\"},{\"args\":[{\"visible\":[false,false,false,true,true,true,false,false,false,false,false,false,false,false,false]}],\"label\":\"jeans\",\"method\":\"update\"},{\"args\":[{\"visible\":[false,false,false,false,false,false,true,true,true,false,false,false,false,false,false]}],\"label\":\"shoes\",\"method\":\"update\"},{\"args\":[{\"visible\":[false,false,false,false,false,false,false,false,false,true,true,true,false,false,false]}],\"label\":\"sweaters\",\"method\":\"update\"},{\"args\":[{\"visible\":[false,false,false,false,false,false,false,false,false,false,false,false,true,true,true]}],\"label\":\"t-shirts\",\"method\":\"update\"}],\"direction\":\"down\",\"showactive\":true,\"x\":0.5,\"xanchor\":\"center\",\"y\":1.15,\"yanchor\":\"top\"}],\"title\":{\"text\":\"Total Sales by Product Location\"},\"barmode\":\"group\"},                        {\"responsive\": true}                    ).then(function(){\n",
       "                            \n",
       "var gd = document.getElementById('248f8af7-10ab-4109-b415-b11cc952172c');\n",
       "var x = new MutationObserver(function (mutations, observer) {{\n",
       "        var display = window.getComputedStyle(gd).display;\n",
       "        if (!display || display === 'none') {{\n",
       "            console.log([gd, 'removed!']);\n",
       "            Plotly.purge(gd);\n",
       "            observer.disconnect();\n",
       "        }}\n",
       "}});\n",
       "\n",
       "// Listen for the removal of the full notebook cells\n",
       "var notebookContainer = gd.closest('#notebook-container');\n",
       "if (notebookContainer) {{\n",
       "    x.observe(notebookContainer, {childList: true});\n",
       "}}\n",
       "\n",
       "// Listen for the clearing of the current output cell\n",
       "var outputEl = gd.closest('.output');\n",
       "if (outputEl) {{\n",
       "    x.observe(outputEl, {childList: true});\n",
       "}}\n",
       "\n",
       "                        })                };                });            </script>        </div>"
      ]
     },
     "metadata": {},
     "output_type": "display_data"
    }
   ],
   "source": [
    "data['sales_volume'] = data['sales_volume'].replace('', '', regex=True).astype(float)\n",
    "\n",
    "# Initialize the figure\n",
    "fig = go.Figure()\n",
    "\n",
    "# List of unique products and sales methods\n",
    "products = data['product_category'].unique()\n",
    "sales_methods = data['product_position'].unique()\n",
    "\n",
    "# Define a subdued color palette\n",
    "color_palette = {\n",
    "    'Front of Store': 'rgba(93, 164, 214, 0.6)',  # Light blue\n",
    "    'Aisle': 'rgba(255, 144, 14, 0.6)',          # Light orange\n",
    "    'End-cap': 'rgba(44, 160, 44, 0.6)'          # Light green\n",
    "}\n",
    "\n",
    "# Add traces for each combination of product and sales method\n",
    "for product_category in products:\n",
    "    for product_position in sales_methods:\n",
    "        filtered_df = data[(data['product_category'] == product_category) & (data['product_position'] == product_position)]\n",
    "        location_sales = filtered_df.groupby('product_position')['sales_volume'].sum().reset_index()\n",
    "\n",
    "        fig.add_trace(\n",
    "            go.Bar(\n",
    "                x=location_sales['product_position'],\n",
    "                y=location_sales['sales_volume'],\n",
    "                name=f\"{product_category} - {product_position}\",\n",
    "                visible=False,  # Initially, all traces are hidden\n",
    "                marker=dict(color=color_palette.get(product_position, 'rgba(0, 0, 0, 0.6)'))  # Default to black if not found\n",
    "            )\n",
    "        )\n",
    "\n",
    "# Update layout with dropdown menu for product categories only\n",
    "product_category_buttons = [\n",
    "    {'label': product_category, 'method': 'update', 'args': [{'visible': [trace.name.startswith(product_category) for trace in fig.data]}]}\n",
    "    for product_category in products\n",
    "]\n",
    "\n",
    "fig.update_layout(\n",
    "    updatemenus=[\n",
    "        {\n",
    "            'buttons': product_category_buttons,\n",
    "            'direction': 'down',\n",
    "            'showactive': True,\n",
    "            'x': 0.5,\n",
    "            'xanchor': 'center',\n",
    "            'y': 1.15,\n",
    "            'yanchor': 'top'\n",
    "        }\n",
    "    ],\n",
    "    title=\"Total Sales by Product Location\",\n",
    "    barmode='group'\n",
    ")\n",
    "\n",
    "# Initially displaying the first product category\n",
    "if fig.data:\n",
    "    fig.data[0].visible = True\n",
    "\n",
    "fig.show()"
   ]
  },
  {
   "cell_type": "code",
   "execution_count": 436,
   "id": "13895135-8d7d-4913-9dbf-6eeec94dcd3e",
   "metadata": {},
   "outputs": [
    {
     "name": "stdout",
     "output_type": "stream",
     "text": [
      "                  sales_volume  gross_margin\n",
      "product_position                            \n",
      "Aisle                 145330.0      0.952205\n",
      "End-cap               130764.0      0.953076\n",
      "Front of Store        115480.0      0.951403\n"
     ]
    }
   ],
   "source": [
    "data['sales_volume'] = data['sales_volume'].replace('', '', regex=True).astype(float)\n",
    "data['price'] = data['price'].replace('', '', regex=True).astype(float)\n",
    "\n",
    "# Segmenting and aggregating data by 'product_position'\n",
    "sales_method_grouped = data.groupby('product_position').agg({\n",
    "    'sales_volume': 'sum',\n",
    "    'price': 'sum'\n",
    "})\n",
    "\n",
    "# Calculating Gross Margin\n",
    "sales_method_grouped['gross_margin'] = (sales_method_grouped['sales_volume'] - sales_method_grouped['price']) / sales_method_grouped['sales_volume']\n",
    "# Assuming `sales_method_grouped` is your DataFrame\n",
    "sales_method_grouped = sales_method_grouped.drop(columns=['price'])\n",
    "# Display the result\n",
    "print(sales_method_grouped)"
   ]
  },
  {
   "cell_type": "markdown",
   "id": "11fdbd1c-de2c-43cc-bb2b-d988f1e05de1",
   "metadata": {},
   "source": [
    "<p style=\"font-family: 'Arial', sans-serif; font-size: 14px; font-weight: 500;\">Interpreting the above table in words for easier understanding</p>"
   ]
  },
  {
   "cell_type": "markdown",
   "id": "91602740-6c8b-4a3a-8e84-1a51ea219986",
   "metadata": {},
   "source": [
    "<p style=\"font-family: 'Arial', sans-serif; font-size: 12px; font-weight: 500;\">\n",
    "    1. Total Sales Volume: <br>\n",
    "    &nbsp;&nbsp;&nbsp;&nbsp; <strong><em>Aisle:</em></strong> <strong><em>145,330</em></strong> <br>\n",
    "    &nbsp;&nbsp;&nbsp;&nbsp; <strong><em>End-Cap:</em></strong> <strong><em>110,764</em></strong> <br>\n",
    "    &nbsp;&nbsp;&nbsp;&nbsp; <strong><em>Front of Store:</em></strong> <strong><em>115,480</em></strong> <br>\n",
    "    &nbsp;&nbsp;&nbsp;&nbsp; Aisle has the highest total sales, followed by End-Cap and Front of Store.\n",
    "    <br><br>\n",
    "    2. Gross Margin (Total Sales Volume minus Price and divided by Total Sales Volume): <br>\n",
    "    &nbsp;&nbsp;&nbsp;&nbsp; <strong><em>End-Cap:</em></strong> <strong><em>0.953076</em></strong> (or <strong><em>95.30%</em></strong>) <br>\n",
    "    &nbsp;&nbsp;&nbsp;&nbsp; <strong><em>Front of Store:</em></strong> <strong><em>0.952205</em></strong> (or <strong><em>95.22%</em></strong>) <br>\n",
    "    &nbsp;&nbsp;&nbsp;&nbsp; <strong><em>Aisle:</em></strong> <strong><em>0.951403</em></strong> (or <strong><em>95.14%</em></strong>)\n",
    "</p>\n"
   ]
  },
  {
   "cell_type": "markdown",
   "id": "cd6c55c7-4573-4949-b426-4779e07696e8",
   "metadata": {},
   "source": [
    "Here, while in Aisle sales have the highest total sales and profit, end - cap have the highest gross margin, indicating a higher profitability relative to the sales generated. Insights: In terms of Total Sales Volume and Gross Margin: Aisle sales method is the most effective, generating the hightest total sales.\n",
    "\n",
    "When deciding which sales method is more effective, it depends on what the business prioritizes. If the focus is on the maximizing total revenue and profit, then Aisle sales are more effective.\n"
   ]
  },
  {
   "cell_type": "markdown",
   "id": "63bd9a0b-7a1b-412e-934a-c161c0c99c12",
   "metadata": {},
   "source": [
    "<p style=\"font-family: 'Arial', sans-serif; font-size: 20px; font-weight: 500;\">Price Optimization: Is there a specific price range that achieves better sales than others?</p>"
   ]
  },
  {
   "cell_type": "code",
   "execution_count": 443,
   "id": "fcc5971f-fd68-45f8-877c-c299b3002df4",
   "metadata": {},
   "outputs": [
    {
     "name": "stderr",
     "output_type": "stream",
     "text": [
      "C:\\Users\\rflip\\AppData\\Local\\Temp\\ipykernel_3132\\705407451.py:7: FutureWarning:\n",
      "\n",
      "The default of observed=False is deprecated and will be changed to True in a future version of pandas. Pass observed=False to retain current behavior or observed=True to adopt the future default and silence this warning.\n",
      "\n"
     ]
    },
    {
     "data": {
      "text/html": [
       "<div>\n",
       "<style scoped>\n",
       "    .dataframe tbody tr th:only-of-type {\n",
       "        vertical-align: middle;\n",
       "    }\n",
       "\n",
       "    .dataframe tbody tr th {\n",
       "        vertical-align: top;\n",
       "    }\n",
       "\n",
       "    .dataframe thead th {\n",
       "        text-align: right;\n",
       "    }\n",
       "</style>\n",
       "<table border=\"1\" class=\"dataframe\">\n",
       "  <thead>\n",
       "    <tr style=\"text-align: right;\">\n",
       "      <th></th>\n",
       "      <th>price_range</th>\n",
       "      <th>sales_volume</th>\n",
       "    </tr>\n",
       "  </thead>\n",
       "  <tbody>\n",
       "    <tr>\n",
       "      <th>8</th>\n",
       "      <td>(80, 90]</td>\n",
       "      <td>67398.0</td>\n",
       "    </tr>\n",
       "    <tr>\n",
       "      <th>6</th>\n",
       "      <td>(60, 70]</td>\n",
       "      <td>58734.0</td>\n",
       "    </tr>\n",
       "    <tr>\n",
       "      <th>4</th>\n",
       "      <td>(40, 50]</td>\n",
       "      <td>45271.0</td>\n",
       "    </tr>\n",
       "    <tr>\n",
       "      <th>10</th>\n",
       "      <td>(100, 110]</td>\n",
       "      <td>33103.0</td>\n",
       "    </tr>\n",
       "    <tr>\n",
       "      <th>5</th>\n",
       "      <td>(50, 60]</td>\n",
       "      <td>32592.0</td>\n",
       "    </tr>\n",
       "    <tr>\n",
       "      <th>12</th>\n",
       "      <td>(120, 130]</td>\n",
       "      <td>28599.0</td>\n",
       "    </tr>\n",
       "    <tr>\n",
       "      <th>1</th>\n",
       "      <td>(10, 20]</td>\n",
       "      <td>19620.0</td>\n",
       "    </tr>\n",
       "    <tr>\n",
       "      <th>3</th>\n",
       "      <td>(30, 40]</td>\n",
       "      <td>17131.0</td>\n",
       "    </tr>\n",
       "    <tr>\n",
       "      <th>7</th>\n",
       "      <td>(70, 80]</td>\n",
       "      <td>16575.0</td>\n",
       "    </tr>\n",
       "    <tr>\n",
       "      <th>9</th>\n",
       "      <td>(90, 100]</td>\n",
       "      <td>11019.0</td>\n",
       "    </tr>\n",
       "    <tr>\n",
       "      <th>0</th>\n",
       "      <td>(0, 10]</td>\n",
       "      <td>8332.0</td>\n",
       "    </tr>\n",
       "    <tr>\n",
       "      <th>2</th>\n",
       "      <td>(20, 30]</td>\n",
       "      <td>7538.0</td>\n",
       "    </tr>\n",
       "    <tr>\n",
       "      <th>11</th>\n",
       "      <td>(110, 120]</td>\n",
       "      <td>0.0</td>\n",
       "    </tr>\n",
       "  </tbody>\n",
       "</table>\n",
       "</div>"
      ],
      "text/plain": [
       "   price_range  sales_volume\n",
       "8     (80, 90]       67398.0\n",
       "6     (60, 70]       58734.0\n",
       "4     (40, 50]       45271.0\n",
       "10  (100, 110]       33103.0\n",
       "5     (50, 60]       32592.0\n",
       "12  (120, 130]       28599.0\n",
       "1     (10, 20]       19620.0\n",
       "3     (30, 40]       17131.0\n",
       "7     (70, 80]       16575.0\n",
       "9    (90, 100]       11019.0\n",
       "0      (0, 10]        8332.0\n",
       "2     (20, 30]        7538.0\n",
       "11  (110, 120]           0.0"
      ]
     },
     "execution_count": 443,
     "metadata": {},
     "output_type": "execute_result"
    }
   ],
   "source": [
    "# Define the price bins\n",
    "bins = [0, 10, 20, 30, 40, 50, 60, 70, 80, 90, 100, 110, 120, 130]\n",
    "# Create a new column for the price range\n",
    "data['price_range'] = pd.cut(data['price'], bins)\n",
    "\n",
    "# Group by the price range and sum the total sales\n",
    "sales_by_price_range = data.groupby('price_range')['sales_volume'].sum().reset_index()\n",
    "\n",
    "# Sorting the results to see which price range has the highest sales\n",
    "sorted_sales_by_price_range = sales_by_price_range.sort_values(by='sales_volume', ascending=False)\n",
    "\n",
    "# Results are sorted based on Total Sales \n",
    "sorted_sales_by_price_range"
   ]
  },
  {
   "cell_type": "markdown",
   "id": "92df1cbc-ac23-44cc-a4d8-d827cc33b698",
   "metadata": {},
   "source": [
    "<p style=\"font-family: 'Arial', sans-serif; font-size: 14px; font-weight: bold;\">Interpreting the above table in words for easier understanding</p>"
   ]
  },
  {
   "cell_type": "markdown",
   "id": "ec61777d-aae4-4236-9e88-7d20eefa306d",
   "metadata": {},
   "source": [
    "1. The highest total sales are in the price range of 80 to 90 ($67,398), indicating that products priced within this range are very popular or in high demand \n",
    "\n",
    "2. The next highest sales are in the price ranges of 60 to 70 ($58,734) and 40 to 50 ($45,271). These ranges also appear to be effecctive in terms of sales\n",
    "   \n",
    "3. The lowest sales figures are observed in the extreme high end (110 to 120) and low end (0,10) of the price spectrum."
   ]
  },
  {
   "cell_type": "markdown",
   "id": "57fbde87-240b-4fbe-a132-4316c4503f50",
   "metadata": {},
   "source": [
    "<p style=\"font-family: 'Arial', sans-serif; font-size: 14px; font-weight: bold;\">Insights:</p>"
   ]
  },
  {
   "cell_type": "markdown",
   "id": "6e450ea9-3210-4912-8be2-be864b4562dd",
   "metadata": {},
   "source": [
    "* Products priced in the mid to high range (specifically between 80 and 110) seem to be achieving the best sales. This could indicate a sweet spot for pricing where customers are more willing to purchase.\n",
    "* Very low-priced products (below 20). This might be due to various factors like perceived value, product quality, target customer segment, or availability.\n",
    "* The 110 to 120 range shows no sales, indicating there are no products in this range or no demand for the product at this price point."
   ]
  },
  {
   "cell_type": "markdown",
   "id": "4c530321-1227-4928-89a4-1c4a2cdbe70d",
   "metadata": {},
   "source": [
    "<p style=\"font-family: 'Arial', sans-serif; font-size: 14px; font-weight: bold;\">Conclusion:</p>"
   ]
  },
  {
   "cell_type": "markdown",
   "id": "5b242771-8f7c-4e32-b741-d51d98a314a7",
   "metadata": {},
   "source": [
    "* A specific price range, notably between 40 to 90, does achieve better sales compared to other ranges.\n",
    "* Understanding the reasons behind this trend would require additional qualitative analysis, such as customer preferences, product types within each price range, market competition and promotional strategies.\n",
    "* This insight can be useful for pricing strategies, inventory management and marketing campaigns. Focusing more on the price ranges that have shown higher sa"
   ]
  },
  {
   "cell_type": "markdown",
   "id": "36c75227-e1a3-46e1-af8b-43e097a80c67",
   "metadata": {},
   "source": [
    "<p style=\"font-family: 'Arial', sans-serif; font-size: 20px; font-weight: 500;\"> Product Portfolio Optimization: Determine which products are most profitable, segmented by Product Location.</p>"
   ]
  },
  {
   "cell_type": "code",
   "execution_count": 510,
   "id": "4a553237-8de0-4676-948d-8c629bf724d2",
   "metadata": {},
   "outputs": [
    {
     "data": {
      "text/html": [
       "<div>\n",
       "<style scoped>\n",
       "    .dataframe tbody tr th:only-of-type {\n",
       "        vertical-align: middle;\n",
       "    }\n",
       "\n",
       "    .dataframe tbody tr th {\n",
       "        vertical-align: top;\n",
       "    }\n",
       "\n",
       "    .dataframe thead th {\n",
       "        text-align: right;\n",
       "    }\n",
       "</style>\n",
       "<table border=\"1\" class=\"dataframe\">\n",
       "  <thead>\n",
       "    <tr style=\"text-align: right;\">\n",
       "      <th></th>\n",
       "      <th>product_position</th>\n",
       "      <th>product_category</th>\n",
       "      <th>operational_profit</th>\n",
       "      <th>sales_volume</th>\n",
       "      <th>profit_margin</th>\n",
       "    </tr>\n",
       "  </thead>\n",
       "  <tbody>\n",
       "    <tr>\n",
       "      <th>1</th>\n",
       "      <td>Aisle</td>\n",
       "      <td>jeans</td>\n",
       "      <td>171.25</td>\n",
       "      <td>4599.0</td>\n",
       "      <td>0.372364</td>\n",
       "    </tr>\n",
       "    <tr>\n",
       "      <th>2</th>\n",
       "      <td>Aisle</td>\n",
       "      <td>shoes</td>\n",
       "      <td>789.87</td>\n",
       "      <td>23418.0</td>\n",
       "      <td>0.337292</td>\n",
       "    </tr>\n",
       "    <tr>\n",
       "      <th>4</th>\n",
       "      <td>Aisle</td>\n",
       "      <td>t-shirts</td>\n",
       "      <td>189.01</td>\n",
       "      <td>5770.0</td>\n",
       "      <td>0.327574</td>\n",
       "    </tr>\n",
       "    <tr>\n",
       "      <th>3</th>\n",
       "      <td>Aisle</td>\n",
       "      <td>sweaters</td>\n",
       "      <td>366.35</td>\n",
       "      <td>18882.0</td>\n",
       "      <td>0.194021</td>\n",
       "    </tr>\n",
       "    <tr>\n",
       "      <th>0</th>\n",
       "      <td>Aisle</td>\n",
       "      <td>jackets</td>\n",
       "      <td>1300.97</td>\n",
       "      <td>91612.0</td>\n",
       "      <td>0.142009</td>\n",
       "    </tr>\n",
       "    <tr>\n",
       "      <th>8</th>\n",
       "      <td>End-cap</td>\n",
       "      <td>sweaters</td>\n",
       "      <td>765.22</td>\n",
       "      <td>29982.0</td>\n",
       "      <td>0.255226</td>\n",
       "    </tr>\n",
       "    <tr>\n",
       "      <th>6</th>\n",
       "      <td>End-cap</td>\n",
       "      <td>jeans</td>\n",
       "      <td>81.16</td>\n",
       "      <td>5171.0</td>\n",
       "      <td>0.156952</td>\n",
       "    </tr>\n",
       "    <tr>\n",
       "      <th>7</th>\n",
       "      <td>End-cap</td>\n",
       "      <td>shoes</td>\n",
       "      <td>268.09</td>\n",
       "      <td>17906.0</td>\n",
       "      <td>0.149721</td>\n",
       "    </tr>\n",
       "    <tr>\n",
       "      <th>5</th>\n",
       "      <td>End-cap</td>\n",
       "      <td>jackets</td>\n",
       "      <td>896.89</td>\n",
       "      <td>77705.0</td>\n",
       "      <td>0.115422</td>\n",
       "    </tr>\n",
       "    <tr>\n",
       "      <th>12</th>\n",
       "      <td>Front of Store</td>\n",
       "      <td>sweaters</td>\n",
       "      <td>828.09</td>\n",
       "      <td>22506.0</td>\n",
       "      <td>0.367942</td>\n",
       "    </tr>\n",
       "    <tr>\n",
       "      <th>11</th>\n",
       "      <td>Front of Store</td>\n",
       "      <td>shoes</td>\n",
       "      <td>232.97</td>\n",
       "      <td>15588.0</td>\n",
       "      <td>0.149455</td>\n",
       "    </tr>\n",
       "    <tr>\n",
       "      <th>9</th>\n",
       "      <td>Front of Store</td>\n",
       "      <td>jackets</td>\n",
       "      <td>1009.05</td>\n",
       "      <td>73836.0</td>\n",
       "      <td>0.136661</td>\n",
       "    </tr>\n",
       "    <tr>\n",
       "      <th>10</th>\n",
       "      <td>Front of Store</td>\n",
       "      <td>jeans</td>\n",
       "      <td>43.22</td>\n",
       "      <td>3550.0</td>\n",
       "      <td>0.121746</td>\n",
       "    </tr>\n",
       "  </tbody>\n",
       "</table>\n",
       "</div>"
      ],
      "text/plain": [
       "   product_position product_category  operational_profit  sales_volume  \\\n",
       "1             Aisle            jeans              171.25        4599.0   \n",
       "2             Aisle            shoes              789.87       23418.0   \n",
       "4             Aisle         t-shirts              189.01        5770.0   \n",
       "3             Aisle         sweaters              366.35       18882.0   \n",
       "0             Aisle          jackets             1300.97       91612.0   \n",
       "8           End-cap         sweaters              765.22       29982.0   \n",
       "6           End-cap            jeans               81.16        5171.0   \n",
       "7           End-cap            shoes              268.09       17906.0   \n",
       "5           End-cap          jackets              896.89       77705.0   \n",
       "12   Front of Store         sweaters              828.09       22506.0   \n",
       "11   Front of Store            shoes              232.97       15588.0   \n",
       "9    Front of Store          jackets             1009.05       73836.0   \n",
       "10   Front of Store            jeans               43.22        3550.0   \n",
       "\n",
       "    profit_margin  \n",
       "1        0.372364  \n",
       "2        0.337292  \n",
       "4        0.327574  \n",
       "3        0.194021  \n",
       "0        0.142009  \n",
       "8        0.255226  \n",
       "6        0.156952  \n",
       "7        0.149721  \n",
       "5        0.115422  \n",
       "12       0.367942  \n",
       "11       0.149455  \n",
       "9        0.136661  \n",
       "10       0.121746  "
      ]
     },
     "execution_count": 510,
     "metadata": {},
     "output_type": "execute_result"
    }
   ],
   "source": [
    "# Grouping data by Position and product category\n",
    "grouped_data = data.groupby(['product_position', 'product_category']).agg({'operational_profit': 'sum', 'sales_volume': 'sum'}).reset_index()\n",
    "\n",
    "# Calculating Profit Margin\n",
    "grouped_data['profit_margin'] = grouped_data['operational_profit']*10/ grouped_data['sales_volume']\n",
    "\n",
    "# Sorting within each location to find the most profitable products\n",
    "grouped_data.sort_values(by=['product_position', 'profit_margin'], ascending=[True, False], inplace=True)\n",
    "\n",
    "# Optionally, display the top 5 most profitable products for each city\n",
    "top_products_by_position = grouped_data.groupby('product_position').head(5)\n",
    "\n",
    "top_products_by_position"
   ]
  },
  {
   "cell_type": "markdown",
   "id": "1100ba4b-ed62-448e-9374-f017777ca6a4",
   "metadata": {},
   "source": [
    "<p style=\"font-family: 'Arial', sans-serif; font-size: 14px; font-weight: bold;\">Sales and Profitability Analysis by Product Position</p>"
   ]
  },
  {
   "cell_type": "markdown",
   "id": "8edd57c8-6bee-46e7-8733-55c715ec0f5d",
   "metadata": {},
   "source": [
    " <strong><em>Profitability Insight:</em></strong>"
   ]
  },
  {
   "cell_type": "markdown",
   "id": "2e90abbb-dc2f-4a9a-9d74-efe0fcc7cb01",
   "metadata": {},
   "source": [
    "In Aisle, 'Jackets' and 'T-Shirts' are highly profitable, with profit margins around 37% and 33%, respectively. Front of Store shows a different trend with 'Jackets', 'Jeans', 'Shoes', 'Sweaters' and 'T-Shirts' lagging in profitablity,each around 20%."
   ]
  },
  {
   "cell_type": "markdown",
   "id": "9cc11554-c081-4be3-a0fb-8b81a371672d",
   "metadata": {},
   "source": [
    " <strong><em>Sales Perfomance Insights:</em></strong>"
   ]
  },
  {
   "cell_type": "markdown",
   "id": "d0dffc40-f2d5-466b-b644-9bb61ff321aa",
   "metadata": {},
   "source": [
    "Sales of 'Jackets', indicating a strong market for these products. Aisle and End-Cap are top performers for 'Jackets', respectively. Front of Store consistently shows the lowest sales across various products, suggesting limited market penetration or demand."
   ]
  },
  {
   "cell_type": "markdown",
   "id": "a1418f2e-b049-42c8-bdc7-29a5da81c796",
   "metadata": {},
   "source": [
    " <strong><em>Overall Implications:</em></strong>"
   ]
  },
  {
   "cell_type": "markdown",
   "id": "24a2e73f-4524-4541-9d2b-43fa4ede5896",
   "metadata": {},
   "source": [
    "Product popularity and profitability vary significantly by position, indicating the need for tailored marketing and sales strategies in different position. The contrasting trends between positions like Aisle, Front of Sales and End-Cap  highlight diverse consumer preferences, underscoring the importance of a position-specific approach in sales and marketing strategies."
   ]
  },
  {
   "cell_type": "markdown",
   "id": "f6199530-531e-4f76-aa89-2d292289422f",
   "metadata": {},
   "source": [
    "<p style=\"font-family: 'Arial', sans-serif; font-size: 20px; font-weight: 500;\"> Time Series Analysis: Investigate whether there has been a consistent sales trend over time or any noticeable monthly trends.</p>"
   ]
  },
  {
   "cell_type": "code",
   "execution_count": 480,
   "id": "6fe5419a-9d64-4d2f-83f6-a47e2c377ac9",
   "metadata": {},
   "outputs": [
    {
     "data": {
      "image/png": "[encoded data removed]",
      "text/plain": [
       "<Figure size 1200x700 with 1 Axes>"
      ]
     },
     "metadata": {},
     "output_type": "display_data"
    }
   ],
   "source": [
    "data['scraped_at'] = pd.to_datetime(data['scraped_at'], errors='coerce', dayfirst=True)\n",
    "\n",
    "# Handle any rows where the date conversion failed\n",
    "# Optionally, you can drop or fill NaT values if necessary\n",
    "data = data.dropna(subset=['scraped_at'])\n",
    "\n",
    "# Group by month and calculate total sales for each month\n",
    "monthly_sales = data.groupby(data['scraped_at'].dt.to_period('M'))['sales_volume'].sum()\n",
    "\n",
    "# Convert the index (which is of type 'Period') to DateTime objects\n",
    "monthly_sales.index = monthly_sales.index.to_timestamp()\n",
    "\n",
    "# Setting the style for a more aesthetic plot\n",
    "sns.set(style=\"whitegrid\")\n",
    "\n",
    "# Plotting the sales trends over time\n",
    "plt.figure(figsize=(12, 7))\n",
    "plt.plot(monthly_sales.index, monthly_sales.values, marker='o', color='teal', linestyle='-', linewidth=2)\n",
    "plt.xlabel('Month', fontsize=12)\n",
    "plt.ylabel('Total Sales', fontsize=12)\n",
    "plt.title('Monthly Sales Trends', fontsize=14)\n",
    "plt.xticks(rotation=0)\n",
    "plt.tick_params(axis='both', which='major', labelsize=10)\n",
    "plt.tight_layout()\n",
    "plt.show()"
   ]
  },
  {
   "cell_type": "code",
   "execution_count": 482,
   "id": "6a7e9e44-149e-4778-bbd7-c1d1ac899ee3",
   "metadata": {},
   "outputs": [
    {
     "name": "stdout",
     "output_type": "stream",
     "text": [
      "These sales do not follow a seasonality.\n",
      "There is no consistent trend in sales.\n"
     ]
    }
   ],
   "source": [
    "# Calculate the difference between consecutive months for trend analysis\n",
    "diff = monthly_sales.diff()\n",
    "\n",
    "# Define the threshold for significant change (seasonality)\n",
    "seasonality_threshold = 10000\n",
    "\n",
    "# Check for seasonality\n",
    "if (diff.abs() > seasonality_threshold).any():\n",
    "    print(\"These sales follow a seasonality.\")\n",
    "else:\n",
    "    print(\"These sales do not follow a seasonality.\")\n",
    "\n",
    "# Check for trend\n",
    "if (diff > 0).all():\n",
    "    print(\"There is an increasing trend in sales.\")\n",
    "elif (diff < 0).all():\n",
    "    print(\"There is a decreasing trend in sales.\")\n",
    "else:\n",
    "    print(\"There is no consistent trend in sales.\")"
   ]
  },
  {
   "cell_type": "markdown",
   "id": "66ed459d-7dbb-4fb7-bb97-d9507f672d2d",
   "metadata": {},
   "source": [
    "<p style=\"font-family: 'Arial', sans-serif; font-size: 14px; font-weight: bold;\">Summary:</p>"
   ]
  },
  {
   "cell_type": "markdown",
   "id": "6f7559ee-edba-4648-9af3-1aa8808b853b",
   "metadata": {},
   "source": [
    "Monthly sales data from January 2023 to February 2024 exhibit significant variability peaks around October 2023 and consistent decreases in November 2023. The data show a general downward sales, despite some notable dips."
   ]
  },
  {
   "cell_type": "markdown",
   "id": "336eadcf-e9b4-44dd-b65a-8e0ba968f905",
   "metadata": {},
   "source": [
    "<p style=\"font-family: 'Arial', sans-serif; font-size: 14px; font-weight: bold;\">Insight:</p>"
   ]
  },
  {
   "cell_type": "markdown",
   "id": "edc1c0bc-4f0f-4851-9b2b-68ccf2ba1f1a",
   "metadata": {},
   "source": [
    "The observed seasonal patterns, with sales spikes and dips, highlight the importance of understanding customer purchasing behavior and the impact of seasonality sales. By leveraging these insights, bussinesses can align their marketing efforts, inventory managementm and resource allocation with anticipated periods of high demand, ensuring that opportunities are maximized during peak seasons. This strategic approach can lead to better preparation for demand surges, improved customer satisfaction and overall enhanced business perfomances."
   ]
  },
  {
   "cell_type": "markdown",
   "id": "b949b30d-d7c9-4d14-9162-f516344c3d56",
   "metadata": {},
   "source": [
    "<p style=\"font-family: 'Arial', sans-serif; font-size: 20px; font-weight: 500;\"> Predictive Sales Analysis: Develop a forecast for monthly sales.</p>"
   ]
  },
  {
   "cell_type": "code",
   "execution_count": 540,
   "id": "cbc1c6e0-b29a-4e70-a46a-48e06e399342",
   "metadata": {
    "scrolled": true
   },
   "outputs": [
    {
     "name": "stderr",
     "output_type": "stream",
     "text": [
      "C:\\Users\\rflip\\anaconda3\\Lib\\site-packages\\statsmodels\\tsa\\statespace\\sarimax.py:966: UserWarning:\n",
      "\n",
      "Non-stationary starting autoregressive parameters found. Using zeros as starting parameters.\n",
      "\n"
     ]
    },
    {
     "data": {
      "image/png": "[encoded data removed]",
      "text/plain": [
       "<Figure size 1200x600 with 1 Axes>"
      ]
     },
     "metadata": {},
     "output_type": "display_data"
    }
   ],
   "source": [
    "model = ARIMA(monthly_sales, order=(2,1,2))\n",
    "model_fit = model.fit(method_kwargs={\"maxiter\": 500})  # Increase the number of iterations\n",
    "\n",
    "# Make predictions for the next 12 months\n",
    "forecast_steps = 12\n",
    "forecast = model_fit.forecast(steps=forecast_steps)\n",
    "\n",
    "# Visualize the actual sales data and the forecasted values for the next months\n",
    "plt.figure(figsize=(12, 6))\n",
    "plt.plot(monthly_sales.index, monthly_sales.values, marker='o', label='Actual Sales')\n",
    "plt.plot(pd.date_range(start=monthly_sales.index[-1], periods=forecast_steps+1, freq='ME')[1:], forecast, marker='o', label='Forecasted Sales')\n",
    "plt.xlabel('Date')\n",
    "plt.ylabel('Total Sales')\n",
    "plt.title('Monthly Sales Forecast')\n",
    "plt.legend()\n",
    "plt.xticks(rotation=0)\n",
    "plt.grid(True)\n",
    "plt.show()"
   ]
  },
  {
   "cell_type": "code",
   "execution_count": null,
   "id": "646089a0-76f2-4597-b1b3-1634573dbd5b",
   "metadata": {},
   "outputs": [],
   "source": []
  }
 ],
 "metadata": {
  "kernelspec": {
   "display_name": "Python 3 (ipykernel)",
   "language": "python",
   "name": "python3"
  },
  "language_info": {
   "codemirror_mode": {
    "name": "ipython",
    "version": 3
   },
   "file_extension": ".py",
   "mimetype": "text/x-python",
   "name": "python",
   "nbconvert_exporter": "python",
   "pygments_lexer": "ipython3",
   "version": "3.12.4"
  }
 },
 "nbformat": 4,
 "nbformat_minor": 5
}
